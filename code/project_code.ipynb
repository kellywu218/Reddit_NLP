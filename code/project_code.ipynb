{
 "cells": [
  {
   "cell_type": "markdown",
   "metadata": {},
   "source": [
    "# Project 3: Web APIs and NLP\n",
    "_By: Kelly Wu (NYC - Tensors)_"
   ]
  },
  {
   "cell_type": "markdown",
   "metadata": {},
   "source": [
    "## Problem Statement\n",
    "After a huge success from releaseing Mario Kart Tour, Nintendo is about to release another interation of Mario Kart and wants to utilize their social media presence to create buzz. The marketing department has come up with the use of a hashtag! However, the office has become split about what hashtag to use. Some say to just use \"Mario Kart\" because it's known, some are arguing that \"Mario Kart\" too general for this new release, others are just throwing random words to spice things up like \"Luigi Kart,\" \"Mushroom Race,\" and \"Mario Drive.\" With a divided office, they managed to all agree on one thing: hire an analyst to help them decide. What word should be the marketing hashtag for the upcoming Mario Kart? \n",
    "\n",
    "## Executive Summary\n",
    "We begin our process by going to the home of topic conversations: Reddit. There we decided to choose two popular Mario game subreddits: Mario Kart and Smash Bros Ultimate. From those two subreddits, we began by gathering our data through webscraping via 10 request pulls and converting all our findings into a nice data frame to work with in our analysis (which can be found in a separate notebook in the code folder). Afterwards, we saved and exportd our nicely converted data to be imported into a new notebook to begin a cleaning and exploratory data analysis to fix any immediately noticeable values that wouldn't be beneficial to us. \n",
    "\n",
    "Here we searched for any outliers and null values that we decided to drop from our dataset as they were only a minute number of rows in our overall collected data. In the end, we had abotu 1850 rows from the Mario Kart subreddit and 1450 rows from the Smash Bros Ultimate subreddit. Next we decided to focus on the titles as we figured that you always get grabbed by a title before actually reading the content. So we dived into lemmatizing-to pull root words from the title words- and count vectorizing to determine the frequency of certain words-single words and consecutive pair words. Afterwards, we looked at the frequency with consideration of an existing set of English stop words to reduce any \"noise\" (as we don't want common words like \"the\" or \"a\" showing up on our list). \n",
    "\n",
    "After discovering our potential hashtag words, we went on to a modeling process to see if we could find the best model in prediciting whether it can classify certain titles into the correct subreddit. Our goal here is that we want don't want to select a hashtag that is too ambiguous and won't have an immediate recognition to Mario Kart. Therefore, we have our second subreddit, which is slightly similar, to see how accurate our potential hashtag may be in representing the upcoming Mario Kart and not being confused for Smash Bros Ultimate. Through modeling we explore Naive Bayes and Classifier models and play with some of the hyperparameters to tune and find the best model and come to our conclusion.\n",
    "\n",
    "\n",
    "## Contents\n",
    "- [Imports](#Imports)\n",
    "    - [Import Libraries](#Import-Libraries)\n",
    "    - [Import Cleaned Data](#Import-Cleaned-Data)\n",
    "- [Exploratory Data Analysis and Preprocessing](#Exploratory-Data-Analysis-and-Preprocessing)\n",
    "    - [Outliers and Null Values](#Outliers-and-Null-Values)\n",
    "    - [Lemmatizing](#Lemmatizing)\n",
    "    - [Count Vectorizer](#Count-Vectorizer)\n",
    "        - [Frequency of Single Gram via Count Vectorizer](#Frequency-of-Single-Gram-via-Count-Vectorizer)\n",
    "        - [Frequency of Bigrams via Count Vectorizer](#Frequency-of-Bigrams-via-Count-Vectorizer)\n",
    "    - [Stop Words](#Stop-Words)\n",
    "        - [Single Gram](#Single-Gram)\n",
    "        - [Bigram](#Bigram)\n",
    "    - [Visualizations](#Visualizations)\n",
    "- [Modeling](#Modeling)\n",
    "    - [Combining Data Frames](#Combining-Data-Frames)\n",
    "    - [Creating Our Variables](#Creating-Our-Variables)\n",
    "    - [Baseline](#Baseline)\n",
    "    - [Naive Bayes](#Naive-Bayes)\n",
    "    - [Bernoulli Naive Bayes](#Bernoulli-Naive-Bayes)\n",
    "        - [Bernoulli NB Confusion Matrix](#Bernoulli-NB-Confusion-Matrix)\n",
    "    - [Multinomial Naive Bayes](#Multinomial-Naive-Bayes)\n",
    "        - [Multinomial NB Confusion Matrix](#Multinomial-NB-Confusion-Matrix)\n",
    "    - [Classifiers](#Classifiers)\n",
    "        - [Logistic Regression](#Logistic-Regression)\n",
    "            - [Logistic Regression Confusion Matrix](#Logisitic-Regression-Confusion-Matrix)\n",
    "        - [AdaBoost](#AdaBoost)\n",
    "            - [AdaBoost Confusion Matrix](#AdaBoost-Confusion-Matrix)\n",
    "    - [Determining Our Best Model](#Determining-Our-Best-Model)\n",
    "        - [Comparing Model Scores](#Comparing-Model-Scores)\n",
    "        - [Comparing Model Confusion Matrices](#Comparing-Model-Confusion-Matrices)\n",
    "- [Outside Research](#Outside-Research)\n",
    "- [Conclusion and Recommendations](#Conclusion-and-Recommendations)"
   ]
  },
  {
   "cell_type": "markdown",
   "metadata": {},
   "source": [
    "### Imports\n",
    "\n",
    "#### Import Libraries"
   ]
  },
  {
   "cell_type": "code",
   "execution_count": 1,
   "metadata": {},
   "outputs": [],
   "source": [
    "import numpy as np\n",
    "import pandas as pd\n",
    "import regex as re\n",
    "import matplotlib.pyplot as plt\n",
    "%matplotlib inline\n",
    "\n",
    "from nltk.corpus import stopwords\n",
    "from nltk.tokenize import RegexpTokenizer\n",
    "from nltk.stem import WordNetLemmatizer\n",
    "\n",
    "from sklearn.feature_extraction.text import CountVectorizer, TfidfVectorizer\n",
    "from sklearn.model_selection import train_test_split, cross_val_score, GridSearchCV\n",
    "from sklearn.naive_bayes import BernoulliNB, MultinomialNB\n",
    "from sklearn.pipeline import Pipeline\n",
    "from sklearn.ensemble import AdaBoostClassifier\n",
    "from sklearn.svm import SVC\n",
    "from sklearn.linear_model import LogisticRegression\n",
    "from sklearn.metrics import confusion_matrix, accuracy_score"
   ]
  },
  {
   "cell_type": "markdown",
   "metadata": {},
   "source": [
    "#### Import Cleaned Data"
   ]
  },
  {
   "cell_type": "code",
   "execution_count": 2,
   "metadata": {},
   "outputs": [],
   "source": [
    "mario_kart = pd.read_csv('../datasets/mariokart.csv')\n",
    "smash = pd.read_csv('../datasets/smashultimate.csv')"
   ]
  },
  {
   "cell_type": "markdown",
   "metadata": {},
   "source": [
    "### Exploratory Data Analysis and Preprocessing"
   ]
  },
  {
   "cell_type": "markdown",
   "metadata": {},
   "source": [
    "#### Outliers and Null Values"
   ]
  },
  {
   "cell_type": "code",
   "execution_count": 3,
   "metadata": {},
   "outputs": [
    {
     "data": {
      "text/plain": [
       "title         0\n",
       "selftext     99\n",
       "subreddit     0\n",
       "dtype: int64"
      ]
     },
     "execution_count": 3,
     "metadata": {},
     "output_type": "execute_result"
    }
   ],
   "source": [
    "mario_kart.isna().sum()"
   ]
  },
  {
   "cell_type": "code",
   "execution_count": 4,
   "metadata": {},
   "outputs": [
    {
     "data": {
      "text/plain": [
       "title         0\n",
       "selftext     24\n",
       "subreddit     0\n",
       "dtype: int64"
      ]
     },
     "execution_count": 4,
     "metadata": {},
     "output_type": "execute_result"
    }
   ],
   "source": [
    "smash.isna().sum()"
   ]
  },
  {
   "cell_type": "code",
   "execution_count": 5,
   "metadata": {},
   "outputs": [
    {
     "name": "stdout",
     "output_type": "stream",
     "text": [
      "(1857, 3)\n",
      "(1453, 3)\n"
     ]
    }
   ],
   "source": [
    "print(mario_kart.shape)\n",
    "print(smash.shape)"
   ]
  },
  {
   "cell_type": "code",
   "execution_count": 6,
   "metadata": {},
   "outputs": [
    {
     "data": {
      "text/plain": [
       "851     \"The Inserted SD card does not contain CTGP-R....\n",
       "768     (4th of 4 surveys) How does esports improve th...\n",
       "1673    (Hyduken) Super MarioKart Hyper street kart 20...\n",
       "150     (I know Nintendo is Hosting a Tournament at th...\n",
       "149     (I know Nintendo is Hosting a tournament atm o...\n",
       "                              ...                        \n",
       "1681    {Hyduken} Super Mario Kart Hyper Street Kart 2...\n",
       "313                           {MK7] Tips for Time Trials.\n",
       "1808                       {MKWii} ctww wont load on ctgp\n",
       "1103                        “Fire Hopping” and “Snaking”?\n",
       "1157                                                    🐕\n",
       "Name: title, Length: 1857, dtype: object"
      ]
     },
     "execution_count": 6,
     "metadata": {},
     "output_type": "execute_result"
    }
   ],
   "source": [
    "mario_kart['title'].sort_values()"
   ]
  },
  {
   "cell_type": "code",
   "execution_count": 7,
   "metadata": {},
   "outputs": [],
   "source": [
    "mario_kart.drop(index = 1157, inplace = True)"
   ]
  },
  {
   "cell_type": "code",
   "execution_count": 8,
   "metadata": {},
   "outputs": [
    {
     "data": {
      "text/plain": [
       "851     \"The Inserted SD card does not contain CTGP-R....\n",
       "768     (4th of 4 surveys) How does esports improve th...\n",
       "1673    (Hyduken) Super MarioKart Hyper street kart 20...\n",
       "150     (I know Nintendo is Hosting a Tournament at th...\n",
       "149     (I know Nintendo is Hosting a tournament atm o...\n",
       "                              ...                        \n",
       "98                                   who are your mains ?\n",
       "1681    {Hyduken} Super Mario Kart Hyper Street Kart 2...\n",
       "313                           {MK7] Tips for Time Trials.\n",
       "1808                       {MKWii} ctww wont load on ctgp\n",
       "1103                        “Fire Hopping” and “Snaking”?\n",
       "Name: title, Length: 1856, dtype: object"
      ]
     },
     "execution_count": 8,
     "metadata": {},
     "output_type": "execute_result"
    }
   ],
   "source": [
    "mario_kart['title'].sort_values()"
   ]
  },
  {
   "cell_type": "code",
   "execution_count": 9,
   "metadata": {},
   "outputs": [],
   "source": [
    "# https://stackoverflow.com/questions/20490274/how-to-reset-index-in-a-pandas-dataframe\n",
    "mario_kart = mario_kart.reset_index(drop = True)"
   ]
  },
  {
   "cell_type": "code",
   "execution_count": 10,
   "metadata": {},
   "outputs": [
    {
     "data": {
      "text/plain": [
       "(1856, 3)"
      ]
     },
     "execution_count": 10,
     "metadata": {},
     "output_type": "execute_result"
    }
   ],
   "source": [
    "mario_kart.shape"
   ]
  },
  {
   "cell_type": "code",
   "execution_count": 11,
   "metadata": {},
   "outputs": [
    {
     "data": {
      "text/plain": [
       "1288                            \"COB\" tourney in Seattle?\n",
       "1329                                    \"Heart\" codename?\n",
       "818                          \"Overwriting\" enemy attacks?\n",
       "204        \"Phantom\" - Me, Colored Pens and Pencils, 2019\n",
       "878                                       #SUPPORT BOCCHI\n",
       "                              ...                        \n",
       "575     whats the best spirit team for the spirit tour...\n",
       "955     why do I get punished for playing against poor...\n",
       "169                      why do I want Lego yoda in smash\n",
       "476                           world of light final battle\n",
       "303                         “Unsporting Behavior” Venting\n",
       "Name: title, Length: 1453, dtype: object"
      ]
     },
     "execution_count": 11,
     "metadata": {},
     "output_type": "execute_result"
    }
   ],
   "source": [
    "smash['title'].sort_values()"
   ]
  },
  {
   "cell_type": "code",
   "execution_count": 12,
   "metadata": {},
   "outputs": [
    {
     "data": {
      "text/html": [
       "<div>\n",
       "<style scoped>\n",
       "    .dataframe tbody tr th:only-of-type {\n",
       "        vertical-align: middle;\n",
       "    }\n",
       "\n",
       "    .dataframe tbody tr th {\n",
       "        vertical-align: top;\n",
       "    }\n",
       "\n",
       "    .dataframe thead th {\n",
       "        text-align: right;\n",
       "    }\n",
       "</style>\n",
       "<table border=\"1\" class=\"dataframe\">\n",
       "  <thead>\n",
       "    <tr style=\"text-align: right;\">\n",
       "      <th></th>\n",
       "      <th>count</th>\n",
       "      <th>unique</th>\n",
       "      <th>top</th>\n",
       "      <th>freq</th>\n",
       "    </tr>\n",
       "  </thead>\n",
       "  <tbody>\n",
       "    <tr>\n",
       "      <th>title</th>\n",
       "      <td>1856</td>\n",
       "      <td>1856</td>\n",
       "      <td>Is it possible to hit a banana in Mario Kart 6...</td>\n",
       "      <td>1</td>\n",
       "    </tr>\n",
       "    <tr>\n",
       "      <th>selftext</th>\n",
       "      <td>1757</td>\n",
       "      <td>1053</td>\n",
       "      <td>[removed]</td>\n",
       "      <td>679</td>\n",
       "    </tr>\n",
       "    <tr>\n",
       "      <th>subreddit</th>\n",
       "      <td>1856</td>\n",
       "      <td>1</td>\n",
       "      <td>mariokart</td>\n",
       "      <td>1856</td>\n",
       "    </tr>\n",
       "  </tbody>\n",
       "</table>\n",
       "</div>"
      ],
      "text/plain": [
       "          count unique                                                top  \\\n",
       "title      1856   1856  Is it possible to hit a banana in Mario Kart 6...   \n",
       "selftext   1757   1053                                          [removed]   \n",
       "subreddit  1856      1                                          mariokart   \n",
       "\n",
       "           freq  \n",
       "title         1  \n",
       "selftext    679  \n",
       "subreddit  1856  "
      ]
     },
     "execution_count": 12,
     "metadata": {},
     "output_type": "execute_result"
    }
   ],
   "source": [
    "mario_kart.describe().T"
   ]
  },
  {
   "cell_type": "code",
   "execution_count": 13,
   "metadata": {},
   "outputs": [
    {
     "data": {
      "text/html": [
       "<div>\n",
       "<style scoped>\n",
       "    .dataframe tbody tr th:only-of-type {\n",
       "        vertical-align: middle;\n",
       "    }\n",
       "\n",
       "    .dataframe tbody tr th {\n",
       "        vertical-align: top;\n",
       "    }\n",
       "\n",
       "    .dataframe thead th {\n",
       "        text-align: right;\n",
       "    }\n",
       "</style>\n",
       "<table border=\"1\" class=\"dataframe\">\n",
       "  <thead>\n",
       "    <tr style=\"text-align: right;\">\n",
       "      <th></th>\n",
       "      <th>count</th>\n",
       "      <th>unique</th>\n",
       "      <th>top</th>\n",
       "      <th>freq</th>\n",
       "    </tr>\n",
       "  </thead>\n",
       "  <tbody>\n",
       "    <tr>\n",
       "      <th>title</th>\n",
       "      <td>1453</td>\n",
       "      <td>1453</td>\n",
       "      <td>Who else votes for their main whenever they se...</td>\n",
       "      <td>1</td>\n",
       "    </tr>\n",
       "    <tr>\n",
       "      <th>selftext</th>\n",
       "      <td>1429</td>\n",
       "      <td>1303</td>\n",
       "      <td>[removed]</td>\n",
       "      <td>117</td>\n",
       "    </tr>\n",
       "    <tr>\n",
       "      <th>subreddit</th>\n",
       "      <td>1453</td>\n",
       "      <td>1</td>\n",
       "      <td>SmashBrosUltimate</td>\n",
       "      <td>1453</td>\n",
       "    </tr>\n",
       "  </tbody>\n",
       "</table>\n",
       "</div>"
      ],
      "text/plain": [
       "          count unique                                                top  \\\n",
       "title      1453   1453  Who else votes for their main whenever they se...   \n",
       "selftext   1429   1303                                          [removed]   \n",
       "subreddit  1453      1                                  SmashBrosUltimate   \n",
       "\n",
       "           freq  \n",
       "title         1  \n",
       "selftext    117  \n",
       "subreddit  1453  "
      ]
     },
     "execution_count": 13,
     "metadata": {},
     "output_type": "execute_result"
    }
   ],
   "source": [
    "smash.describe().T"
   ]
  },
  {
   "cell_type": "markdown",
   "metadata": {},
   "source": [
    "#### Lemmatizing"
   ]
  },
  {
   "cell_type": "code",
   "execution_count": 14,
   "metadata": {},
   "outputs": [],
   "source": [
    "def lemmatize(column): \n",
    "    # Instantiate tokenizer\n",
    "    tokenizer = RegexpTokenizer(r'[A-z]+')\n",
    "    # Tokenize text\n",
    "    tokens = [tokenizer.tokenize(text.lower()) for text in column]\n",
    "    \n",
    "    # Instantiate lemmatizer\n",
    "    lemmatizer = WordNetLemmatizer()\n",
    "    tokens_lem = []\n",
    "   \n",
    "    # Lemmatize tokens\n",
    "    for words in tokens:\n",
    "        lem_list = [lemmatizer.lemmatize(i) for i in words]\n",
    "        lem_post = ''\n",
    "        for word in lem_list:\n",
    "            lem_post += (word+' ')\n",
    "        tokens_lem.append(lem_post.strip())\n",
    "    \n",
    "    return tokens_lem"
   ]
  },
  {
   "cell_type": "code",
   "execution_count": 15,
   "metadata": {},
   "outputs": [],
   "source": [
    "mario_kart_lem = lemmatize(mario_kart['title'])\n",
    "smash_lem = lemmatize(smash['title'])"
   ]
  },
  {
   "cell_type": "markdown",
   "metadata": {},
   "source": [
    "#### Count Vectorizer"
   ]
  },
  {
   "cell_type": "code",
   "execution_count": 16,
   "metadata": {},
   "outputs": [],
   "source": [
    "cvec = CountVectorizer()"
   ]
  },
  {
   "cell_type": "code",
   "execution_count": 17,
   "metadata": {},
   "outputs": [],
   "source": [
    "mario_kart_features = cvec.fit_transform(mario_kart_lem)\n",
    "smash_features = cvec.fit_transform(smash_lem)"
   ]
  },
  {
   "cell_type": "markdown",
   "metadata": {},
   "source": [
    "#### Frequency of Single Gram via Count Vectorizer"
   ]
  },
  {
   "cell_type": "code",
   "execution_count": 18,
   "metadata": {},
   "outputs": [],
   "source": [
    "# Worked with Despina\n",
    "\n",
    "def single_words(data, column):\n",
    "    cvec = CountVectorizer(ngram_range = (1,1))\n",
    "    cvec_df = pd.DataFrame(cvec.fit_transform(data[column]).toarray(),\n",
    "                           columns = cvec.get_feature_names())\n",
    "    counts = cvec_df.sum().sort_values(ascending = False)\n",
    "    return counts"
   ]
  },
  {
   "cell_type": "code",
   "execution_count": 19,
   "metadata": {},
   "outputs": [
    {
     "data": {
      "text/plain": [
       "kart      652\n",
       "mario     625\n",
       "the       525\n",
       "to        360\n",
       "mk8dx     347\n",
       "         ... \n",
       "house       1\n",
       "hows        1\n",
       "humor       1\n",
       "hump        1\n",
       "genius      1\n",
       "Length: 2313, dtype: int64"
      ]
     },
     "execution_count": 19,
     "metadata": {},
     "output_type": "execute_result"
    }
   ],
   "source": [
    "single_words(mario_kart, 'title')"
   ]
  },
  {
   "cell_type": "code",
   "execution_count": 20,
   "metadata": {},
   "outputs": [
    {
     "data": {
      "text/plain": [
       "the           329\n",
       "to            299\n",
       "smash         220\n",
       "is            200\n",
       "you           176\n",
       "             ... \n",
       "hi              1\n",
       "salinas         1\n",
       "highlights      1\n",
       "hilarious       1\n",
       "zss             1\n",
       "Length: 2344, dtype: int64"
      ]
     },
     "execution_count": 20,
     "metadata": {},
     "output_type": "execute_result"
    }
   ],
   "source": [
    "single_words(smash, 'title')"
   ]
  },
  {
   "cell_type": "markdown",
   "metadata": {},
   "source": [
    "#### Frequency of Bigrams via Count Vectorizer"
   ]
  },
  {
   "cell_type": "code",
   "execution_count": 21,
   "metadata": {},
   "outputs": [],
   "source": [
    "# Worked with Despina \n",
    "\n",
    "def double_words(data, column):\n",
    "    cvec = CountVectorizer(ngram_range = (2, 2))\n",
    "    cvec_df = pd.DataFrame(cvec.fit_transform(data[column]).toarray(),\n",
    "                           columns = cvec.get_feature_names())\n",
    "    counts = cvec_df.sum().sort_values(ascending = False)\n",
    "    return counts"
   ]
  },
  {
   "cell_type": "code",
   "execution_count": 22,
   "metadata": {},
   "outputs": [
    {
     "data": {
      "text/plain": [
       "mario kart        592\n",
       "kart tour          75\n",
       "kart deluxe        74\n",
       "do you             58\n",
       "mk elimination     46\n",
       "                 ... \n",
       "on awful            1\n",
       "on beating          1\n",
       "on caffeine         1\n",
       "on ctgp             1\n",
       "mk7 any             1\n",
       "Length: 8329, dtype: int64"
      ]
     },
     "execution_count": 22,
     "metadata": {},
     "output_type": "execute_result"
    }
   ],
   "source": [
    "double_words(mario_kart, 'title')"
   ]
  },
  {
   "cell_type": "code",
   "execution_count": 23,
   "metadata": {},
   "outputs": [
    {
     "data": {
      "text/plain": [
       "do you               61\n",
       "how do               37\n",
       "in smash             36\n",
       "smash ultimate       32\n",
       "the game             31\n",
       "                     ..\n",
       "plant counterplay     1\n",
       "plant paid            1\n",
       "plant paradox         1\n",
       "platforms to          1\n",
       "makes it              1\n",
       "Length: 7216, dtype: int64"
      ]
     },
     "execution_count": 23,
     "metadata": {},
     "output_type": "execute_result"
    }
   ],
   "source": [
    "double_words(smash, 'title')"
   ]
  },
  {
   "cell_type": "markdown",
   "metadata": {},
   "source": [
    "#### Stop Words"
   ]
  },
  {
   "cell_type": "markdown",
   "metadata": {},
   "source": [
    "#### Single Gram"
   ]
  },
  {
   "cell_type": "code",
   "execution_count": 24,
   "metadata": {},
   "outputs": [],
   "source": [
    "# Worked with Despina\n",
    "\n",
    "def stop_words_single(data, column):\n",
    "    cvec = CountVectorizer(stop_words = 'english', ngram_range = (1, 1))\n",
    "    cvec_df = pd.DataFrame(cvec.fit_transform(data[column]).toarray(),\n",
    "                           columns = cvec.get_feature_names())\n",
    "    \n",
    "    counts = cvec_df.sum().sort_values(ascending = False)\n",
    "    return counts"
   ]
  },
  {
   "cell_type": "code",
   "execution_count": 25,
   "metadata": {},
   "outputs": [
    {
     "data": {
      "text/plain": [
       "kart      652\n",
       "mario     625\n",
       "mk8dx     347\n",
       "mk        226\n",
       "mkt       184\n",
       "         ... \n",
       "stare       1\n",
       "host        1\n",
       "hosted      1\n",
       "hour        1\n",
       "liked       1\n",
       "Length: 2112, dtype: int64"
      ]
     },
     "execution_count": 25,
     "metadata": {},
     "output_type": "execute_result"
    }
   ],
   "source": [
    "stop_words_single(mario_kart, 'title')"
   ]
  },
  {
   "cell_type": "code",
   "execution_count": 26,
   "metadata": {},
   "outputs": [
    {
     "data": {
      "text/plain": [
       "smash        220\n",
       "online        96\n",
       "game          86\n",
       "character     85\n",
       "dlc           71\n",
       "            ... \n",
       "oblivion       1\n",
       "obscure        1\n",
       "occasion       1\n",
       "occur          1\n",
       "locations      1\n",
       "Length: 2147, dtype: int64"
      ]
     },
     "execution_count": 26,
     "metadata": {},
     "output_type": "execute_result"
    }
   ],
   "source": [
    "stop_words_single(smash, 'title')"
   ]
  },
  {
   "cell_type": "markdown",
   "metadata": {},
   "source": [
    "#### Bigram"
   ]
  },
  {
   "cell_type": "code",
   "execution_count": 27,
   "metadata": {},
   "outputs": [],
   "source": [
    "# Worked with Despina\n",
    "\n",
    "def stop_words_double(data, column):\n",
    "    cvec = CountVectorizer(stop_words = 'english', ngram_range = (2, 2))\n",
    "    cvec_df = pd.DataFrame(cvec.fit_transform(data[column]).toarray(),\n",
    "                           columns = cvec.get_feature_names())\n",
    "    \n",
    "    counts = cvec_df.sum().sort_values(ascending = False)\n",
    "    return counts"
   ]
  },
  {
   "cell_type": "code",
   "execution_count": 28,
   "metadata": {},
   "outputs": [
    {
     "data": {
      "text/plain": [
       "mario kart        593\n",
       "kart tour          75\n",
       "kart deluxe        74\n",
       "mk elimination     46\n",
       "kart wii           33\n",
       "                 ... \n",
       "music remixes       1\n",
       "music smk           1\n",
       "music track         1\n",
       "music want          1\n",
       "mk crash            1\n",
       "Length: 5611, dtype: int64"
      ]
     },
     "execution_count": 28,
     "metadata": {},
     "output_type": "execute_result"
    }
   ],
   "source": [
    "stop_words_double(mario_kart, 'title')"
   ]
  },
  {
   "cell_type": "code",
   "execution_count": 29,
   "metadata": {},
   "outputs": [
    {
     "data": {
      "text/plain": [
       "smash ultimate    33\n",
       "smash bros        29\n",
       "elite smash       21\n",
       "need help         18\n",
       "super smash       16\n",
       "                  ..\n",
       "option switch      1\n",
       "option start       1\n",
       "option make        1\n",
       "option choose      1\n",
       "zss neutral        1\n",
       "Length: 4374, dtype: int64"
      ]
     },
     "execution_count": 29,
     "metadata": {},
     "output_type": "execute_result"
    }
   ],
   "source": [
    "stop_words_double(smash, 'title')"
   ]
  },
  {
   "cell_type": "markdown",
   "metadata": {},
   "source": [
    "#### Visualizations"
   ]
  },
  {
   "cell_type": "code",
   "execution_count": 30,
   "metadata": {
    "scrolled": false
   },
   "outputs": [
    {
     "data": {
      "text/plain": [
       "Text(0, 0.5, 'Words')"
      ]
     },
     "execution_count": 30,
     "metadata": {},
     "output_type": "execute_result"
    },
    {
     "data": {
      "image/png": "[encoded data removed]",
      "text/plain": [
       "<Figure size 864x504 with 1 Axes>"
      ]
     },
     "metadata": {
      "needs_background": "light"
     },
     "output_type": "display_data"
    }
   ],
   "source": [
    "mario_kart_single_frequency = pd.DataFrame(data = single_words(mario_kart, 'title'), \n",
    "                                           columns = ['Frequency'])\n",
    "\n",
    "top_10_single = mario_kart_single_frequency.head(10)\n",
    "\n",
    "top_10_single.sort_values(by = 'Frequency', ascending = True).plot(kind = 'barh', \n",
    "                                                                  color = 'blue', \n",
    "                                                                  figsize = (12,7))\n",
    "\n",
    "plt.title('Most Frequent Single Gram Titles on r/mariokart',size = 25)\n",
    "plt.xlabel('Counts', size = 15)\n",
    "plt.ylabel('Words', size = 15)"
   ]
  },
  {
   "cell_type": "code",
   "execution_count": 31,
   "metadata": {},
   "outputs": [
    {
     "data": {
      "text/plain": [
       "Text(0, 0.5, 'Words')"
      ]
     },
     "execution_count": 31,
     "metadata": {},
     "output_type": "execute_result"
    },
    {
     "data": {
      "image/png": "[encoded data removed]",
      "text/plain": [
       "<Figure size 864x504 with 1 Axes>"
      ]
     },
     "metadata": {
      "needs_background": "light"
     },
     "output_type": "display_data"
    }
   ],
   "source": [
    "smash_single_frequency = pd.DataFrame(data = single_words(smash, 'title'), \n",
    "                                         columns = ['Frequency'])\n",
    "\n",
    "top_10_single = smash_single_frequency.head(10)\n",
    "\n",
    "top_10_single.sort_values(by = 'Frequency', ascending = True).plot(kind = 'barh', \n",
    "                                                                  color = 'blue', \n",
    "                                                                  figsize = (12,7))\n",
    "\n",
    "plt.title('Most Frequent Single Gram Titles on r/SmashBrosUltimate',size = 25)\n",
    "plt.xlabel('Counts', size = 15)\n",
    "plt.ylabel('Words', size = 15)"
   ]
  },
  {
   "cell_type": "code",
   "execution_count": 32,
   "metadata": {},
   "outputs": [
    {
     "data": {
      "text/plain": [
       "Text(0, 0.5, 'Words')"
      ]
     },
     "execution_count": 32,
     "metadata": {},
     "output_type": "execute_result"
    },
    {
     "data": {
      "image/png": "[encoded data removed]",
      "text/plain": [
       "<Figure size 864x504 with 1 Axes>"
      ]
     },
     "metadata": {
      "needs_background": "light"
     },
     "output_type": "display_data"
    }
   ],
   "source": [
    "mario_kart_double_frequency = pd.DataFrame(data = double_words(mario_kart, 'title'), \n",
    "                                         columns = ['Frequency'])\n",
    "\n",
    "top_10_double = mario_kart_double_frequency.head(10)\n",
    "\n",
    "top_10_double.sort_values(by = 'Frequency', ascending = True).plot(kind = 'barh', \n",
    "                                                                  color = 'red', \n",
    "                                                                  figsize = (12,7))\n",
    "\n",
    "plt.title('Most Frequent Bigram Titles on r/mariokart',size = 25)\n",
    "plt.xlabel('Counts', size = 15)\n",
    "plt.ylabel('Words', size = 15)\n"
   ]
  },
  {
   "cell_type": "code",
   "execution_count": 33,
   "metadata": {},
   "outputs": [
    {
     "data": {
      "text/plain": [
       "Text(0, 0.5, 'Words')"
      ]
     },
     "execution_count": 33,
     "metadata": {},
     "output_type": "execute_result"
    },
    {
     "data": {
      "image/png": "[encoded data removed]",
      "text/plain": [
       "<Figure size 864x504 with 1 Axes>"
      ]
     },
     "metadata": {
      "needs_background": "light"
     },
     "output_type": "display_data"
    }
   ],
   "source": [
    "smash_double_frequency = pd.DataFrame(data = double_words(smash, 'title'), \n",
    "                                         columns = ['Frequency'])\n",
    "\n",
    "top_10_double = smash_double_frequency.head(10)\n",
    "\n",
    "top_10_double.sort_values(by = 'Frequency', ascending = True).plot(kind = 'barh', \n",
    "                                                                  color = 'red', \n",
    "                                                                  figsize = (12,7))\n",
    "\n",
    "plt.title('Most Frequent Bigram Titles on r/SmashBrosUltimate',size = 25)\n",
    "plt.xlabel('Counts', size = 15)\n",
    "plt.ylabel('Words', size = 15)"
   ]
  },
  {
   "cell_type": "code",
   "execution_count": 34,
   "metadata": {},
   "outputs": [
    {
     "data": {
      "text/plain": [
       "Text(0, 0.5, 'Words')"
      ]
     },
     "execution_count": 34,
     "metadata": {},
     "output_type": "execute_result"
    },
    {
     "data": {
      "image/png": "[encoded data removed]",
      "text/plain": [
       "<Figure size 864x504 with 1 Axes>"
      ]
     },
     "metadata": {
      "needs_background": "light"
     },
     "output_type": "display_data"
    }
   ],
   "source": [
    "mario_kart_stop_frequency = pd.DataFrame(data = stop_words_single(mario_kart, 'title'), \n",
    "                                         columns = ['Frequency'])\n",
    "\n",
    "top_10_stop = mario_kart_stop_frequency.head(10)\n",
    "\n",
    "top_10_stop.sort_values(by = 'Frequency', ascending = True).plot(kind = 'barh', \n",
    "                                                                  color = 'purple', \n",
    "                                                                  figsize = (12,7))\n",
    "\n",
    "plt.title('Most Frequent Single Gram Stop Titles on r/mariokart',size = 25)\n",
    "plt.xlabel('Counts', size = 15)\n",
    "plt.ylabel('Words', size = 15)"
   ]
  },
  {
   "cell_type": "code",
   "execution_count": 35,
   "metadata": {},
   "outputs": [
    {
     "data": {
      "text/plain": [
       "Text(0, 0.5, 'Words')"
      ]
     },
     "execution_count": 35,
     "metadata": {},
     "output_type": "execute_result"
    },
    {
     "data": {
      "image/png": "[encoded data removed]",
      "text/plain": [
       "<Figure size 864x504 with 1 Axes>"
      ]
     },
     "metadata": {
      "needs_background": "light"
     },
     "output_type": "display_data"
    }
   ],
   "source": [
    "smash_stop_frequency = pd.DataFrame(data = stop_words_single(smash, 'title'), \n",
    "                                         columns = ['Frequency'])\n",
    "\n",
    "top_10_stop = smash_stop_frequency.head(10)\n",
    "\n",
    "top_10_stop.sort_values(by = 'Frequency', ascending = True).plot(kind = 'barh', \n",
    "                                                                  color = 'purple', \n",
    "                                                                  figsize = (12,7))\n",
    "\n",
    "plt.title('Most Frequent Single Gram Stop Titles on r/SmashBrosUltimate',size = 25)\n",
    "plt.xlabel('Counts', size = 15)\n",
    "plt.ylabel('Words', size = 15)"
   ]
  },
  {
   "cell_type": "code",
   "execution_count": 36,
   "metadata": {},
   "outputs": [
    {
     "data": {
      "text/plain": [
       "Text(0, 0.5, 'Words')"
      ]
     },
     "execution_count": 36,
     "metadata": {},
     "output_type": "execute_result"
    },
    {
     "data": {
      "image/png": "[encoded data removed]",
      "text/plain": [
       "<Figure size 864x504 with 1 Axes>"
      ]
     },
     "metadata": {
      "needs_background": "light"
     },
     "output_type": "display_data"
    }
   ],
   "source": [
    "mario_kart_stop_2_frequency = pd.DataFrame(data = stop_words_double(mario_kart, 'title'), \n",
    "                                         columns = ['Frequency'])\n",
    "\n",
    "top_10_stop = mario_kart_stop_2_frequency.head(10)\n",
    "\n",
    "top_10_stop.sort_values(by = 'Frequency', ascending = True).plot(kind = 'barh', \n",
    "                                                                  color = 'pink', \n",
    "                                                                  figsize = (12,7))\n",
    "\n",
    "plt.title('Most Frequent Bigram Stop Titles on r/mariokart',size = 25)\n",
    "plt.xlabel('Counts', size = 15)\n",
    "plt.ylabel('Words', size = 15)"
   ]
  },
  {
   "cell_type": "code",
   "execution_count": 37,
   "metadata": {},
   "outputs": [
    {
     "data": {
      "text/plain": [
       "Text(0, 0.5, 'Words')"
      ]
     },
     "execution_count": 37,
     "metadata": {},
     "output_type": "execute_result"
    },
    {
     "data": {
      "image/png": "[encoded data removed]",
      "text/plain": [
       "<Figure size 864x504 with 1 Axes>"
      ]
     },
     "metadata": {
      "needs_background": "light"
     },
     "output_type": "display_data"
    }
   ],
   "source": [
    "smash_stop_2_frequency = pd.DataFrame(data = stop_words_double(smash, 'title'), \n",
    "                                         columns = ['Frequency'])\n",
    "\n",
    "top_10_stop = smash_stop_2_frequency.head(10)\n",
    "\n",
    "top_10_stop.sort_values(by = 'Frequency', ascending = True).plot(kind = 'barh', \n",
    "                                                                  color = 'pink', \n",
    "                                                                  figsize = (12,7))\n",
    "\n",
    "plt.title('Most Frequent Bigram Stop Titles on r/SmashBrosUltimate',size = 25)\n",
    "plt.xlabel('Counts', size = 15)\n",
    "plt.ylabel('Words', size = 15)"
   ]
  },
  {
   "cell_type": "markdown",
   "metadata": {},
   "source": [
    "### Modeling "
   ]
  },
  {
   "cell_type": "markdown",
   "metadata": {},
   "source": [
    "#### Combining Data Frames"
   ]
  },
  {
   "cell_type": "code",
   "execution_count": 38,
   "metadata": {},
   "outputs": [],
   "source": [
    "combined_df = pd.concat(objs = [mario_kart, smash], axis = 0)\n",
    "combined_df = combined_df.drop(columns = 'selftext')"
   ]
  },
  {
   "cell_type": "code",
   "execution_count": 39,
   "metadata": {},
   "outputs": [],
   "source": [
    "combined_df['subreddit'] = combined_df['subreddit'].map({'mariokart': 0, 'SmashBrosUltimate': 1})"
   ]
  },
  {
   "cell_type": "code",
   "execution_count": 40,
   "metadata": {
    "scrolled": true
   },
   "outputs": [],
   "source": [
    "combined_df.reset_index(drop = True, inplace = True)"
   ]
  },
  {
   "cell_type": "code",
   "execution_count": 41,
   "metadata": {},
   "outputs": [
    {
     "data": {
      "text/html": [
       "<div>\n",
       "<style scoped>\n",
       "    .dataframe tbody tr th:only-of-type {\n",
       "        vertical-align: middle;\n",
       "    }\n",
       "\n",
       "    .dataframe tbody tr th {\n",
       "        vertical-align: top;\n",
       "    }\n",
       "\n",
       "    .dataframe thead th {\n",
       "        text-align: right;\n",
       "    }\n",
       "</style>\n",
       "<table border=\"1\" class=\"dataframe\">\n",
       "  <thead>\n",
       "    <tr style=\"text-align: right;\">\n",
       "      <th></th>\n",
       "      <th>title</th>\n",
       "      <th>subreddit</th>\n",
       "    </tr>\n",
       "  </thead>\n",
       "  <tbody>\n",
       "    <tr>\n",
       "      <th>0</th>\n",
       "      <td>Time Trial issues</td>\n",
       "      <td>0</td>\n",
       "    </tr>\n",
       "    <tr>\n",
       "      <th>1</th>\n",
       "      <td>Time Trial [MK8DX]</td>\n",
       "      <td>0</td>\n",
       "    </tr>\n",
       "    <tr>\n",
       "      <th>2</th>\n",
       "      <td>Is my build awful? (MK8DX)</td>\n",
       "      <td>0</td>\n",
       "    </tr>\n",
       "    <tr>\n",
       "      <th>3</th>\n",
       "      <td>mario kart maker</td>\n",
       "      <td>0</td>\n",
       "    </tr>\n",
       "    <tr>\n",
       "      <th>4</th>\n",
       "      <td>Research for a YouTube video I’m working on.</td>\n",
       "      <td>0</td>\n",
       "    </tr>\n",
       "    <tr>\n",
       "      <th>...</th>\n",
       "      <td>...</td>\n",
       "      <td>...</td>\n",
       "    </tr>\n",
       "    <tr>\n",
       "      <th>3304</th>\n",
       "      <td>Need help against DK and KRool.</td>\n",
       "      <td>1</td>\n",
       "    </tr>\n",
       "    <tr>\n",
       "      <th>3305</th>\n",
       "      <td>Practicing with Level 1 CPUs</td>\n",
       "      <td>1</td>\n",
       "    </tr>\n",
       "    <tr>\n",
       "      <th>3306</th>\n",
       "      <td>Gambling coins in smash</td>\n",
       "      <td>1</td>\n",
       "    </tr>\n",
       "    <tr>\n",
       "      <th>3307</th>\n",
       "      <td>Toon Link: Possible revisions</td>\n",
       "      <td>1</td>\n",
       "    </tr>\n",
       "    <tr>\n",
       "      <th>3308</th>\n",
       "      <td>im trying to understand why</td>\n",
       "      <td>1</td>\n",
       "    </tr>\n",
       "  </tbody>\n",
       "</table>\n",
       "<p>3309 rows × 2 columns</p>\n",
       "</div>"
      ],
      "text/plain": [
       "                                             title  subreddit\n",
       "0                                Time Trial issues          0\n",
       "1                               Time Trial [MK8DX]          0\n",
       "2                       Is my build awful? (MK8DX)          0\n",
       "3                                 mario kart maker          0\n",
       "4     Research for a YouTube video I’m working on.          0\n",
       "...                                            ...        ...\n",
       "3304               Need help against DK and KRool.          1\n",
       "3305                  Practicing with Level 1 CPUs          1\n",
       "3306                       Gambling coins in smash          1\n",
       "3307                 Toon Link: Possible revisions          1\n",
       "3308                   im trying to understand why          1\n",
       "\n",
       "[3309 rows x 2 columns]"
      ]
     },
     "execution_count": 41,
     "metadata": {},
     "output_type": "execute_result"
    }
   ],
   "source": [
    "combined_df"
   ]
  },
  {
   "cell_type": "markdown",
   "metadata": {},
   "source": [
    "#### Creating Our Variables "
   ]
  },
  {
   "cell_type": "code",
   "execution_count": 42,
   "metadata": {},
   "outputs": [],
   "source": [
    "X = combined_df['title']\n",
    "y = combined_df['subreddit']"
   ]
  },
  {
   "cell_type": "code",
   "execution_count": 43,
   "metadata": {},
   "outputs": [],
   "source": [
    "X_train, X_test, y_train, y_test = train_test_split(X, y, stratify = y, random_state = 42)"
   ]
  },
  {
   "cell_type": "markdown",
   "metadata": {},
   "source": [
    "#### Baseline"
   ]
  },
  {
   "cell_type": "code",
   "execution_count": 44,
   "metadata": {},
   "outputs": [
    {
     "data": {
      "text/plain": [
       "0    0.560895\n",
       "1    0.439105\n",
       "Name: subreddit, dtype: float64"
      ]
     },
     "execution_count": 44,
     "metadata": {},
     "output_type": "execute_result"
    }
   ],
   "source": [
    "y.value_counts(normalize = True)"
   ]
  },
  {
   "cell_type": "markdown",
   "metadata": {},
   "source": [
    "#### Naive Bayes"
   ]
  },
  {
   "cell_type": "code",
   "execution_count": 45,
   "metadata": {},
   "outputs": [],
   "source": [
    "tvec = TfidfVectorizer()\n",
    "new_X_train = tvec.fit_transform(X_train).toarray()\n",
    "new_X_test = tvec.transform(X_test).toarray()"
   ]
  },
  {
   "cell_type": "markdown",
   "metadata": {},
   "source": [
    "#### Bernoulli Naive Bayes"
   ]
  },
  {
   "cell_type": "code",
   "execution_count": 46,
   "metadata": {},
   "outputs": [
    {
     "data": {
      "text/plain": [
       "BernoulliNB(alpha=1.0, binarize=0.0, class_prior=None, fit_prior=True)"
      ]
     },
     "execution_count": 46,
     "metadata": {},
     "output_type": "execute_result"
    }
   ],
   "source": [
    "bnb = BernoulliNB()\n",
    "bnb.fit(new_X_train, y_train)"
   ]
  },
  {
   "cell_type": "code",
   "execution_count": 47,
   "metadata": {},
   "outputs": [
    {
     "name": "stdout",
     "output_type": "stream",
     "text": [
      "Training Score: 0.9669488109633212\n",
      "Testing Score: 0.8997584541062802\n"
     ]
    }
   ],
   "source": [
    "print(f'Training Score: {bnb.score(new_X_train, y_train)}')\n",
    "print(f'Testing Score: {bnb.score(new_X_test, y_test)}')"
   ]
  },
  {
   "cell_type": "markdown",
   "metadata": {},
   "source": [
    "#### Bernoulli NB Confusion Matrix"
   ]
  },
  {
   "cell_type": "code",
   "execution_count": 48,
   "metadata": {},
   "outputs": [
    {
     "data": {
      "text/html": [
       "<div>\n",
       "<style scoped>\n",
       "    .dataframe tbody tr th:only-of-type {\n",
       "        vertical-align: middle;\n",
       "    }\n",
       "\n",
       "    .dataframe tbody tr th {\n",
       "        vertical-align: top;\n",
       "    }\n",
       "\n",
       "    .dataframe thead th {\n",
       "        text-align: right;\n",
       "    }\n",
       "</style>\n",
       "<table border=\"1\" class=\"dataframe\">\n",
       "  <thead>\n",
       "    <tr style=\"text-align: right;\">\n",
       "      <th></th>\n",
       "      <th>Predicted Mario Kart</th>\n",
       "      <th>Predicted Smash Bros Ultimate</th>\n",
       "    </tr>\n",
       "  </thead>\n",
       "  <tbody>\n",
       "    <tr>\n",
       "      <th>Actual Mario Kart</th>\n",
       "      <td>423</td>\n",
       "      <td>41</td>\n",
       "    </tr>\n",
       "    <tr>\n",
       "      <th>Actual Smash Bros Ultimate</th>\n",
       "      <td>42</td>\n",
       "      <td>322</td>\n",
       "    </tr>\n",
       "  </tbody>\n",
       "</table>\n",
       "</div>"
      ],
      "text/plain": [
       "                            Predicted Mario Kart  \\\n",
       "Actual Mario Kart                            423   \n",
       "Actual Smash Bros Ultimate                    42   \n",
       "\n",
       "                            Predicted Smash Bros Ultimate  \n",
       "Actual Mario Kart                                      41  \n",
       "Actual Smash Bros Ultimate                            322  "
      ]
     },
     "execution_count": 48,
     "metadata": {},
     "output_type": "execute_result"
    }
   ],
   "source": [
    "y_test_preds = bnb.predict(new_X_test)\n",
    "\n",
    "cm = confusion_matrix(y_test, y_test_preds)\n",
    "\n",
    "cm_df = pd.DataFrame(cm, \n",
    "                     columns = ['Predicted Mario Kart', 'Predicted Smash Bros Ultimate'], \n",
    "                     index = ['Actual Mario Kart', 'Actual Smash Bros Ultimate'])\n",
    "cm_df"
   ]
  },
  {
   "cell_type": "markdown",
   "metadata": {},
   "source": [
    "#### Multinomial Naive Bayes"
   ]
  },
  {
   "cell_type": "code",
   "execution_count": 49,
   "metadata": {
    "scrolled": true
   },
   "outputs": [
    {
     "data": {
      "text/plain": [
       "MultinomialNB(alpha=1.0, class_prior=None, fit_prior=True)"
      ]
     },
     "execution_count": 49,
     "metadata": {},
     "output_type": "execute_result"
    }
   ],
   "source": [
    "mnb = MultinomialNB()\n",
    "mnb.fit(new_X_train, y_train)"
   ]
  },
  {
   "cell_type": "code",
   "execution_count": 50,
   "metadata": {},
   "outputs": [
    {
     "name": "stdout",
     "output_type": "stream",
     "text": [
      "Training Score: 0.954856912535268\n",
      "Testing Score: 0.8454106280193237\n"
     ]
    }
   ],
   "source": [
    "print(f'Training Score: {mnb.score(new_X_train, y_train)}')\n",
    "print(f'Testing Score: {mnb.score(new_X_test, y_test)}')"
   ]
  },
  {
   "cell_type": "markdown",
   "metadata": {},
   "source": [
    "#### Multinomial NB Confusion Matrix"
   ]
  },
  {
   "cell_type": "code",
   "execution_count": 51,
   "metadata": {},
   "outputs": [
    {
     "data": {
      "text/html": [
       "<div>\n",
       "<style scoped>\n",
       "    .dataframe tbody tr th:only-of-type {\n",
       "        vertical-align: middle;\n",
       "    }\n",
       "\n",
       "    .dataframe tbody tr th {\n",
       "        vertical-align: top;\n",
       "    }\n",
       "\n",
       "    .dataframe thead th {\n",
       "        text-align: right;\n",
       "    }\n",
       "</style>\n",
       "<table border=\"1\" class=\"dataframe\">\n",
       "  <thead>\n",
       "    <tr style=\"text-align: right;\">\n",
       "      <th></th>\n",
       "      <th>Predicted Mario Kart</th>\n",
       "      <th>Predicted Smash Bros Ultimate</th>\n",
       "    </tr>\n",
       "  </thead>\n",
       "  <tbody>\n",
       "    <tr>\n",
       "      <th>Actual Mario Kart</th>\n",
       "      <td>439</td>\n",
       "      <td>25</td>\n",
       "    </tr>\n",
       "    <tr>\n",
       "      <th>Actual Smash Bros Ultimate</th>\n",
       "      <td>103</td>\n",
       "      <td>261</td>\n",
       "    </tr>\n",
       "  </tbody>\n",
       "</table>\n",
       "</div>"
      ],
      "text/plain": [
       "                            Predicted Mario Kart  \\\n",
       "Actual Mario Kart                            439   \n",
       "Actual Smash Bros Ultimate                   103   \n",
       "\n",
       "                            Predicted Smash Bros Ultimate  \n",
       "Actual Mario Kart                                      25  \n",
       "Actual Smash Bros Ultimate                            261  "
      ]
     },
     "execution_count": 51,
     "metadata": {},
     "output_type": "execute_result"
    }
   ],
   "source": [
    "y_test_preds = mnb.predict(new_X_test)\n",
    "\n",
    "cm = confusion_matrix(y_test, y_test_preds)\n",
    "\n",
    "cm_df = pd.DataFrame(cm, \n",
    "                     columns = ['Predicted Mario Kart', 'Predicted Smash Bros Ultimate'], \n",
    "                     index = ['Actual Mario Kart', 'Actual Smash Bros Ultimate'])\n",
    "cm_df"
   ]
  },
  {
   "cell_type": "markdown",
   "metadata": {},
   "source": [
    "#### Classifiers"
   ]
  },
  {
   "cell_type": "markdown",
   "metadata": {},
   "source": [
    "#### Logistic Regression"
   ]
  },
  {
   "cell_type": "code",
   "execution_count": 52,
   "metadata": {},
   "outputs": [
    {
     "name": "stderr",
     "output_type": "stream",
     "text": [
      "/Applications/anaconda3/lib/python3.7/site-packages/sklearn/linear_model/logistic.py:432: FutureWarning: Default solver will be changed to 'lbfgs' in 0.22. Specify a solver to silence this warning.\n",
      "  FutureWarning)\n"
     ]
    },
    {
     "data": {
      "text/plain": [
       "LogisticRegression(C=1.0, class_weight=None, dual=False, fit_intercept=True,\n",
       "                   intercept_scaling=1, l1_ratio=None, max_iter=100,\n",
       "                   multi_class='warn', n_jobs=None, penalty='l2',\n",
       "                   random_state=None, solver='warn', tol=0.0001, verbose=0,\n",
       "                   warm_start=False)"
      ]
     },
     "execution_count": 52,
     "metadata": {},
     "output_type": "execute_result"
    }
   ],
   "source": [
    "log = LogisticRegression()\n",
    "log.fit(new_X_train, y_train)"
   ]
  },
  {
   "cell_type": "code",
   "execution_count": 53,
   "metadata": {},
   "outputs": [
    {
     "name": "stdout",
     "output_type": "stream",
     "text": [
      "Training Score: 0.9693671906489318\n",
      "Testing Score: 0.9057971014492754\n"
     ]
    }
   ],
   "source": [
    "print(f'Training Score: {log.score(new_X_train, y_train)}')\n",
    "print(f'Testing Score: {log.score(new_X_test, y_test)}')"
   ]
  },
  {
   "cell_type": "markdown",
   "metadata": {},
   "source": [
    "#### Logistic Regression Confusion Matrix"
   ]
  },
  {
   "cell_type": "code",
   "execution_count": 54,
   "metadata": {},
   "outputs": [
    {
     "data": {
      "text/html": [
       "<div>\n",
       "<style scoped>\n",
       "    .dataframe tbody tr th:only-of-type {\n",
       "        vertical-align: middle;\n",
       "    }\n",
       "\n",
       "    .dataframe tbody tr th {\n",
       "        vertical-align: top;\n",
       "    }\n",
       "\n",
       "    .dataframe thead th {\n",
       "        text-align: right;\n",
       "    }\n",
       "</style>\n",
       "<table border=\"1\" class=\"dataframe\">\n",
       "  <thead>\n",
       "    <tr style=\"text-align: right;\">\n",
       "      <th></th>\n",
       "      <th>Predicted Mario Kart</th>\n",
       "      <th>Predicted Smash Bros Ultimate</th>\n",
       "    </tr>\n",
       "  </thead>\n",
       "  <tbody>\n",
       "    <tr>\n",
       "      <th>Actual Mario Kart</th>\n",
       "      <td>399</td>\n",
       "      <td>65</td>\n",
       "    </tr>\n",
       "    <tr>\n",
       "      <th>Actual Smash Bros Ultimate</th>\n",
       "      <td>13</td>\n",
       "      <td>351</td>\n",
       "    </tr>\n",
       "  </tbody>\n",
       "</table>\n",
       "</div>"
      ],
      "text/plain": [
       "                            Predicted Mario Kart  \\\n",
       "Actual Mario Kart                            399   \n",
       "Actual Smash Bros Ultimate                    13   \n",
       "\n",
       "                            Predicted Smash Bros Ultimate  \n",
       "Actual Mario Kart                                      65  \n",
       "Actual Smash Bros Ultimate                            351  "
      ]
     },
     "execution_count": 54,
     "metadata": {},
     "output_type": "execute_result"
    }
   ],
   "source": [
    "y_test_preds = log.predict(new_X_test)\n",
    "\n",
    "cm = confusion_matrix(y_test, y_test_preds)\n",
    "\n",
    "cm_df = pd.DataFrame(cm, \n",
    "                     columns = ['Predicted Mario Kart', 'Predicted Smash Bros Ultimate'], \n",
    "                     index = ['Actual Mario Kart', 'Actual Smash Bros Ultimate'])\n",
    "cm_df"
   ]
  },
  {
   "cell_type": "markdown",
   "metadata": {},
   "source": [
    "#### AdaBoost"
   ]
  },
  {
   "cell_type": "code",
   "execution_count": 55,
   "metadata": {},
   "outputs": [
    {
     "data": {
      "text/plain": [
       "AdaBoostClassifier(algorithm='SAMME.R', base_estimator=None, learning_rate=1.0,\n",
       "                   n_estimators=50, random_state=None)"
      ]
     },
     "execution_count": 55,
     "metadata": {},
     "output_type": "execute_result"
    }
   ],
   "source": [
    "ada = AdaBoostClassifier()\n",
    "ada.fit(new_X_train, y_train)"
   ]
  },
  {
   "cell_type": "code",
   "execution_count": 56,
   "metadata": {},
   "outputs": [
    {
     "name": "stdout",
     "output_type": "stream",
     "text": [
      "Training Score: 0.9201934703748489\n",
      "Testing Score: 0.893719806763285\n"
     ]
    }
   ],
   "source": [
    "print(f'Training Score: {ada.score(new_X_train, y_train)}')\n",
    "print(f'Testing Score: {ada.score(new_X_test, y_test)}')"
   ]
  },
  {
   "cell_type": "markdown",
   "metadata": {},
   "source": [
    "#### AdaBoost Confusion Matrix"
   ]
  },
  {
   "cell_type": "code",
   "execution_count": 57,
   "metadata": {},
   "outputs": [
    {
     "data": {
      "text/html": [
       "<div>\n",
       "<style scoped>\n",
       "    .dataframe tbody tr th:only-of-type {\n",
       "        vertical-align: middle;\n",
       "    }\n",
       "\n",
       "    .dataframe tbody tr th {\n",
       "        vertical-align: top;\n",
       "    }\n",
       "\n",
       "    .dataframe thead th {\n",
       "        text-align: right;\n",
       "    }\n",
       "</style>\n",
       "<table border=\"1\" class=\"dataframe\">\n",
       "  <thead>\n",
       "    <tr style=\"text-align: right;\">\n",
       "      <th></th>\n",
       "      <th>Predicted Mario Kart</th>\n",
       "      <th>Predicted Smash Bros Ultimate</th>\n",
       "    </tr>\n",
       "  </thead>\n",
       "  <tbody>\n",
       "    <tr>\n",
       "      <th>Actual Mario Kart</th>\n",
       "      <td>385</td>\n",
       "      <td>79</td>\n",
       "    </tr>\n",
       "    <tr>\n",
       "      <th>Actual Smash Bros Ultimate</th>\n",
       "      <td>9</td>\n",
       "      <td>355</td>\n",
       "    </tr>\n",
       "  </tbody>\n",
       "</table>\n",
       "</div>"
      ],
      "text/plain": [
       "                            Predicted Mario Kart  \\\n",
       "Actual Mario Kart                            385   \n",
       "Actual Smash Bros Ultimate                     9   \n",
       "\n",
       "                            Predicted Smash Bros Ultimate  \n",
       "Actual Mario Kart                                      79  \n",
       "Actual Smash Bros Ultimate                            355  "
      ]
     },
     "execution_count": 57,
     "metadata": {},
     "output_type": "execute_result"
    }
   ],
   "source": [
    "y_test_preds = ada.predict(new_X_test)\n",
    "\n",
    "cm = confusion_matrix(y_test, y_test_preds)\n",
    "\n",
    "cm_df = pd.DataFrame(cm, \n",
    "                     columns = ['Predicted Mario Kart', 'Predicted Smash Bros Ultimate'], \n",
    "                     index = ['Actual Mario Kart', 'Actual Smash Bros Ultimate'])\n",
    "cm_df"
   ]
  },
  {
   "cell_type": "markdown",
   "metadata": {},
   "source": [
    "#### Determining Our Best Model"
   ]
  },
  {
   "cell_type": "code",
   "execution_count": 58,
   "metadata": {},
   "outputs": [],
   "source": [
    "pipe_params = {\n",
    "    'tfidf__ngram_range' : [(1,1), (1,2)],\n",
    "    'tfidf__stop_words' : [None, 'english']\n",
    "}"
   ]
  },
  {
   "cell_type": "code",
   "execution_count": 59,
   "metadata": {},
   "outputs": [],
   "source": [
    "pipe = Pipeline([\n",
    "    ('tfidf', TfidfVectorizer()),\n",
    "    ('bnb', BernoulliNB())\n",
    "])\n",
    "\n",
    "gs = GridSearchCV(pipe, pipe_params, cv = 5)\n",
    "gs.fit(X_train, y_train);\n",
    "model_1 = gs.best_estimator_"
   ]
  },
  {
   "cell_type": "code",
   "execution_count": 60,
   "metadata": {},
   "outputs": [],
   "source": [
    "pipe2 = Pipeline([\n",
    "    ('tfidf', TfidfVectorizer()),\n",
    "    ('mnb', MultinomialNB())\n",
    "])\n",
    "\n",
    "gs = GridSearchCV(pipe2, pipe_params, cv = 5)\n",
    "gs.fit(X_train, y_train);\n",
    "model_2 = gs.best_estimator_"
   ]
  },
  {
   "cell_type": "code",
   "execution_count": 61,
   "metadata": {},
   "outputs": [
    {
     "name": "stderr",
     "output_type": "stream",
     "text": [
      "/Applications/anaconda3/lib/python3.7/site-packages/sklearn/linear_model/logistic.py:432: FutureWarning: Default solver will be changed to 'lbfgs' in 0.22. Specify a solver to silence this warning.\n",
      "  FutureWarning)\n",
      "/Applications/anaconda3/lib/python3.7/site-packages/sklearn/linear_model/logistic.py:432: FutureWarning: Default solver will be changed to 'lbfgs' in 0.22. Specify a solver to silence this warning.\n",
      "  FutureWarning)\n",
      "/Applications/anaconda3/lib/python3.7/site-packages/sklearn/linear_model/logistic.py:432: FutureWarning: Default solver will be changed to 'lbfgs' in 0.22. Specify a solver to silence this warning.\n",
      "  FutureWarning)\n",
      "/Applications/anaconda3/lib/python3.7/site-packages/sklearn/linear_model/logistic.py:432: FutureWarning: Default solver will be changed to 'lbfgs' in 0.22. Specify a solver to silence this warning.\n",
      "  FutureWarning)\n",
      "/Applications/anaconda3/lib/python3.7/site-packages/sklearn/linear_model/logistic.py:432: FutureWarning: Default solver will be changed to 'lbfgs' in 0.22. Specify a solver to silence this warning.\n",
      "  FutureWarning)\n",
      "/Applications/anaconda3/lib/python3.7/site-packages/sklearn/linear_model/logistic.py:432: FutureWarning: Default solver will be changed to 'lbfgs' in 0.22. Specify a solver to silence this warning.\n",
      "  FutureWarning)\n",
      "/Applications/anaconda3/lib/python3.7/site-packages/sklearn/linear_model/logistic.py:432: FutureWarning: Default solver will be changed to 'lbfgs' in 0.22. Specify a solver to silence this warning.\n",
      "  FutureWarning)\n",
      "/Applications/anaconda3/lib/python3.7/site-packages/sklearn/linear_model/logistic.py:432: FutureWarning: Default solver will be changed to 'lbfgs' in 0.22. Specify a solver to silence this warning.\n",
      "  FutureWarning)\n",
      "/Applications/anaconda3/lib/python3.7/site-packages/sklearn/linear_model/logistic.py:432: FutureWarning: Default solver will be changed to 'lbfgs' in 0.22. Specify a solver to silence this warning.\n",
      "  FutureWarning)\n",
      "/Applications/anaconda3/lib/python3.7/site-packages/sklearn/linear_model/logistic.py:432: FutureWarning: Default solver will be changed to 'lbfgs' in 0.22. Specify a solver to silence this warning.\n",
      "  FutureWarning)\n",
      "/Applications/anaconda3/lib/python3.7/site-packages/sklearn/linear_model/logistic.py:432: FutureWarning: Default solver will be changed to 'lbfgs' in 0.22. Specify a solver to silence this warning.\n",
      "  FutureWarning)\n",
      "/Applications/anaconda3/lib/python3.7/site-packages/sklearn/linear_model/logistic.py:432: FutureWarning: Default solver will be changed to 'lbfgs' in 0.22. Specify a solver to silence this warning.\n",
      "  FutureWarning)\n",
      "/Applications/anaconda3/lib/python3.7/site-packages/sklearn/linear_model/logistic.py:432: FutureWarning: Default solver will be changed to 'lbfgs' in 0.22. Specify a solver to silence this warning.\n",
      "  FutureWarning)\n",
      "/Applications/anaconda3/lib/python3.7/site-packages/sklearn/linear_model/logistic.py:432: FutureWarning: Default solver will be changed to 'lbfgs' in 0.22. Specify a solver to silence this warning.\n",
      "  FutureWarning)\n",
      "/Applications/anaconda3/lib/python3.7/site-packages/sklearn/linear_model/logistic.py:432: FutureWarning: Default solver will be changed to 'lbfgs' in 0.22. Specify a solver to silence this warning.\n",
      "  FutureWarning)\n",
      "/Applications/anaconda3/lib/python3.7/site-packages/sklearn/linear_model/logistic.py:432: FutureWarning: Default solver will be changed to 'lbfgs' in 0.22. Specify a solver to silence this warning.\n",
      "  FutureWarning)\n",
      "/Applications/anaconda3/lib/python3.7/site-packages/sklearn/linear_model/logistic.py:432: FutureWarning: Default solver will be changed to 'lbfgs' in 0.22. Specify a solver to silence this warning.\n",
      "  FutureWarning)\n",
      "/Applications/anaconda3/lib/python3.7/site-packages/sklearn/linear_model/logistic.py:432: FutureWarning: Default solver will be changed to 'lbfgs' in 0.22. Specify a solver to silence this warning.\n",
      "  FutureWarning)\n",
      "/Applications/anaconda3/lib/python3.7/site-packages/sklearn/linear_model/logistic.py:432: FutureWarning: Default solver will be changed to 'lbfgs' in 0.22. Specify a solver to silence this warning.\n",
      "  FutureWarning)\n",
      "/Applications/anaconda3/lib/python3.7/site-packages/sklearn/linear_model/logistic.py:432: FutureWarning: Default solver will be changed to 'lbfgs' in 0.22. Specify a solver to silence this warning.\n",
      "  FutureWarning)\n",
      "/Applications/anaconda3/lib/python3.7/site-packages/sklearn/linear_model/logistic.py:432: FutureWarning: Default solver will be changed to 'lbfgs' in 0.22. Specify a solver to silence this warning.\n",
      "  FutureWarning)\n"
     ]
    }
   ],
   "source": [
    "pipe3 = Pipeline([\n",
    "    ('tfidf', TfidfVectorizer()),\n",
    "    ('log', LogisticRegression())\n",
    "])\n",
    "\n",
    "gs = GridSearchCV(pipe3, pipe_params, cv = 5)\n",
    "gs.fit(X_train, y_train);\n",
    "model_3 = gs.best_estimator_"
   ]
  },
  {
   "cell_type": "code",
   "execution_count": 62,
   "metadata": {},
   "outputs": [],
   "source": [
    "pipe4 = Pipeline([\n",
    "    ('tfidf', TfidfVectorizer()),\n",
    "    ('ada', AdaBoostClassifier())\n",
    "])\n",
    "\n",
    "gs = GridSearchCV(pipe4, pipe_params, cv = 5)\n",
    "gs.fit(X_train, y_train);\n",
    "model_4 = gs.best_estimator_"
   ]
  },
  {
   "cell_type": "markdown",
   "metadata": {},
   "source": [
    "#### Comparing Model Scores"
   ]
  },
  {
   "cell_type": "code",
   "execution_count": 63,
   "metadata": {
    "scrolled": true
   },
   "outputs": [
    {
     "name": "stdout",
     "output_type": "stream",
     "text": [
      "Model 1 Training Score: 0.9701733172108021\n",
      "Model 1 Testing Score: 0.9130434782608695\n",
      "-------------------------------------------\n",
      "Model 2 Training Score: 0.9609028617492946\n",
      "Model 2 Testing Score: 0.8599033816425121\n",
      "-------------------------------------------\n",
      "Model 3 Training Score: 0.9693671906489318\n",
      "Model 3 Testing Score: 0.9118357487922706\n",
      "-------------------------------------------\n",
      "Model 4 Training Score: 0.9214026602176542\n",
      "Model 4 Testing Score: 0.8997584541062802\n"
     ]
    }
   ],
   "source": [
    "print(f'Model 1 Training Score: {model_1.score(X_train, y_train)}')\n",
    "print(f'Model 1 Testing Score: {model_1.score(X_test, y_test)}')\n",
    "print('-------------------------------------------')\n",
    "print(f'Model 2 Training Score: {model_2.score(X_train, y_train)}')\n",
    "print(f'Model 2 Testing Score: {model_2.score(X_test, y_test)}')\n",
    "print('-------------------------------------------')\n",
    "print(f'Model 3 Training Score: {model_3.score(X_train, y_train)}')\n",
    "print(f'Model 3 Testing Score: {model_3.score(X_test, y_test)}')\n",
    "print('-------------------------------------------')\n",
    "print(f'Model 4 Training Score: {model_4.score(X_train, y_train)}')\n",
    "print(f'Model 4 Testing Score: {model_4.score(X_test, y_test)}')"
   ]
  },
  {
   "cell_type": "code",
   "execution_count": 68,
   "metadata": {},
   "outputs": [
    {
     "data": {
      "text/plain": [
       "Pipeline(memory=None,\n",
       "         steps=[('tfidf',\n",
       "                 TfidfVectorizer(analyzer='word', binary=False,\n",
       "                                 decode_error='strict',\n",
       "                                 dtype=<class 'numpy.float64'>,\n",
       "                                 encoding='utf-8', input='content',\n",
       "                                 lowercase=True, max_df=1.0, max_features=None,\n",
       "                                 min_df=1, ngram_range=(1, 1), norm='l2',\n",
       "                                 preprocessor=None, smooth_idf=True,\n",
       "                                 stop_words='english', strip_accents=None,\n",
       "                                 sublinear_tf=False,\n",
       "                                 token_pattern='(?u)\\\\b\\\\w\\\\w+\\\\b',\n",
       "                                 tokenizer=None, use_idf=True,\n",
       "                                 vocabulary=None)),\n",
       "                ('ada',\n",
       "                 AdaBoostClassifier(algorithm='SAMME.R', base_estimator=None,\n",
       "                                    learning_rate=1.0, n_estimators=50,\n",
       "                                    random_state=None))],\n",
       "         verbose=False)"
      ]
     },
     "execution_count": 68,
     "metadata": {},
     "output_type": "execute_result"
    }
   ],
   "source": [
    "pipe4 = Pipeline([\n",
    "    ('tfidf', TfidfVectorizer()),\n",
    "    ('ada', AdaBoostClassifier())\n",
    "])\n",
    "\n",
    "gs = GridSearchCV(pipe4, pipe_params, cv = 5)\n",
    "gs.fit(X_train, y_train);\n",
    "gs.best_estimator_"
   ]
  },
  {
   "cell_type": "markdown",
   "metadata": {},
   "source": [
    "#### Comparing Model Confusion Matrices"
   ]
  },
  {
   "cell_type": "code",
   "execution_count": 64,
   "metadata": {},
   "outputs": [
    {
     "data": {
      "text/html": [
       "<div>\n",
       "<style scoped>\n",
       "    .dataframe tbody tr th:only-of-type {\n",
       "        vertical-align: middle;\n",
       "    }\n",
       "\n",
       "    .dataframe tbody tr th {\n",
       "        vertical-align: top;\n",
       "    }\n",
       "\n",
       "    .dataframe thead th {\n",
       "        text-align: right;\n",
       "    }\n",
       "</style>\n",
       "<table border=\"1\" class=\"dataframe\">\n",
       "  <thead>\n",
       "    <tr style=\"text-align: right;\">\n",
       "      <th></th>\n",
       "      <th>Predicted Mario Kart</th>\n",
       "      <th>Predicted Smash Bros Ultimate</th>\n",
       "    </tr>\n",
       "  </thead>\n",
       "  <tbody>\n",
       "    <tr>\n",
       "      <th>Actual Mario Kart</th>\n",
       "      <td>424</td>\n",
       "      <td>40</td>\n",
       "    </tr>\n",
       "    <tr>\n",
       "      <th>Actual Smash Bros Ultimate</th>\n",
       "      <td>32</td>\n",
       "      <td>332</td>\n",
       "    </tr>\n",
       "  </tbody>\n",
       "</table>\n",
       "</div>"
      ],
      "text/plain": [
       "                            Predicted Mario Kart  \\\n",
       "Actual Mario Kart                            424   \n",
       "Actual Smash Bros Ultimate                    32   \n",
       "\n",
       "                            Predicted Smash Bros Ultimate  \n",
       "Actual Mario Kart                                      40  \n",
       "Actual Smash Bros Ultimate                            332  "
      ]
     },
     "execution_count": 64,
     "metadata": {},
     "output_type": "execute_result"
    }
   ],
   "source": [
    "y_test_preds = model_1.predict(X_test)\n",
    "\n",
    "cm = confusion_matrix(y_test, y_test_preds)\n",
    "\n",
    "cm_df = pd.DataFrame(cm, \n",
    "                     columns = ['Predicted Mario Kart', 'Predicted Smash Bros Ultimate'], \n",
    "                     index = ['Actual Mario Kart', 'Actual Smash Bros Ultimate'])\n",
    "cm_df"
   ]
  },
  {
   "cell_type": "code",
   "execution_count": 65,
   "metadata": {},
   "outputs": [
    {
     "data": {
      "text/html": [
       "<div>\n",
       "<style scoped>\n",
       "    .dataframe tbody tr th:only-of-type {\n",
       "        vertical-align: middle;\n",
       "    }\n",
       "\n",
       "    .dataframe tbody tr th {\n",
       "        vertical-align: top;\n",
       "    }\n",
       "\n",
       "    .dataframe thead th {\n",
       "        text-align: right;\n",
       "    }\n",
       "</style>\n",
       "<table border=\"1\" class=\"dataframe\">\n",
       "  <thead>\n",
       "    <tr style=\"text-align: right;\">\n",
       "      <th></th>\n",
       "      <th>Predicted Mario Kart</th>\n",
       "      <th>Predicted Smash Bros Ultimate</th>\n",
       "    </tr>\n",
       "  </thead>\n",
       "  <tbody>\n",
       "    <tr>\n",
       "      <th>Actual Mario Kart</th>\n",
       "      <td>439</td>\n",
       "      <td>25</td>\n",
       "    </tr>\n",
       "    <tr>\n",
       "      <th>Actual Smash Bros Ultimate</th>\n",
       "      <td>91</td>\n",
       "      <td>273</td>\n",
       "    </tr>\n",
       "  </tbody>\n",
       "</table>\n",
       "</div>"
      ],
      "text/plain": [
       "                            Predicted Mario Kart  \\\n",
       "Actual Mario Kart                            439   \n",
       "Actual Smash Bros Ultimate                    91   \n",
       "\n",
       "                            Predicted Smash Bros Ultimate  \n",
       "Actual Mario Kart                                      25  \n",
       "Actual Smash Bros Ultimate                            273  "
      ]
     },
     "execution_count": 65,
     "metadata": {},
     "output_type": "execute_result"
    }
   ],
   "source": [
    "y_test_preds = model_2.predict(X_test)\n",
    "\n",
    "cm = confusion_matrix(y_test, y_test_preds)\n",
    "\n",
    "cm_df = pd.DataFrame(cm, \n",
    "                     columns = ['Predicted Mario Kart', 'Predicted Smash Bros Ultimate'], \n",
    "                     index = ['Actual Mario Kart', 'Actual Smash Bros Ultimate'])\n",
    "cm_df"
   ]
  },
  {
   "cell_type": "code",
   "execution_count": 66,
   "metadata": {},
   "outputs": [
    {
     "data": {
      "text/html": [
       "<div>\n",
       "<style scoped>\n",
       "    .dataframe tbody tr th:only-of-type {\n",
       "        vertical-align: middle;\n",
       "    }\n",
       "\n",
       "    .dataframe tbody tr th {\n",
       "        vertical-align: top;\n",
       "    }\n",
       "\n",
       "    .dataframe thead th {\n",
       "        text-align: right;\n",
       "    }\n",
       "</style>\n",
       "<table border=\"1\" class=\"dataframe\">\n",
       "  <thead>\n",
       "    <tr style=\"text-align: right;\">\n",
       "      <th></th>\n",
       "      <th>Predicted Mario Kart</th>\n",
       "      <th>Predicted Smash Bros Ultimate</th>\n",
       "    </tr>\n",
       "  </thead>\n",
       "  <tbody>\n",
       "    <tr>\n",
       "      <th>Actual Mario Kart</th>\n",
       "      <td>401</td>\n",
       "      <td>63</td>\n",
       "    </tr>\n",
       "    <tr>\n",
       "      <th>Actual Smash Bros Ultimate</th>\n",
       "      <td>10</td>\n",
       "      <td>354</td>\n",
       "    </tr>\n",
       "  </tbody>\n",
       "</table>\n",
       "</div>"
      ],
      "text/plain": [
       "                            Predicted Mario Kart  \\\n",
       "Actual Mario Kart                            401   \n",
       "Actual Smash Bros Ultimate                    10   \n",
       "\n",
       "                            Predicted Smash Bros Ultimate  \n",
       "Actual Mario Kart                                      63  \n",
       "Actual Smash Bros Ultimate                            354  "
      ]
     },
     "execution_count": 66,
     "metadata": {},
     "output_type": "execute_result"
    }
   ],
   "source": [
    "y_test_preds = model_3.predict(X_test)\n",
    "\n",
    "cm = confusion_matrix(y_test, y_test_preds)\n",
    "\n",
    "cm_df = pd.DataFrame(cm, \n",
    "                     columns = ['Predicted Mario Kart', 'Predicted Smash Bros Ultimate'], \n",
    "                     index = ['Actual Mario Kart', 'Actual Smash Bros Ultimate'])\n",
    "cm_df"
   ]
  },
  {
   "cell_type": "code",
   "execution_count": 67,
   "metadata": {},
   "outputs": [
    {
     "data": {
      "text/html": [
       "<div>\n",
       "<style scoped>\n",
       "    .dataframe tbody tr th:only-of-type {\n",
       "        vertical-align: middle;\n",
       "    }\n",
       "\n",
       "    .dataframe tbody tr th {\n",
       "        vertical-align: top;\n",
       "    }\n",
       "\n",
       "    .dataframe thead th {\n",
       "        text-align: right;\n",
       "    }\n",
       "</style>\n",
       "<table border=\"1\" class=\"dataframe\">\n",
       "  <thead>\n",
       "    <tr style=\"text-align: right;\">\n",
       "      <th></th>\n",
       "      <th>Predicted Mario Kart</th>\n",
       "      <th>Predicted Smash Bros Ultimate</th>\n",
       "    </tr>\n",
       "  </thead>\n",
       "  <tbody>\n",
       "    <tr>\n",
       "      <th>Actual Mario Kart</th>\n",
       "      <td>388</td>\n",
       "      <td>76</td>\n",
       "    </tr>\n",
       "    <tr>\n",
       "      <th>Actual Smash Bros Ultimate</th>\n",
       "      <td>7</td>\n",
       "      <td>357</td>\n",
       "    </tr>\n",
       "  </tbody>\n",
       "</table>\n",
       "</div>"
      ],
      "text/plain": [
       "                            Predicted Mario Kart  \\\n",
       "Actual Mario Kart                            388   \n",
       "Actual Smash Bros Ultimate                     7   \n",
       "\n",
       "                            Predicted Smash Bros Ultimate  \n",
       "Actual Mario Kart                                      76  \n",
       "Actual Smash Bros Ultimate                            357  "
      ]
     },
     "execution_count": 67,
     "metadata": {},
     "output_type": "execute_result"
    }
   ],
   "source": [
    "y_test_preds = model_4.predict(X_test)\n",
    "\n",
    "cm = confusion_matrix(y_test, y_test_preds)\n",
    "\n",
    "cm_df = pd.DataFrame(cm, \n",
    "                     columns = ['Predicted Mario Kart', 'Predicted Smash Bros Ultimate'], \n",
    "                     index = ['Actual Mario Kart', 'Actual Smash Bros Ultimate'])\n",
    "cm_df"
   ]
  },
  {
   "cell_type": "markdown",
   "metadata": {},
   "source": [
    "### Outside Research\n",
    "What is Reddit? Reddit is home to thousands of communities, endless conversation, an authentic human connection. Whether you're into breaking news, sports, TV fan theories, or a never-ending stream of the internet's cutest animals, there's a community on Reddit for you. \n",
    "\n",
    "How does Reddit Work? Every day, millions of people around the world post, vote, and comment in communities organized around their interests. \n",
    "- Post: The community can share content by posting stories, links, images, and videos.\n",
    "- Comment: The community comments on posts. Comments provide discussion and often humor. \n",
    "- Vote: Comments & posts can be upvoted or downvoted. The most interesting content rises to the top. \n",
    "\n",
    "**Mario Kart Subreddit**\n",
    "\n",
    "> About Community: \n",
    "- 63.7k racers\n",
    "- Created on January 12, 2011\n",
    "\n",
    "Subreddit Rules: \n",
    "1. No unsourced artwork\n",
    "2. No low-quality posts \n",
    "3. No unapproved self-advertisements\n",
    "4. No NSFW posts\n",
    "\n",
    "Filters: \n",
    "- Discussion\n",
    "- Meta\n",
    "- Humor \n",
    "- Replay/Clip\n",
    "- News/Article\n",
    "- Competitive\n",
    "- Fan Content\n",
    "- Achievement \n",
    "\n",
    "There are many rules for the Mario Kart subreddit where the general basis is to post PG quality related posts. As we can see, there are numerous filters so there isn't a very consistent discussion going on as it spreads across various topics. \n",
    "\n",
    "**Smash Bros Ultimate Subreddit**\n",
    "\n",
    "> About Community: \n",
    "- 292k returning veterans\n",
    "- Created on June 12, 2018\n",
    "\n",
    "Subreddit Rules: \n",
    "1. Be excellent to one another\n",
    "2. No low-effort/misleading posts\n",
    "3. No off topic posts\n",
    "4. Keep it clean\n",
    "5. No advertising or self-promotion\n",
    "6. Mark spoilers\n",
    "7. No reposts\n",
    "8. No stolen content\n",
    "\n",
    "Filters: \n",
    "- Meme/Funny\n",
    "- Image/Gif\n",
    "- Video\n",
    "- Fan Made\n",
    "- Speculation\n",
    "- Official News\n",
    "\n",
    "Unlike the Mario Kart subreddit, the Smash Bros Ultimate subreddit has many more rules to help steer discussions or posts in a specific direction. As a result, there are also fewer filters, especially considering the fact that there is over 3 times the number of Reddit users in the community. It shows that there is a high amount of consistency across posts. "
   ]
  },
  {
   "cell_type": "markdown",
   "metadata": {},
   "source": [
    "### Conclusion and Recommendations\n",
    "After exploring a few different models and tuning those models by playing with the hyperparameters, we discovered that our Tuned AdaBoost model is ideal in differentiating titles into the correct reddit as it is 92.14% accurate in classifying our training set and 89.98% accurate in classifying our testing set. As shown in the table below, we can see all the training and testing model accuracy scores. While our Tuned AdaBoost model doesn't necessarily have the highest scores, we care more about the two scores being as close together as possible because it shows that our model isn't overfit to our training data. For instance, if we look at the Multinomial NB model, the training score is quite high with a 95.49% accuracy, but the testing score is nearly 10 points lower at 84.54% accuracy, which means that this model is very overfit to the training data set and doesn't do well in classifying new titles into the correct subreddit. Overall, our Tuned AdaBoost model still does fairly well considering that it managed to predict 90% of our titles to the correct subreddit out of a sample of over 3000 rows (which means that it was inaccurate on about 300 rows). \n",
    "\n",
    "|Model|Training Score|Testing Score|\n",
    "|---|---|---|\n",
    "|Bernoulli NB|0.9669|0.8998|\n",
    "|Multinomial NB|0.9549|0.8454|\n",
    "|Logistic Regression|0.9694|0.9058|\n",
    "|AdaBoost Classifier|0.9202|0.8937|\n",
    "|Bernoulli NB Tuned|0.9702|0.9130|\n",
    "|Multinomial NB Tuned|0.9609|0.8599|\n",
    "|Logistic Regression Tuned|0.9694|0.9118|\n",
    "|AdaBoost Classifier Tuned|0.9214|0.8998|\n",
    "\n",
    "However, we do need to consider that this is still a relatively \"surface level\" model so there are downfalls to this model. Primarily, our model is only catered to two specific subreddits: Mario Kart and Smash Bros Ultimate. Therefore, we can't apply this model to other subreddits such as Mario Party or Super Mario Bros unless we make some modifications. In addition, we could also tune our hyperparameters further as we are only exploring four hyperparameters out of a myriad of possible combinations that could increase our model's accuracy so it can learn more and be capable of thinking more like a human. Furthermore, this data is also time based as recommendations made today may not be the same a year from now as these subreddits are constantly growing and topics may change. \n",
    "\n",
    "Overall, we suggest that Nintendo market their new Mario Kart game as essentially the title. For example, if the game is going to be called \"Mario Kart Global\" then our recommended hashtag is \"#mariokartglobal\" as the most common words we discovered in the Mario Kart subreddit to be \"kart\" (when looking at a single word option) or \"mario kart\" (when looking at a consecutive two word option). Building off of the consecutive two word option, the next couple most common word combinations are: \"kart tour\" and \"kart deluxe\" which refer to the latest, Mario Kart Tour, and Mario Kart Deluxe 8, respectively. Additionally, we recommend refraining from including numbers in the hashtag based on the sole foundation of what we discovered from Mario Kart 8 Deluxe being referred to as \"mario kart deluxe\" instead of \"mario kart 8.\" "
   ]
  }
 ],
 "metadata": {
  "kernelspec": {
   "display_name": "Python 3",
   "language": "python",
   "name": "python3"
  },
  "language_info": {
   "codemirror_mode": {
    "name": "ipython",
    "version": 3
   },
   "file_extension": ".py",
   "mimetype": "text/x-python",
   "name": "python",
   "nbconvert_exporter": "python",
   "pygments_lexer": "ipython3",
   "version": "3.7.4"
  }
 },
 "nbformat": 4,
 "nbformat_minor": 2
}
