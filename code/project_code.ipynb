{
 "cells": [
  {
   "cell_type": "markdown",
   "metadata": {},
   "source": [
    "# Project 3: Web APIs and NLP\n",
    "_By: Kelly Wu (NYC - Tensors)_"
   ]
  },
  {
   "cell_type": "markdown",
   "metadata": {},
   "source": [
    "## Problem Statement\n",
    "After a huge success from releaseing Mario Kart Tour, Nintendo is about to release another iteration of Mario Kart and wants to utilize their social media presence to create buzz as users and consumers will already have their phones in hand. The marketing department has to come up with another new and catchy name! However, the office has become split about what word to use. Some say to just use \"Mario Kart\" because it's known and can create a sense of minimalism. Some are arguing that \"Mario Kart\" too general for this new release and are throwing out various add-ons to \"Mario Kart\" like \"Mario Kart World\" or \"Mart Kart 3000.\" Others are just throwing random words to spice things up like \"Luigi Kart,\" \"Mushroom Race,\" and \"Luigi Drive.\" With a divided office, they managed to all agree on one thing: hire an analyst to help them decide. What word should the marketing team decide on before releasing news about the upcoming Mario Kart? \n",
    "\n",
    "## Executive Summary\n",
    "We begin our process by going to the home of topic conversations: Reddit. There we decided to choose two popular Mario game subreddits: Mario Kart and Smash Bros Ultimate. From those two subreddits, we began by gathering our data through webscraping via 10 request pulls and converting all our findings into a nice data frame to work with in our analysis (which can be found in a separate notebook in the code folder). Afterwards, we saved and exportd our nicely converted data to be imported into a new notebook to begin a cleaning and exploratory data analysis to fix any immediately noticeable values that wouldn't be beneficial to us. \n",
    "\n",
    "Here we searched for any outliers and null values that we decided to drop from our dataset as they were only a minute number of rows in our overall collected data. In the end, we had abotu 1850 rows from the Mario Kart subreddit and 1450 rows from the Smash Bros Ultimate subreddit. Next we decided to focus on the titles as we figured that you always get grabbed by a title before actually reading the content. So we dived into lemmatizing-to pull root words from the title words- and count vectorizing to determine the frequency of certain words-single words and consecutive pair words. Afterwards, we looked at the frequency with consideration of an existing set of English stop words to reduce any \"noise\" (as we don't want common words like \"the\" or \"a\" showing up on our list). \n",
    "\n",
    "After discovering our potential hashtag words, we went on to a modeling process to see if we could find the best model in prediciting whether it can classify certain titles into the correct subreddit. Our goal here is that we want don't want to select a hashtag that is too ambiguous and won't have an immediate recognition to Mario Kart. Therefore, we have our second subreddit, which is slightly similar, to see how accurate our potential hashtag may be in representing the upcoming Mario Kart and not being confused for Smash Bros Ultimate. Through modeling we explore Naive Bayes and Classifier models and play with some of the hyperparameters to tune and find the best model and come to our conclusion.\n",
    "\n",
    "\n",
    "## Contents\n",
    "- [Imports](#Imports)\n",
    "    - [Import Libraries](#Import-Libraries)\n",
    "    - [Import Cleaned Data](#Import-Cleaned-Data)\n",
    "- [Exploratory Data Analysis and Preprocessing](#Exploratory-Data-Analysis-and-Preprocessing)\n",
    "    - [Outliers and Null Values](#Outliers-and-Null-Values)\n",
    "    - [Lemmatizing](#Lemmatizing)\n",
    "    - [Count Vectorizer](#Count-Vectorizer)\n",
    "        - [Frequency of Single Grams](#Frequency-of-Single-Grams)\n",
    "        - [Frequency of Bigrams](#Frequency-of-Bigrams)\n",
    "        - [Frequency of Single Grams with Stop Words](#Frequency-of-Single-Grams-with-Stop-Words)\n",
    "        - [Frequency of Bigrams with Stop Words](#Frequency-of-Bigrams-with-Stop-Words)\n",
    "    - [Visualizations](#Visualizations)\n",
    "- [Modeling](#Modeling)\n",
    "    - [Combining Data Frames](#Combining-Data-Frames)\n",
    "    - [Creating Our Variables](#Creating-Our-Variables)\n",
    "    - [Baseline](#Baseline)\n",
    "    - [Classifiers](#Classifiers)\n",
    "        - [Bernoulli Naive Bayes](#Bernoulli-Naive-Bayes)\n",
    "        - [Multinomial Naive Bayes](#Multinomial-Naive-Bayes)\n",
    "        - [Logistic Regression](#Logistic-Regression)\n",
    "        - [AdaBoost](#AdaBoost)\n",
    "    - [Initial Modeling Notes](#Initial-Modeling-Notes)\n",
    "- [Determining Our Best Model via Pipeline and GridSearch](#Determining-Our-Best-Model-via-Pipeline-and-GridSearch)\n",
    "    - [Comparing Model Scores](#Comparing-Model-Scores)\n",
    "    - [Comparing Model Confusion Matrices](#Comparing-Model-Confusion-Matrices)\n",
    "- [Testing Potential Game Names Classification](#Testing-Potential-Game-Names-Classification)\n",
    "- [Outside Research](#Outside-Research)\n",
    "- [Conclusion and Recommendations](#Conclusion-and-Recommendations)"
   ]
  },
  {
   "cell_type": "markdown",
   "metadata": {},
   "source": [
    "### Imports\n",
    "\n",
    "#### Import Libraries"
   ]
  },
  {
   "cell_type": "code",
   "execution_count": 1,
   "metadata": {},
   "outputs": [],
   "source": [
    "import numpy as np\n",
    "import pandas as pd\n",
    "import regex as re\n",
    "import matplotlib.pyplot as plt\n",
    "%matplotlib inline\n",
    "\n",
    "from nltk.corpus import stopwords\n",
    "from nltk.tokenize import RegexpTokenizer\n",
    "from nltk.stem import WordNetLemmatizer\n",
    "\n",
    "from sklearn.feature_extraction.text import CountVectorizer, TfidfVectorizer\n",
    "from sklearn.model_selection import train_test_split, cross_val_score, GridSearchCV\n",
    "from sklearn.naive_bayes import BernoulliNB, MultinomialNB\n",
    "from sklearn.pipeline import Pipeline\n",
    "from sklearn.ensemble import AdaBoostClassifier\n",
    "from sklearn.svm import SVC\n",
    "from sklearn.linear_model import LogisticRegression\n",
    "from sklearn.metrics import confusion_matrix, accuracy_score"
   ]
  },
  {
   "cell_type": "markdown",
   "metadata": {},
   "source": [
    "#### Import Cleaned Data"
   ]
  },
  {
   "cell_type": "code",
   "execution_count": 2,
   "metadata": {},
   "outputs": [],
   "source": [
    "mario_kart = pd.read_csv('../datasets/mariokart.csv')\n",
    "smash = pd.read_csv('../datasets/smashultimate.csv')"
   ]
  },
  {
   "cell_type": "markdown",
   "metadata": {},
   "source": [
    "### Exploratory Data Analysis and Preprocessing\n",
    "Here we tackle the surface level data cleaning and analysis to handle any immediate eye catchers so they don't affect our modeling later on. "
   ]
  },
  {
   "cell_type": "markdown",
   "metadata": {},
   "source": [
    "#### Outliers and Null Values"
   ]
  },
  {
   "cell_type": "code",
   "execution_count": 3,
   "metadata": {},
   "outputs": [
    {
     "name": "stdout",
     "output_type": "stream",
     "text": [
      "(1857, 3)\n",
      "(1453, 3)\n"
     ]
    }
   ],
   "source": [
    "# Check to see how many rows of data we have for each subreddit\n",
    "print(mario_kart.shape)\n",
    "print(smash.shape)"
   ]
  },
  {
   "cell_type": "code",
   "execution_count": 4,
   "metadata": {},
   "outputs": [
    {
     "data": {
      "text/plain": [
       "title         0\n",
       "selftext     99\n",
       "subreddit     0\n",
       "dtype: int64"
      ]
     },
     "execution_count": 4,
     "metadata": {},
     "output_type": "execute_result"
    }
   ],
   "source": [
    "# See how many nulls we have\n",
    "mario_kart.isna().sum()"
   ]
  },
  {
   "cell_type": "code",
   "execution_count": 5,
   "metadata": {},
   "outputs": [
    {
     "data": {
      "text/plain": [
       "title         0\n",
       "selftext     24\n",
       "subreddit     0\n",
       "dtype: int64"
      ]
     },
     "execution_count": 5,
     "metadata": {},
     "output_type": "execute_result"
    }
   ],
   "source": [
    "smash.isna().sum()"
   ]
  },
  {
   "cell_type": "code",
   "execution_count": 6,
   "metadata": {},
   "outputs": [],
   "source": [
    "def drop_columns(data): \n",
    "    data = data.drop(columns = ['selftext'])\n",
    "    return data "
   ]
  },
  {
   "cell_type": "code",
   "execution_count": 7,
   "metadata": {},
   "outputs": [],
   "source": [
    "mario_kart = drop_columns(mario_kart)\n",
    "smash = drop_columns(smash)"
   ]
  },
  {
   "cell_type": "markdown",
   "metadata": {},
   "source": [
    "- We can see that there are many null values in each subreddit's dataframes, but since our focus is on the titles and not the content (selftext), we don't have to worry about the existing null values. Therefore, we dropped the entire selftext column."
   ]
  },
  {
   "cell_type": "code",
   "execution_count": 8,
   "metadata": {},
   "outputs": [
    {
     "data": {
      "text/plain": [
       "851     \"The Inserted SD card does not contain CTGP-R....\n",
       "768     (4th of 4 surveys) How does esports improve th...\n",
       "1673    (Hyduken) Super MarioKart Hyper street kart 20...\n",
       "150     (I know Nintendo is Hosting a Tournament at th...\n",
       "149     (I know Nintendo is Hosting a tournament atm o...\n",
       "                              ...                        \n",
       "1681    {Hyduken} Super Mario Kart Hyper Street Kart 2...\n",
       "313                           {MK7] Tips for Time Trials.\n",
       "1808                       {MKWii} ctww wont load on ctgp\n",
       "1103                        “Fire Hopping” and “Snaking”?\n",
       "1157                                                    🐕\n",
       "Name: title, Length: 1857, dtype: object"
      ]
     },
     "execution_count": 8,
     "metadata": {},
     "output_type": "execute_result"
    }
   ],
   "source": [
    "# Check to see if we possibly have any outliers\n",
    "mario_kart['title'].sort_values()"
   ]
  },
  {
   "cell_type": "markdown",
   "metadata": {},
   "source": [
    "- From sorting our values, we can see that we have one row that has an emoji title instead of words so it isn't useful to us in training a model to classify posts to the correct subreddit. "
   ]
  },
  {
   "cell_type": "code",
   "execution_count": 9,
   "metadata": {},
   "outputs": [],
   "source": [
    "# Drop outlier\n",
    "mario_kart.drop(index = 1157, inplace = True)"
   ]
  },
  {
   "cell_type": "code",
   "execution_count": 10,
   "metadata": {},
   "outputs": [
    {
     "data": {
      "text/plain": [
       "851     \"The Inserted SD card does not contain CTGP-R....\n",
       "768     (4th of 4 surveys) How does esports improve th...\n",
       "1673    (Hyduken) Super MarioKart Hyper street kart 20...\n",
       "150     (I know Nintendo is Hosting a Tournament at th...\n",
       "149     (I know Nintendo is Hosting a tournament atm o...\n",
       "                              ...                        \n",
       "98                                   who are your mains ?\n",
       "1681    {Hyduken} Super Mario Kart Hyper Street Kart 2...\n",
       "313                           {MK7] Tips for Time Trials.\n",
       "1808                       {MKWii} ctww wont load on ctgp\n",
       "1103                        “Fire Hopping” and “Snaking”?\n",
       "Name: title, Length: 1856, dtype: object"
      ]
     },
     "execution_count": 10,
     "metadata": {},
     "output_type": "execute_result"
    }
   ],
   "source": [
    "# Check to ensure that we dropped our outlier\n",
    "mario_kart['title'].sort_values()"
   ]
  },
  {
   "cell_type": "code",
   "execution_count": 11,
   "metadata": {},
   "outputs": [],
   "source": [
    "# Reset our indexes so our data frame isn't missing a row 1157 \n",
    "# and actually goes in consecutive order again \n",
    "# https://stackoverflow.com/questions/20490274/how-to-reset-index-in-a-pandas-dataframe\n",
    "mario_kart = mario_kart.reset_index(drop = True)"
   ]
  },
  {
   "cell_type": "code",
   "execution_count": 12,
   "metadata": {},
   "outputs": [
    {
     "data": {
      "text/plain": [
       "1288                            \"COB\" tourney in Seattle?\n",
       "1329                                    \"Heart\" codename?\n",
       "818                          \"Overwriting\" enemy attacks?\n",
       "204        \"Phantom\" - Me, Colored Pens and Pencils, 2019\n",
       "878                                       #SUPPORT BOCCHI\n",
       "                              ...                        \n",
       "575     whats the best spirit team for the spirit tour...\n",
       "955     why do I get punished for playing against poor...\n",
       "169                      why do I want Lego yoda in smash\n",
       "476                           world of light final battle\n",
       "303                         “Unsporting Behavior” Venting\n",
       "Name: title, Length: 1453, dtype: object"
      ]
     },
     "execution_count": 12,
     "metadata": {},
     "output_type": "execute_result"
    }
   ],
   "source": [
    "smash['title'].sort_values()"
   ]
  },
  {
   "cell_type": "markdown",
   "metadata": {},
   "source": [
    "- We did a basic search for any obvious outliers that may not be useful to our modeling process and found one row in the Mario Kart data, which we dropped. Fortunately, there were no obvious outliers in the Smash Bros Ultimate data. "
   ]
  },
  {
   "cell_type": "code",
   "execution_count": 13,
   "metadata": {},
   "outputs": [
    {
     "data": {
      "text/html": [
       "<div>\n",
       "<style scoped>\n",
       "    .dataframe tbody tr th:only-of-type {\n",
       "        vertical-align: middle;\n",
       "    }\n",
       "\n",
       "    .dataframe tbody tr th {\n",
       "        vertical-align: top;\n",
       "    }\n",
       "\n",
       "    .dataframe thead th {\n",
       "        text-align: right;\n",
       "    }\n",
       "</style>\n",
       "<table border=\"1\" class=\"dataframe\">\n",
       "  <thead>\n",
       "    <tr style=\"text-align: right;\">\n",
       "      <th></th>\n",
       "      <th>count</th>\n",
       "      <th>unique</th>\n",
       "      <th>top</th>\n",
       "      <th>freq</th>\n",
       "    </tr>\n",
       "  </thead>\n",
       "  <tbody>\n",
       "    <tr>\n",
       "      <th>title</th>\n",
       "      <td>1856</td>\n",
       "      <td>1856</td>\n",
       "      <td>[MK8DX] Does online track selection change dep...</td>\n",
       "      <td>1</td>\n",
       "    </tr>\n",
       "    <tr>\n",
       "      <th>subreddit</th>\n",
       "      <td>1856</td>\n",
       "      <td>1</td>\n",
       "      <td>mariokart</td>\n",
       "      <td>1856</td>\n",
       "    </tr>\n",
       "  </tbody>\n",
       "</table>\n",
       "</div>"
      ],
      "text/plain": [
       "          count unique                                                top  \\\n",
       "title      1856   1856  [MK8DX] Does online track selection change dep...   \n",
       "subreddit  1856      1                                          mariokart   \n",
       "\n",
       "           freq  \n",
       "title         1  \n",
       "subreddit  1856  "
      ]
     },
     "execution_count": 13,
     "metadata": {},
     "output_type": "execute_result"
    }
   ],
   "source": [
    "# Summary statistics\n",
    "mario_kart.describe().T"
   ]
  },
  {
   "cell_type": "code",
   "execution_count": 14,
   "metadata": {},
   "outputs": [
    {
     "data": {
      "text/html": [
       "<div>\n",
       "<style scoped>\n",
       "    .dataframe tbody tr th:only-of-type {\n",
       "        vertical-align: middle;\n",
       "    }\n",
       "\n",
       "    .dataframe tbody tr th {\n",
       "        vertical-align: top;\n",
       "    }\n",
       "\n",
       "    .dataframe thead th {\n",
       "        text-align: right;\n",
       "    }\n",
       "</style>\n",
       "<table border=\"1\" class=\"dataframe\">\n",
       "  <thead>\n",
       "    <tr style=\"text-align: right;\">\n",
       "      <th></th>\n",
       "      <th>count</th>\n",
       "      <th>unique</th>\n",
       "      <th>top</th>\n",
       "      <th>freq</th>\n",
       "    </tr>\n",
       "  </thead>\n",
       "  <tbody>\n",
       "    <tr>\n",
       "      <th>title</th>\n",
       "      <td>1453</td>\n",
       "      <td>1453</td>\n",
       "      <td>Everyone is hyped for SNK character...</td>\n",
       "      <td>1</td>\n",
       "    </tr>\n",
       "    <tr>\n",
       "      <th>subreddit</th>\n",
       "      <td>1453</td>\n",
       "      <td>1</td>\n",
       "      <td>SmashBrosUltimate</td>\n",
       "      <td>1453</td>\n",
       "    </tr>\n",
       "  </tbody>\n",
       "</table>\n",
       "</div>"
      ],
      "text/plain": [
       "          count unique                                     top  freq\n",
       "title      1453   1453  Everyone is hyped for SNK character...     1\n",
       "subreddit  1453      1                       SmashBrosUltimate  1453"
      ]
     },
     "execution_count": 14,
     "metadata": {},
     "output_type": "execute_result"
    }
   ],
   "source": [
    "smash.describe().T"
   ]
  },
  {
   "cell_type": "markdown",
   "metadata": {},
   "source": [
    "#### Lemmatizing\n",
    "Here we begin the preprocessing. We defined a function to lemmatize and give us a cleaned output for titles that may have inflection forms of words. This process allows us to find the base or root word for varied words. "
   ]
  },
  {
   "cell_type": "code",
   "execution_count": 15,
   "metadata": {},
   "outputs": [],
   "source": [
    "def lemmatize(column): \n",
    "    # Instantiate tokenizer\n",
    "    tokenizer = RegexpTokenizer(r'[A-z]+')\n",
    "    \n",
    "    # Tokenize text\n",
    "    tokens = [tokenizer.tokenize(text.lower()) for text in column]\n",
    "    \n",
    "    # Instantiate lemmatizer\n",
    "    lemmatizer = WordNetLemmatizer()\n",
    "    tokens_lem = []\n",
    "   \n",
    "    # Lemmatize tokens with a for loop\n",
    "    for words in tokens:\n",
    "        lem_list = [lemmatizer.lemmatize(i) for i in words] # Create a list where we lemmatize our tokens \n",
    "        lem_post = ''                                   \n",
    "        \n",
    "        # Adjust lemmatized tokens to still be contained as the original title instead of separate words\n",
    "        # Code from Noah \n",
    "        for word in lem_list: \n",
    "            lem_post += (word + ' ')\n",
    "        tokens_lem.append(lem_post.strip())\n",
    "    \n",
    "    return tokens_lem"
   ]
  },
  {
   "cell_type": "code",
   "execution_count": 16,
   "metadata": {},
   "outputs": [],
   "source": [
    "mario_kart_lem = lemmatize(mario_kart['title'])\n",
    "smash_lem = lemmatize(smash['title'])"
   ]
  },
  {
   "cell_type": "markdown",
   "metadata": {},
   "source": [
    "#### Count Vectorizer\n",
    "Here we define a function where we can specify parameters via function inputs to count up the frequency of the most common words in a given subreddit. "
   ]
  },
  {
   "cell_type": "code",
   "execution_count": 17,
   "metadata": {},
   "outputs": [],
   "source": [
    "# Worked with Despina\n",
    "\n",
    "def mk_word_frequency(stop = None, n_gram = (1,1)):\n",
    "    # Instantiate Count Vectorizer \n",
    "    cvec = CountVectorizer(stop_words = stop, ngram_range = n_gram) \n",
    "    \n",
    "    # Create dataframe based on our previously lemmatized titles\n",
    "    cvec_df = pd.DataFrame(cvec.fit_transform(mario_kart_lem).toarray(),\n",
    "                           columns = cvec.get_feature_names())\n",
    "    \n",
    "    # Sum up word occurences and sort them from most frequent to least \n",
    "    cvec_counts = cvec_df.sum().sort_values(ascending = False)\n",
    "    return cvec_counts"
   ]
  },
  {
   "cell_type": "code",
   "execution_count": 18,
   "metadata": {},
   "outputs": [],
   "source": [
    "# Same defined function as above for the Smash Bros Ultimate data \n",
    "\n",
    "def smash_word_frequency(stop = None, n_gram = (1,1)):\n",
    "    cvec = CountVectorizer(stop_words = stop, ngram_range = n_gram)\n",
    "    cvec_df = pd.DataFrame(cvec.fit_transform(smash_lem).toarray(),\n",
    "                           columns = cvec.get_feature_names())\n",
    "\n",
    "    cvec_counts = cvec_df.sum().sort_values(ascending = False)\n",
    "    return cvec_counts"
   ]
  },
  {
   "cell_type": "markdown",
   "metadata": {},
   "source": [
    "#### Frequency of Single Grams\n",
    "Here we are simply calling the functions we defined since we want the single gram without any stop words. "
   ]
  },
  {
   "cell_type": "code",
   "execution_count": 19,
   "metadata": {},
   "outputs": [],
   "source": [
    "mk_single = mk_word_frequency()"
   ]
  },
  {
   "cell_type": "code",
   "execution_count": 20,
   "metadata": {},
   "outputs": [],
   "source": [
    "smash_single = smash_word_frequency()"
   ]
  },
  {
   "cell_type": "markdown",
   "metadata": {},
   "source": [
    "#### Frequency of Bigrams \n",
    "Here we input our `n_gram` to be set to `(2,2)` as we want the bigram count without stop words. "
   ]
  },
  {
   "cell_type": "code",
   "execution_count": 21,
   "metadata": {},
   "outputs": [],
   "source": [
    "mk_bigram = mk_word_frequency(n_gram = (2,2))"
   ]
  },
  {
   "cell_type": "code",
   "execution_count": 22,
   "metadata": {},
   "outputs": [],
   "source": [
    "smash_bigram = smash_word_frequency(n_gram = (2,2))"
   ]
  },
  {
   "cell_type": "markdown",
   "metadata": {},
   "source": [
    "####  Frequency of Single Grams with Stop Words\n",
    "Here we input our `stop` to be set to `'english'` as we want the default single gram, while ignoring specific words in the `scikit learn` package such as articles like `the` from being included in our output. "
   ]
  },
  {
   "cell_type": "code",
   "execution_count": 23,
   "metadata": {},
   "outputs": [],
   "source": [
    "mk_stop_single = mk_word_frequency(stop = 'english')"
   ]
  },
  {
   "cell_type": "code",
   "execution_count": 24,
   "metadata": {},
   "outputs": [],
   "source": [
    "smash_stop_single = smash_word_frequency(stop = 'english')"
   ]
  },
  {
   "cell_type": "markdown",
   "metadata": {},
   "source": [
    "#### Frequency of Bigrams with Stop Words\n",
    "Here we input our `stop` to be set to `'english'` and our `n_gram` to be set to `(2,2)` for a bigram, while ignoring specific words in the `scikit learn` package such as articles like `the` from being included in our output. "
   ]
  },
  {
   "cell_type": "code",
   "execution_count": 25,
   "metadata": {},
   "outputs": [],
   "source": [
    "mk_stop_bigram = mk_word_frequency(stop = 'english', n_gram = (2,2))"
   ]
  },
  {
   "cell_type": "code",
   "execution_count": 26,
   "metadata": {},
   "outputs": [],
   "source": [
    "smash_stop_bigram = smash_word_frequency(stop = 'english', n_gram = (2,2))"
   ]
  },
  {
   "cell_type": "markdown",
   "metadata": {},
   "source": [
    "#### Visualizations\n",
    "After calling the functions for our frequency counts across 4 different parameters, we visualize the top ten most frequent counts as follows. "
   ]
  },
  {
   "cell_type": "code",
   "execution_count": 27,
   "metadata": {
    "scrolled": false
   },
   "outputs": [
    {
     "data": {
      "image/png": "[encoded data removed]",
      "text/plain": [
       "<Figure size 648x360 with 1 Axes>"
      ]
     },
     "metadata": {
      "needs_background": "light"
     },
     "output_type": "display_data"
    }
   ],
   "source": [
    "mario_kart_single_frequency = pd.DataFrame(data = mk_single, \n",
    "                                           columns = ['Frequency'])\n",
    "\n",
    "top_10_single = mario_kart_single_frequency.head(10)\n",
    "\n",
    "top_10_single.sort_values(by = 'Frequency', ascending = True).plot(kind = 'barh', \n",
    "                                                                  color = 'blue', \n",
    "                                                                  figsize = (9,5))\n",
    "\n",
    "plt.title('Most Frequent Single Gram Titles on r/mariokart',size = 20)\n",
    "plt.xlabel('Counts', size = 10)\n",
    "plt.ylabel('Words', size = 10);"
   ]
  },
  {
   "cell_type": "markdown",
   "metadata": {},
   "source": [
    "_Chart 1:_\n",
    "\n",
    "We can see that `mk` is the most frequent single gram word, which is interesting as this tells us many users actually abbreviate Mario Kart, instead of writing out the entire name. In addition, we can see that common article words make up half of our top ten list, which isn't very helpful in determining which word will be best to name the next Mario Kart iteration. "
   ]
  },
  {
   "cell_type": "code",
   "execution_count": 28,
   "metadata": {},
   "outputs": [
    {
     "data": {
      "image/png": "[encoded data removed]",
      "text/plain": [
       "<Figure size 648x360 with 1 Axes>"
      ]
     },
     "metadata": {
      "needs_background": "light"
     },
     "output_type": "display_data"
    }
   ],
   "source": [
    "smash_single_frequency = pd.DataFrame(data = smash_single, \n",
    "                                         columns = ['Frequency'])\n",
    "\n",
    "top_10_single = smash_single_frequency.head(10)\n",
    "\n",
    "top_10_single.sort_values(by = 'Frequency', ascending = True).plot(kind = 'barh', \n",
    "                                                                  color = 'blue', \n",
    "                                                                  figsize = (9,5))\n",
    "\n",
    "plt.title('Most Frequent Single Gram Titles on r/SmashBrosUltimate',size = 20)\n",
    "plt.xlabel('Counts', size = 10)\n",
    "plt.ylabel('Words', size = 10);"
   ]
  },
  {
   "cell_type": "markdown",
   "metadata": {},
   "source": [
    "_Chart 2:_\n",
    "\n",
    "Similarly to Chart 1, the Smash Bros Ultimate data also suffers from common article words being used often in users' post titles, but much more as the only truly standout words that relate to the subreddit are \"smash\" and \"character\" while all other words don't seem unique. "
   ]
  },
  {
   "cell_type": "code",
   "execution_count": 29,
   "metadata": {},
   "outputs": [
    {
     "data": {
      "image/png": "[encoded data removed]",
      "text/plain": [
       "<Figure size 648x360 with 1 Axes>"
      ]
     },
     "metadata": {
      "needs_background": "light"
     },
     "output_type": "display_data"
    }
   ],
   "source": [
    "mario_kart_double_frequency = pd.DataFrame(data = mk_bigram, \n",
    "                                         columns = ['Frequency'])\n",
    "\n",
    "top_10_double = mario_kart_double_frequency.head(10)\n",
    "\n",
    "top_10_double.sort_values(by = 'Frequency', ascending = True).plot(kind = 'barh', \n",
    "                                                                  color = 'red', \n",
    "                                                                  figsize = (9,5))\n",
    "\n",
    "plt.title('Most Frequent Bigram Titles on r/mariokart',size = 20)\n",
    "plt.xlabel('Counts', size = 10)\n",
    "plt.ylabel('Words', size = 10);"
   ]
  },
  {
   "cell_type": "markdown",
   "metadata": {},
   "source": [
    "_Chart 3:_\n",
    "\n",
    "To combat the articles problem, we can view the top ten most frequent bigrams, which are pairs of consecutive words. As shown above, we tend to have less articles popping up, but we still have some appear along with unique words we care for such as `in mario.` However, we don't care much for `on the` which contains two articles."
   ]
  },
  {
   "cell_type": "code",
   "execution_count": 30,
   "metadata": {},
   "outputs": [
    {
     "data": {
      "image/png": "[encoded data removed]",
      "text/plain": [
       "<Figure size 648x360 with 1 Axes>"
      ]
     },
     "metadata": {
      "needs_background": "light"
     },
     "output_type": "display_data"
    }
   ],
   "source": [
    "smash_double_frequency = pd.DataFrame(data = smash_bigram, \n",
    "                                         columns = ['Frequency'])\n",
    "\n",
    "top_10_double = smash_double_frequency.head(10)\n",
    "\n",
    "top_10_double.sort_values(by = 'Frequency', ascending = True).plot(kind = 'barh', \n",
    "                                                                  color = 'red', \n",
    "                                                                  figsize = (9,5))\n",
    "\n",
    "plt.title('Most Frequent Bigram Titles on r/SmashBrosUltimate',size = 20)\n",
    "plt.xlabel('Counts', size = 10)\n",
    "plt.ylabel('Words', size = 10);"
   ]
  },
  {
   "cell_type": "markdown",
   "metadata": {},
   "source": [
    "_Chart 4:_\n",
    "\n",
    "Similarly to Chart 3, we get better results, but the Smash Bros Ultimate data tends to suffer more from these articles. For instance, `do you` appears nearly twice as often as `smash ultimate` which we would expect to be the top bigram considering it is the name of the subreddit. "
   ]
  },
  {
   "cell_type": "code",
   "execution_count": 31,
   "metadata": {},
   "outputs": [
    {
     "data": {
      "image/png": "[encoded data removed]",
      "text/plain": [
       "<Figure size 648x360 with 1 Axes>"
      ]
     },
     "metadata": {
      "needs_background": "light"
     },
     "output_type": "display_data"
    }
   ],
   "source": [
    "mario_kart_stop_frequency = pd.DataFrame(data = mk_stop_single, \n",
    "                                         columns = ['Frequency'])\n",
    "\n",
    "top_10_stop = mario_kart_stop_frequency.head(10)\n",
    "\n",
    "top_10_stop.sort_values(by = 'Frequency', ascending = True).plot(kind = 'barh', \n",
    "                                                                  color = 'purple', \n",
    "                                                                  figsize = (9,5))\n",
    "\n",
    "plt.title('Most Frequent Single Gram Stop Titles on r/mariokart',size = 20)\n",
    "plt.xlabel('Counts', size = 10)\n",
    "plt.ylabel('Words', size = 10);"
   ]
  },
  {
   "cell_type": "markdown",
   "metadata": {},
   "source": [
    "_Chart 5:_\n",
    "\n",
    "To combat the articles even further, we have the frequency counts of words excluding the common articles, which helps us much more by giving us more unique words that are more related to the subreddit. One thing to note is that, it seems to be very common for users to abbreviate \"Mario Kart\" to `mk` and \"Deluxe\" to `dx` as opposed to writing the entire word. "
   ]
  },
  {
   "cell_type": "code",
   "execution_count": 32,
   "metadata": {},
   "outputs": [
    {
     "data": {
      "image/png": "[encoded data removed]",
      "text/plain": [
       "<Figure size 648x360 with 1 Axes>"
      ]
     },
     "metadata": {
      "needs_background": "light"
     },
     "output_type": "display_data"
    }
   ],
   "source": [
    "smash_stop_frequency = pd.DataFrame(data = smash_stop_single, \n",
    "                                         columns = ['Frequency'])\n",
    "\n",
    "top_10_stop = smash_stop_frequency.head(10)\n",
    "\n",
    "top_10_stop.sort_values(by = 'Frequency', ascending = True).plot(kind = 'barh', \n",
    "                                                                  color = 'purple', \n",
    "                                                                  figsize = (9,5))\n",
    "\n",
    "plt.title('Most Frequent Single Gram Stop Titles on r/SmashBrosUltimate',size = 20)\n",
    "plt.xlabel('Counts', size = 10)\n",
    "plt.ylabel('Words', size = 10);"
   ]
  },
  {
   "cell_type": "markdown",
   "metadata": {},
   "source": [
    "_Chart 6:_\n",
    "\n",
    "Similar to Chart 5, we managed to get more unique words related to the subreddit. However, one thing that stands out is that `online` and `play` show up Chart 5 as well. The only difference is that these two words have a higher ranking in this subreddit. "
   ]
  },
  {
   "cell_type": "code",
   "execution_count": 33,
   "metadata": {},
   "outputs": [
    {
     "data": {
      "image/png": "[encoded data removed]",
      "text/plain": [
       "<Figure size 648x360 with 1 Axes>"
      ]
     },
     "metadata": {
      "needs_background": "light"
     },
     "output_type": "display_data"
    }
   ],
   "source": [
    "mario_kart_stop_2_frequency = pd.DataFrame(data = mk_stop_bigram, \n",
    "                                         columns = ['Frequency'])\n",
    "\n",
    "top_10_stop = mario_kart_stop_2_frequency.head(10)\n",
    "\n",
    "top_10_stop.sort_values(by = 'Frequency', ascending = True).plot(kind = 'barh', \n",
    "                                                                  color = 'pink', \n",
    "                                                                  figsize = (9,5))\n",
    "\n",
    "plt.title('Most Frequent Bigram Stop Titles on r/mariokart',size = 20)\n",
    "plt.xlabel('Counts', size = 10)\n",
    "plt.ylabel('Words', size = 10);"
   ]
  },
  {
   "cell_type": "markdown",
   "metadata": {},
   "source": [
    "_Chart 7:_\n",
    "\n",
    "Finally, we try to find our best option in combatting all the issues we have been running into as seen from the other graphs. We take out the articles and look at bigrams, which produces a list of very unique words relevant to the Mario Kart subreddit. We can see that Mario Kart and its abbreviation dominate, but one thing to note is that users also tend to refer to game iterations as `kart + {iteration}.`"
   ]
  },
  {
   "cell_type": "code",
   "execution_count": 34,
   "metadata": {},
   "outputs": [
    {
     "data": {
      "image/png": "[encoded data removed]",
      "text/plain": [
       "<Figure size 648x360 with 1 Axes>"
      ]
     },
     "metadata": {
      "needs_background": "light"
     },
     "output_type": "display_data"
    }
   ],
   "source": [
    "smash_stop_2_frequency = pd.DataFrame(data = smash_stop_bigram, \n",
    "                                         columns = ['Frequency'])\n",
    "\n",
    "top_10_stop = smash_stop_2_frequency.head(10)\n",
    "\n",
    "top_10_stop.sort_values(by = 'Frequency', ascending = True).plot(kind = 'barh', \n",
    "                                                                  color = 'pink', \n",
    "                                                                  figsize = (9,5))\n",
    "\n",
    "plt.title('Most Frequent Bigram Stop Titles on r/SmashBrosUltimate',size = 20)\n",
    "plt.xlabel('Counts', size = 10)\n",
    "plt.ylabel('Words', size = 10);"
   ]
  },
  {
   "cell_type": "markdown",
   "metadata": {},
   "source": [
    "_Chart 8:_\n",
    "\n",
    "Similar to Chart 7, our adjustments significantly impacted our results as now we have many bigrams that are clearly unique to the subreddit as opposed to more ambiguity that could be applied to other subreddits. "
   ]
  },
  {
   "cell_type": "markdown",
   "metadata": {},
   "source": [
    "> **Notes:** From our exploratory analysis, we can start brainstorming some potential game names. Ideally we want to avoid utilizing the words: online, play, and ultimate as they have a higher frequency in the Smash Bros subreddit as opposed to the Mario Kart subreddit. In addition, it would be ideal to include \"Mario Kart\" in the name mostly for consistency. There are many options so we can still utilize the numerous suggestions that the marketing team is arguing between. \n",
    "- Mario Kart World\n",
    "- Mario Kart 3000\n",
    "- Luigi Kart\n",
    "- Mushroom Race\n",
    "- Luigi Drive "
   ]
  },
  {
   "cell_type": "markdown",
   "metadata": {},
   "source": [
    "### Modeling \n",
    "Here we begin exploring different models and hyperparameters in order to fit and find the best model for predicting what subreddit a post belongs to based on the title. After identifying the best model, we can test out potential game names and see how they are classified to find our best option. "
   ]
  },
  {
   "cell_type": "markdown",
   "metadata": {},
   "source": [
    "#### Combining Data Frames"
   ]
  },
  {
   "cell_type": "code",
   "execution_count": 35,
   "metadata": {},
   "outputs": [],
   "source": [
    "# Merging the two data sets \n",
    "combined_df = pd.concat(objs = [mario_kart, smash], axis = 0)"
   ]
  },
  {
   "cell_type": "code",
   "execution_count": 36,
   "metadata": {},
   "outputs": [],
   "source": [
    "# Creating an (easier) binary classifier \n",
    "combined_df['subreddit'] = combined_df['subreddit'].map({'mariokart': 0, 'SmashBrosUltimate': 1})"
   ]
  },
  {
   "cell_type": "code",
   "execution_count": 37,
   "metadata": {
    "scrolled": true
   },
   "outputs": [],
   "source": [
    "# Resetting the indices so the row indexes don't repeat\n",
    "combined_df.reset_index(drop = True, inplace = True)"
   ]
  },
  {
   "cell_type": "code",
   "execution_count": 38,
   "metadata": {},
   "outputs": [
    {
     "data": {
      "text/html": [
       "<div>\n",
       "<style scoped>\n",
       "    .dataframe tbody tr th:only-of-type {\n",
       "        vertical-align: middle;\n",
       "    }\n",
       "\n",
       "    .dataframe tbody tr th {\n",
       "        vertical-align: top;\n",
       "    }\n",
       "\n",
       "    .dataframe thead th {\n",
       "        text-align: right;\n",
       "    }\n",
       "</style>\n",
       "<table border=\"1\" class=\"dataframe\">\n",
       "  <thead>\n",
       "    <tr style=\"text-align: right;\">\n",
       "      <th></th>\n",
       "      <th>title</th>\n",
       "      <th>subreddit</th>\n",
       "    </tr>\n",
       "  </thead>\n",
       "  <tbody>\n",
       "    <tr>\n",
       "      <th>0</th>\n",
       "      <td>Time Trial issues</td>\n",
       "      <td>0</td>\n",
       "    </tr>\n",
       "    <tr>\n",
       "      <th>1</th>\n",
       "      <td>Time Trial [MK8DX]</td>\n",
       "      <td>0</td>\n",
       "    </tr>\n",
       "    <tr>\n",
       "      <th>2</th>\n",
       "      <td>Is my build awful? (MK8DX)</td>\n",
       "      <td>0</td>\n",
       "    </tr>\n",
       "    <tr>\n",
       "      <th>3</th>\n",
       "      <td>mario kart maker</td>\n",
       "      <td>0</td>\n",
       "    </tr>\n",
       "    <tr>\n",
       "      <th>4</th>\n",
       "      <td>Research for a YouTube video I’m working on.</td>\n",
       "      <td>0</td>\n",
       "    </tr>\n",
       "    <tr>\n",
       "      <th>...</th>\n",
       "      <td>...</td>\n",
       "      <td>...</td>\n",
       "    </tr>\n",
       "    <tr>\n",
       "      <th>3304</th>\n",
       "      <td>Need help against DK and KRool.</td>\n",
       "      <td>1</td>\n",
       "    </tr>\n",
       "    <tr>\n",
       "      <th>3305</th>\n",
       "      <td>Practicing with Level 1 CPUs</td>\n",
       "      <td>1</td>\n",
       "    </tr>\n",
       "    <tr>\n",
       "      <th>3306</th>\n",
       "      <td>Gambling coins in smash</td>\n",
       "      <td>1</td>\n",
       "    </tr>\n",
       "    <tr>\n",
       "      <th>3307</th>\n",
       "      <td>Toon Link: Possible revisions</td>\n",
       "      <td>1</td>\n",
       "    </tr>\n",
       "    <tr>\n",
       "      <th>3308</th>\n",
       "      <td>im trying to understand why</td>\n",
       "      <td>1</td>\n",
       "    </tr>\n",
       "  </tbody>\n",
       "</table>\n",
       "<p>3309 rows × 2 columns</p>\n",
       "</div>"
      ],
      "text/plain": [
       "                                             title  subreddit\n",
       "0                                Time Trial issues          0\n",
       "1                               Time Trial [MK8DX]          0\n",
       "2                       Is my build awful? (MK8DX)          0\n",
       "3                                 mario kart maker          0\n",
       "4     Research for a YouTube video I’m working on.          0\n",
       "...                                            ...        ...\n",
       "3304               Need help against DK and KRool.          1\n",
       "3305                  Practicing with Level 1 CPUs          1\n",
       "3306                       Gambling coins in smash          1\n",
       "3307                 Toon Link: Possible revisions          1\n",
       "3308                   im trying to understand why          1\n",
       "\n",
       "[3309 rows x 2 columns]"
      ]
     },
     "execution_count": 38,
     "metadata": {},
     "output_type": "execute_result"
    }
   ],
   "source": [
    "combined_df"
   ]
  },
  {
   "cell_type": "markdown",
   "metadata": {},
   "source": [
    "#### Creating Our Variables \n",
    "Here we instantiate our variables, where our `X` is the post's title and our `Y` is the subreddit that we are trying to have our model correctly predict. In addition, we split our data randomly into a $\\frac{0.66}{0.33}$ proportion where we train our model with majority of the combined data frame to learn and be able to accurately classify the correct subreddit. The we  see how well our model will do when we use the remaining data, which our model hasn't been exposed to, to determine our model's accuracy to new data."
   ]
  },
  {
   "cell_type": "code",
   "execution_count": 39,
   "metadata": {},
   "outputs": [],
   "source": [
    "X = combined_df['title']\n",
    "y = combined_df['subreddit']"
   ]
  },
  {
   "cell_type": "code",
   "execution_count": 40,
   "metadata": {},
   "outputs": [],
   "source": [
    "X_train, X_test, y_train, y_test = train_test_split(X, y, stratify = y, test_size = 0.33, random_state = 42)"
   ]
  },
  {
   "cell_type": "markdown",
   "metadata": {},
   "source": [
    "#### Baseline\n",
    "We start out with our baseline by looking at our Y variable and since we care about whether our models are able to correct classify a Mario Kart post into the Mario Kart subreddit, we look at the `0` value. Our baseline to (hopefully) beat is 56.09% in terms of accuracy for our models below. "
   ]
  },
  {
   "cell_type": "code",
   "execution_count": 41,
   "metadata": {},
   "outputs": [
    {
     "data": {
      "text/plain": [
       "0    0.560895\n",
       "1    0.439105\n",
       "Name: subreddit, dtype: float64"
      ]
     },
     "execution_count": 41,
     "metadata": {},
     "output_type": "execute_result"
    }
   ],
   "source": [
    "y.value_counts(normalize = True)"
   ]
  },
  {
   "cell_type": "markdown",
   "metadata": {},
   "source": [
    "#### Classifiers\n",
    "Since we are prediciting a binary and discrete `y` value, we will be looking at classifier models as opposed to regression models. First, we instantiate the Count Vectorizer in order to transform our `X` variable. Then, we move on to the following four models: Bernoulli NB, Multinomial NB, Logistic Regression, and AdaBoost. "
   ]
  },
  {
   "cell_type": "code",
   "execution_count": 42,
   "metadata": {},
   "outputs": [],
   "source": [
    "cvec = CountVectorizer()\n",
    "cvec_X_train = cvec.fit_transform(X_train).toarray()\n",
    "cvec_X_test = cvec.transform(X_test).toarray()"
   ]
  },
  {
   "cell_type": "markdown",
   "metadata": {},
   "source": [
    "#### Bernoulli Naive Bayes"
   ]
  },
  {
   "cell_type": "code",
   "execution_count": 43,
   "metadata": {},
   "outputs": [
    {
     "data": {
      "text/plain": [
       "BernoulliNB(alpha=1.0, binarize=0.0, class_prior=None, fit_prior=True)"
      ]
     },
     "execution_count": 43,
     "metadata": {},
     "output_type": "execute_result"
    }
   ],
   "source": [
    "# Instantiate and fit the model \n",
    "bnb = BernoulliNB()\n",
    "bnb.fit(cvec_X_train, y_train)"
   ]
  },
  {
   "cell_type": "code",
   "execution_count": 44,
   "metadata": {},
   "outputs": [
    {
     "name": "stdout",
     "output_type": "stream",
     "text": [
      "Training Score: 0.9657194406856112\n",
      "Testing Score: 0.8827838827838828\n"
     ]
    }
   ],
   "source": [
    "# Calculate and print the accuracy of our model and both data sets\n",
    "print(f'Training Score: {bnb.score(cvec_X_train, y_train)}')\n",
    "print(f'Testing Score: {bnb.score(cvec_X_test, y_test)}')"
   ]
  },
  {
   "cell_type": "code",
   "execution_count": 45,
   "metadata": {},
   "outputs": [],
   "source": [
    "# Predict our y using our model \n",
    "bnb_preds = bnb.predict(cvec_X_test)\n",
    "\n",
    "# Creating a confusion matrix that compares our actual y values versus our predicted y values from the model\n",
    "bnb_cm = confusion_matrix(y_test, bnb_preds)"
   ]
  },
  {
   "cell_type": "code",
   "execution_count": 46,
   "metadata": {},
   "outputs": [
    {
     "data": {
      "text/html": [
       "<div>\n",
       "<style scoped>\n",
       "    .dataframe tbody tr th:only-of-type {\n",
       "        vertical-align: middle;\n",
       "    }\n",
       "\n",
       "    .dataframe tbody tr th {\n",
       "        vertical-align: top;\n",
       "    }\n",
       "\n",
       "    .dataframe thead th {\n",
       "        text-align: right;\n",
       "    }\n",
       "</style>\n",
       "<table border=\"1\" class=\"dataframe\">\n",
       "  <thead>\n",
       "    <tr style=\"text-align: right;\">\n",
       "      <th></th>\n",
       "      <th>Predicted Mario Kart</th>\n",
       "      <th>Predicted Smash Bros Ultimate</th>\n",
       "    </tr>\n",
       "  </thead>\n",
       "  <tbody>\n",
       "    <tr>\n",
       "      <th>Actual Mario Kart</th>\n",
       "      <td>565</td>\n",
       "      <td>47</td>\n",
       "    </tr>\n",
       "    <tr>\n",
       "      <th>Actual Smash Bros Ultimate</th>\n",
       "      <td>81</td>\n",
       "      <td>399</td>\n",
       "    </tr>\n",
       "  </tbody>\n",
       "</table>\n",
       "</div>"
      ],
      "text/plain": [
       "                            Predicted Mario Kart  \\\n",
       "Actual Mario Kart                            565   \n",
       "Actual Smash Bros Ultimate                    81   \n",
       "\n",
       "                            Predicted Smash Bros Ultimate  \n",
       "Actual Mario Kart                                      47  \n",
       "Actual Smash Bros Ultimate                            399  "
      ]
     },
     "execution_count": 46,
     "metadata": {},
     "output_type": "execute_result"
    }
   ],
   "source": [
    "# Create dataframe from confusion matrix array\n",
    "bnb_cm_df = pd.DataFrame(bnb_cm, \n",
    "                         columns = ['Predicted Mario Kart', 'Predicted Smash Bros Ultimate'], \n",
    "                         index = ['Actual Mario Kart', 'Actual Smash Bros Ultimate'])\n",
    "bnb_cm_df"
   ]
  },
  {
   "cell_type": "markdown",
   "metadata": {},
   "source": [
    "> **Notes:** From the Bernoulli NB model, we can see that the training score shows a 96.57% accuracy, but the testing score shows an 88.28% accuracy, which means that our model is overfit to the training data and doesn't do well in classifying a post into the correct subreddit with new posts. "
   ]
  },
  {
   "cell_type": "markdown",
   "metadata": {},
   "source": [
    "#### Multinomial Naive Bayes"
   ]
  },
  {
   "cell_type": "code",
   "execution_count": 47,
   "metadata": {},
   "outputs": [
    {
     "data": {
      "text/plain": [
       "MultinomialNB(alpha=1.0, class_prior=None, fit_prior=True)"
      ]
     },
     "execution_count": 47,
     "metadata": {},
     "output_type": "execute_result"
    }
   ],
   "source": [
    "# Instantiate and fit the model \n",
    "mnb = MultinomialNB()\n",
    "mnb.fit(cvec_X_train, y_train)"
   ]
  },
  {
   "cell_type": "code",
   "execution_count": 48,
   "metadata": {},
   "outputs": [
    {
     "name": "stdout",
     "output_type": "stream",
     "text": [
      "Training Score: 0.9634641407307172\n",
      "Testing Score: 0.88003663003663\n"
     ]
    }
   ],
   "source": [
    "# Calculate and print the accuracy of our model and both data sets\n",
    "print(f'Training Score: {mnb.score(cvec_X_train, y_train)}')\n",
    "print(f'Testing Score: {mnb.score(cvec_X_test, y_test)}')"
   ]
  },
  {
   "cell_type": "code",
   "execution_count": 49,
   "metadata": {},
   "outputs": [],
   "source": [
    "# Predict our y using our model \n",
    "mnb_preds = mnb.predict(cvec_X_test)\n",
    "\n",
    "# Creating a confusion matrix that compares our actual y values versus our predicted y values from the model\n",
    "mnb_cm = confusion_matrix(y_test, mnb_preds)"
   ]
  },
  {
   "cell_type": "code",
   "execution_count": 50,
   "metadata": {},
   "outputs": [
    {
     "data": {
      "text/html": [
       "<div>\n",
       "<style scoped>\n",
       "    .dataframe tbody tr th:only-of-type {\n",
       "        vertical-align: middle;\n",
       "    }\n",
       "\n",
       "    .dataframe tbody tr th {\n",
       "        vertical-align: top;\n",
       "    }\n",
       "\n",
       "    .dataframe thead th {\n",
       "        text-align: right;\n",
       "    }\n",
       "</style>\n",
       "<table border=\"1\" class=\"dataframe\">\n",
       "  <thead>\n",
       "    <tr style=\"text-align: right;\">\n",
       "      <th></th>\n",
       "      <th>Predicted Mario Kart</th>\n",
       "      <th>Predicted Smash Bros Ultimate</th>\n",
       "    </tr>\n",
       "  </thead>\n",
       "  <tbody>\n",
       "    <tr>\n",
       "      <th>Actual Mario Kart</th>\n",
       "      <td>568</td>\n",
       "      <td>44</td>\n",
       "    </tr>\n",
       "    <tr>\n",
       "      <th>Actual Smash Bros Ultimate</th>\n",
       "      <td>87</td>\n",
       "      <td>393</td>\n",
       "    </tr>\n",
       "  </tbody>\n",
       "</table>\n",
       "</div>"
      ],
      "text/plain": [
       "                            Predicted Mario Kart  \\\n",
       "Actual Mario Kart                            568   \n",
       "Actual Smash Bros Ultimate                    87   \n",
       "\n",
       "                            Predicted Smash Bros Ultimate  \n",
       "Actual Mario Kart                                      44  \n",
       "Actual Smash Bros Ultimate                            393  "
      ]
     },
     "execution_count": 50,
     "metadata": {},
     "output_type": "execute_result"
    }
   ],
   "source": [
    "# Create dataframe from confusion matrix array\n",
    "mnb_cm_df = pd.DataFrame(mnb_cm, \n",
    "                         columns = ['Predicted Mario Kart', 'Predicted Smash Bros Ultimate'], \n",
    "                         index = ['Actual Mario Kart', 'Actual Smash Bros Ultimate'])\n",
    "mnb_cm_df"
   ]
  },
  {
   "cell_type": "markdown",
   "metadata": {},
   "source": [
    "> **Notes:** From the Multinomial NB model, we can see that the training score shows a 96.35% accuracy, but the testing score shows an 88.00% accuracy, which means that our model is overfit to the training data and doesn't do well in classifying a post into the correct subreddit with new posts (similarly to the Bernoulli NB model). "
   ]
  },
  {
   "cell_type": "markdown",
   "metadata": {},
   "source": [
    "#### Logistic Regression\n"
   ]
  },
  {
   "cell_type": "code",
   "execution_count": 51,
   "metadata": {},
   "outputs": [
    {
     "name": "stderr",
     "output_type": "stream",
     "text": [
      "/Applications/anaconda3/lib/python3.7/site-packages/sklearn/linear_model/logistic.py:432: FutureWarning: Default solver will be changed to 'lbfgs' in 0.22. Specify a solver to silence this warning.\n",
      "  FutureWarning)\n"
     ]
    },
    {
     "data": {
      "text/plain": [
       "LogisticRegression(C=1.0, class_weight=None, dual=False, fit_intercept=True,\n",
       "                   intercept_scaling=1, l1_ratio=None, max_iter=100,\n",
       "                   multi_class='warn', n_jobs=None, penalty='l2',\n",
       "                   random_state=None, solver='warn', tol=0.0001, verbose=0,\n",
       "                   warm_start=False)"
      ]
     },
     "execution_count": 51,
     "metadata": {},
     "output_type": "execute_result"
    }
   ],
   "source": [
    "# Instantiate and fit the model \n",
    "log = LogisticRegression()\n",
    "log.fit(cvec_X_train, y_train)"
   ]
  },
  {
   "cell_type": "code",
   "execution_count": 52,
   "metadata": {},
   "outputs": [
    {
     "name": "stdout",
     "output_type": "stream",
     "text": [
      "Training Score: 0.9756427604871448\n",
      "Testing Score: 0.9056776556776557\n"
     ]
    }
   ],
   "source": [
    "# Calculate and print the accuracy of our model and both data sets\n",
    "print(f'Training Score: {log.score(cvec_X_train, y_train)}')\n",
    "print(f'Testing Score: {log.score(cvec_X_test, y_test)}')"
   ]
  },
  {
   "cell_type": "code",
   "execution_count": 53,
   "metadata": {},
   "outputs": [],
   "source": [
    "# Predict our y using our model \n",
    "log_preds = log.predict(cvec_X_test)\n",
    "\n",
    "# Creating a confusion matrix that compares our actual y values versus our predicted y values from the model\n",
    "log_cm = confusion_matrix(y_test, log_preds)"
   ]
  },
  {
   "cell_type": "code",
   "execution_count": 54,
   "metadata": {},
   "outputs": [
    {
     "data": {
      "text/html": [
       "<div>\n",
       "<style scoped>\n",
       "    .dataframe tbody tr th:only-of-type {\n",
       "        vertical-align: middle;\n",
       "    }\n",
       "\n",
       "    .dataframe tbody tr th {\n",
       "        vertical-align: top;\n",
       "    }\n",
       "\n",
       "    .dataframe thead th {\n",
       "        text-align: right;\n",
       "    }\n",
       "</style>\n",
       "<table border=\"1\" class=\"dataframe\">\n",
       "  <thead>\n",
       "    <tr style=\"text-align: right;\">\n",
       "      <th></th>\n",
       "      <th>Predicted Mario Kart</th>\n",
       "      <th>Predicted Smash Bros Ultimate</th>\n",
       "    </tr>\n",
       "  </thead>\n",
       "  <tbody>\n",
       "    <tr>\n",
       "      <th>Actual Mario Kart</th>\n",
       "      <td>521</td>\n",
       "      <td>91</td>\n",
       "    </tr>\n",
       "    <tr>\n",
       "      <th>Actual Smash Bros Ultimate</th>\n",
       "      <td>12</td>\n",
       "      <td>468</td>\n",
       "    </tr>\n",
       "  </tbody>\n",
       "</table>\n",
       "</div>"
      ],
      "text/plain": [
       "                            Predicted Mario Kart  \\\n",
       "Actual Mario Kart                            521   \n",
       "Actual Smash Bros Ultimate                    12   \n",
       "\n",
       "                            Predicted Smash Bros Ultimate  \n",
       "Actual Mario Kart                                      91  \n",
       "Actual Smash Bros Ultimate                            468  "
      ]
     },
     "execution_count": 54,
     "metadata": {},
     "output_type": "execute_result"
    }
   ],
   "source": [
    "# Create dataframe from confusion matrix array\n",
    "log_cm_df = pd.DataFrame(log_cm, \n",
    "                         columns = ['Predicted Mario Kart', 'Predicted Smash Bros Ultimate'], \n",
    "                         index = ['Actual Mario Kart', 'Actual Smash Bros Ultimate'])\n",
    "log_cm_df"
   ]
  },
  {
   "cell_type": "markdown",
   "metadata": {},
   "source": [
    "> **Notes:** From the Logistic Regression model, we can see that the training score shows a 97.56% accuracy, but the testing score shows an 90.57% accuracy, which means that our model is still overfit to the training data and doesn't do well in classifying a post into the correct subreddit with new posts. However, it is our best model so far, with the smallest difference between the two accuracy scores."
   ]
  },
  {
   "cell_type": "markdown",
   "metadata": {},
   "source": [
    "#### AdaBoost Classifier"
   ]
  },
  {
   "cell_type": "code",
   "execution_count": 55,
   "metadata": {},
   "outputs": [
    {
     "data": {
      "text/plain": [
       "AdaBoostClassifier(algorithm='SAMME.R', base_estimator=None, learning_rate=1.0,\n",
       "                   n_estimators=50, random_state=None)"
      ]
     },
     "execution_count": 55,
     "metadata": {},
     "output_type": "execute_result"
    }
   ],
   "source": [
    "# Instantiate and fit the model \n",
    "ada = AdaBoostClassifier()\n",
    "ada.fit(cvec_X_train, y_train)"
   ]
  },
  {
   "cell_type": "code",
   "execution_count": 56,
   "metadata": {},
   "outputs": [
    {
     "name": "stdout",
     "output_type": "stream",
     "text": [
      "Training Score: 0.9197113216057735\n",
      "Testing Score: 0.8992673992673993\n"
     ]
    }
   ],
   "source": [
    "# Calculate and print the accuracy of our model and both data sets\n",
    "print(f'Training Score: {ada.score(cvec_X_train, y_train)}')\n",
    "print(f'Testing Score: {ada.score(cvec_X_test, y_test)}')"
   ]
  },
  {
   "cell_type": "code",
   "execution_count": 57,
   "metadata": {},
   "outputs": [],
   "source": [
    "# Predict our y using our model \n",
    "ada_preds = ada.predict(cvec_X_test)\n",
    "\n",
    "# Creating a confusion matrix that compares our actual y values versus our predicted y values from the model\n",
    "ada_cm = confusion_matrix(y_test, ada_preds)"
   ]
  },
  {
   "cell_type": "code",
   "execution_count": 58,
   "metadata": {},
   "outputs": [
    {
     "data": {
      "text/html": [
       "<div>\n",
       "<style scoped>\n",
       "    .dataframe tbody tr th:only-of-type {\n",
       "        vertical-align: middle;\n",
       "    }\n",
       "\n",
       "    .dataframe tbody tr th {\n",
       "        vertical-align: top;\n",
       "    }\n",
       "\n",
       "    .dataframe thead th {\n",
       "        text-align: right;\n",
       "    }\n",
       "</style>\n",
       "<table border=\"1\" class=\"dataframe\">\n",
       "  <thead>\n",
       "    <tr style=\"text-align: right;\">\n",
       "      <th></th>\n",
       "      <th>Predicted Mario Kart</th>\n",
       "      <th>Predicted Smash Bros Ultimate</th>\n",
       "    </tr>\n",
       "  </thead>\n",
       "  <tbody>\n",
       "    <tr>\n",
       "      <th>Actual Mario Kart</th>\n",
       "      <td>511</td>\n",
       "      <td>101</td>\n",
       "    </tr>\n",
       "    <tr>\n",
       "      <th>Actual Smash Bros Ultimate</th>\n",
       "      <td>9</td>\n",
       "      <td>471</td>\n",
       "    </tr>\n",
       "  </tbody>\n",
       "</table>\n",
       "</div>"
      ],
      "text/plain": [
       "                            Predicted Mario Kart  \\\n",
       "Actual Mario Kart                            511   \n",
       "Actual Smash Bros Ultimate                     9   \n",
       "\n",
       "                            Predicted Smash Bros Ultimate  \n",
       "Actual Mario Kart                                     101  \n",
       "Actual Smash Bros Ultimate                            471  "
      ]
     },
     "execution_count": 58,
     "metadata": {},
     "output_type": "execute_result"
    }
   ],
   "source": [
    "# Create dataframe from confusion matrix array\n",
    "ada_cm_df = pd.DataFrame(ada_cm, \n",
    "                         columns = ['Predicted Mario Kart', 'Predicted Smash Bros Ultimate'], \n",
    "                         index = ['Actual Mario Kart', 'Actual Smash Bros Ultimate'])\n",
    "ada_cm_df"
   ]
  },
  {
   "cell_type": "markdown",
   "metadata": {},
   "source": [
    "> **Notes:** From the AdaBoost Classifier model, we can see that the training score shows a 91.97% accuracy, but the testing score shows an 89.93% accuracy, which means that our model isn't as overfit as the other 3 models to the training data and does do well in classifying a post into the correct subreddit with new posts."
   ]
  },
  {
   "cell_type": "markdown",
   "metadata": {},
   "source": [
    "#### Initial Modeling Notes\n",
    "From our four models above, the AdaBoost Classifier would be our best model as it does fairly well in classifying posts into the correct subreddit in both the training and testing data sets. However, this is only based on the Count Vectorizer transformer along with no parameters for our classifiers. Tuning our hyperparameters could possibly result in a better model. "
   ]
  },
  {
   "cell_type": "markdown",
   "metadata": {},
   "source": [
    "### Determining Our Best Model via Pipeline and GridSearch\n",
    "Here we begin to tune our intial models by introducing a new transformer and specifying parameters that we explored earlier regarding the `n_gram range` and `stop_words` for our transformers in order to determine our best model. "
   ]
  },
  {
   "cell_type": "code",
   "execution_count": 59,
   "metadata": {},
   "outputs": [],
   "source": [
    "tvec = TfidfVectorizer()"
   ]
  },
  {
   "cell_type": "code",
   "execution_count": 60,
   "metadata": {},
   "outputs": [],
   "source": [
    "cvec_pipe_params = {\n",
    "    'cvec__ngram_range' : [(1,1), (1,2)],\n",
    "    'cvec__stop_words' : [None, 'english']\n",
    "}"
   ]
  },
  {
   "cell_type": "code",
   "execution_count": 61,
   "metadata": {},
   "outputs": [],
   "source": [
    "tfidf_pipe_params = {\n",
    "    'tfidf__ngram_range' : [(1,1), (1,2)],\n",
    "    'tfidf__stop_words' : [None, 'english']\n",
    "}"
   ]
  },
  {
   "cell_type": "markdown",
   "metadata": {},
   "source": [
    "***Count Vectorizer and Bernoulli NB***"
   ]
  },
  {
   "cell_type": "code",
   "execution_count": 62,
   "metadata": {},
   "outputs": [],
   "source": [
    "pipe1 = Pipeline([\n",
    "    ('cvec', CountVectorizer()),\n",
    "    ('bnb', BernoulliNB())\n",
    "])\n",
    "\n",
    "gs = GridSearchCV(pipe1, cvec_pipe_params, cv = 5)\n",
    "gs.fit(X_train, y_train);\n",
    "cvec_bnb_model = gs.best_estimator_"
   ]
  },
  {
   "cell_type": "markdown",
   "metadata": {},
   "source": [
    "***TFIDF Vectorizer and Bernoulli NB***"
   ]
  },
  {
   "cell_type": "code",
   "execution_count": 63,
   "metadata": {},
   "outputs": [],
   "source": [
    "pipe2 = Pipeline([\n",
    "    ('tfidf', TfidfVectorizer()),\n",
    "    ('bnb', BernoulliNB())\n",
    "])\n",
    "\n",
    "gs = GridSearchCV(pipe2, tfidf_pipe_params, cv = 5)\n",
    "gs.fit(X_train, y_train);\n",
    "tfidf_bnb_model = gs.best_estimator_"
   ]
  },
  {
   "cell_type": "markdown",
   "metadata": {},
   "source": [
    "***Count Vectorizer and Multinomial NB***"
   ]
  },
  {
   "cell_type": "code",
   "execution_count": 64,
   "metadata": {},
   "outputs": [],
   "source": [
    "pipe3 = Pipeline([\n",
    "    ('cvec', CountVectorizer()),\n",
    "    ('mnb', MultinomialNB())\n",
    "])\n",
    "\n",
    "gs = GridSearchCV(pipe3, cvec_pipe_params, cv = 5)\n",
    "gs.fit(X_train, y_train);\n",
    "cvec_mnb_model = gs.best_estimator_"
   ]
  },
  {
   "cell_type": "markdown",
   "metadata": {},
   "source": [
    "***TFIDF Vectorizer and Multinomial NB***"
   ]
  },
  {
   "cell_type": "code",
   "execution_count": 65,
   "metadata": {},
   "outputs": [],
   "source": [
    "pipe4 = Pipeline([\n",
    "    ('tfidf', TfidfVectorizer()),\n",
    "    ('mnb', MultinomialNB())\n",
    "])\n",
    "\n",
    "gs = GridSearchCV(pipe4, tfidf_pipe_params, cv = 5)\n",
    "gs.fit(X_train, y_train);\n",
    "tfidf_mnb_model = gs.best_estimator_"
   ]
  },
  {
   "cell_type": "markdown",
   "metadata": {},
   "source": [
    "***Count Vectorizer and Logistic Regression***"
   ]
  },
  {
   "cell_type": "code",
   "execution_count": 66,
   "metadata": {},
   "outputs": [
    {
     "name": "stderr",
     "output_type": "stream",
     "text": [
      "/Applications/anaconda3/lib/python3.7/site-packages/sklearn/linear_model/logistic.py:432: FutureWarning: Default solver will be changed to 'lbfgs' in 0.22. Specify a solver to silence this warning.\n",
      "  FutureWarning)\n",
      "/Applications/anaconda3/lib/python3.7/site-packages/sklearn/linear_model/logistic.py:432: FutureWarning: Default solver will be changed to 'lbfgs' in 0.22. Specify a solver to silence this warning.\n",
      "  FutureWarning)\n",
      "/Applications/anaconda3/lib/python3.7/site-packages/sklearn/linear_model/logistic.py:432: FutureWarning: Default solver will be changed to 'lbfgs' in 0.22. Specify a solver to silence this warning.\n",
      "  FutureWarning)\n",
      "/Applications/anaconda3/lib/python3.7/site-packages/sklearn/linear_model/logistic.py:432: FutureWarning: Default solver will be changed to 'lbfgs' in 0.22. Specify a solver to silence this warning.\n",
      "  FutureWarning)\n",
      "/Applications/anaconda3/lib/python3.7/site-packages/sklearn/linear_model/logistic.py:432: FutureWarning: Default solver will be changed to 'lbfgs' in 0.22. Specify a solver to silence this warning.\n",
      "  FutureWarning)\n",
      "/Applications/anaconda3/lib/python3.7/site-packages/sklearn/linear_model/logistic.py:432: FutureWarning: Default solver will be changed to 'lbfgs' in 0.22. Specify a solver to silence this warning.\n",
      "  FutureWarning)\n",
      "/Applications/anaconda3/lib/python3.7/site-packages/sklearn/linear_model/logistic.py:432: FutureWarning: Default solver will be changed to 'lbfgs' in 0.22. Specify a solver to silence this warning.\n",
      "  FutureWarning)\n",
      "/Applications/anaconda3/lib/python3.7/site-packages/sklearn/linear_model/logistic.py:432: FutureWarning: Default solver will be changed to 'lbfgs' in 0.22. Specify a solver to silence this warning.\n",
      "  FutureWarning)\n",
      "/Applications/anaconda3/lib/python3.7/site-packages/sklearn/linear_model/logistic.py:432: FutureWarning: Default solver will be changed to 'lbfgs' in 0.22. Specify a solver to silence this warning.\n",
      "  FutureWarning)\n",
      "/Applications/anaconda3/lib/python3.7/site-packages/sklearn/linear_model/logistic.py:432: FutureWarning: Default solver will be changed to 'lbfgs' in 0.22. Specify a solver to silence this warning.\n",
      "  FutureWarning)\n",
      "/Applications/anaconda3/lib/python3.7/site-packages/sklearn/linear_model/logistic.py:432: FutureWarning: Default solver will be changed to 'lbfgs' in 0.22. Specify a solver to silence this warning.\n",
      "  FutureWarning)\n",
      "/Applications/anaconda3/lib/python3.7/site-packages/sklearn/linear_model/logistic.py:432: FutureWarning: Default solver will be changed to 'lbfgs' in 0.22. Specify a solver to silence this warning.\n",
      "  FutureWarning)\n",
      "/Applications/anaconda3/lib/python3.7/site-packages/sklearn/linear_model/logistic.py:432: FutureWarning: Default solver will be changed to 'lbfgs' in 0.22. Specify a solver to silence this warning.\n",
      "  FutureWarning)\n",
      "/Applications/anaconda3/lib/python3.7/site-packages/sklearn/linear_model/logistic.py:432: FutureWarning: Default solver will be changed to 'lbfgs' in 0.22. Specify a solver to silence this warning.\n",
      "  FutureWarning)\n",
      "/Applications/anaconda3/lib/python3.7/site-packages/sklearn/linear_model/logistic.py:432: FutureWarning: Default solver will be changed to 'lbfgs' in 0.22. Specify a solver to silence this warning.\n",
      "  FutureWarning)\n",
      "/Applications/anaconda3/lib/python3.7/site-packages/sklearn/linear_model/logistic.py:432: FutureWarning: Default solver will be changed to 'lbfgs' in 0.22. Specify a solver to silence this warning.\n",
      "  FutureWarning)\n",
      "/Applications/anaconda3/lib/python3.7/site-packages/sklearn/linear_model/logistic.py:432: FutureWarning: Default solver will be changed to 'lbfgs' in 0.22. Specify a solver to silence this warning.\n",
      "  FutureWarning)\n",
      "/Applications/anaconda3/lib/python3.7/site-packages/sklearn/linear_model/logistic.py:432: FutureWarning: Default solver will be changed to 'lbfgs' in 0.22. Specify a solver to silence this warning.\n",
      "  FutureWarning)\n",
      "/Applications/anaconda3/lib/python3.7/site-packages/sklearn/linear_model/logistic.py:432: FutureWarning: Default solver will be changed to 'lbfgs' in 0.22. Specify a solver to silence this warning.\n",
      "  FutureWarning)\n",
      "/Applications/anaconda3/lib/python3.7/site-packages/sklearn/linear_model/logistic.py:432: FutureWarning: Default solver will be changed to 'lbfgs' in 0.22. Specify a solver to silence this warning.\n",
      "  FutureWarning)\n",
      "/Applications/anaconda3/lib/python3.7/site-packages/sklearn/linear_model/logistic.py:432: FutureWarning: Default solver will be changed to 'lbfgs' in 0.22. Specify a solver to silence this warning.\n",
      "  FutureWarning)\n"
     ]
    }
   ],
   "source": [
    "pipe5 = Pipeline([\n",
    "    ('cvec', CountVectorizer()),\n",
    "    ('log', LogisticRegression())\n",
    "])\n",
    "\n",
    "gs = GridSearchCV(pipe5, cvec_pipe_params, cv = 5)\n",
    "gs.fit(X_train, y_train);\n",
    "cvec_log_model = gs.best_estimator_"
   ]
  },
  {
   "cell_type": "markdown",
   "metadata": {},
   "source": [
    "***TFIDF Vectorizer and Logistic Regression***"
   ]
  },
  {
   "cell_type": "code",
   "execution_count": 67,
   "metadata": {},
   "outputs": [
    {
     "name": "stderr",
     "output_type": "stream",
     "text": [
      "/Applications/anaconda3/lib/python3.7/site-packages/sklearn/linear_model/logistic.py:432: FutureWarning: Default solver will be changed to 'lbfgs' in 0.22. Specify a solver to silence this warning.\n",
      "  FutureWarning)\n",
      "/Applications/anaconda3/lib/python3.7/site-packages/sklearn/linear_model/logistic.py:432: FutureWarning: Default solver will be changed to 'lbfgs' in 0.22. Specify a solver to silence this warning.\n",
      "  FutureWarning)\n",
      "/Applications/anaconda3/lib/python3.7/site-packages/sklearn/linear_model/logistic.py:432: FutureWarning: Default solver will be changed to 'lbfgs' in 0.22. Specify a solver to silence this warning.\n",
      "  FutureWarning)\n",
      "/Applications/anaconda3/lib/python3.7/site-packages/sklearn/linear_model/logistic.py:432: FutureWarning: Default solver will be changed to 'lbfgs' in 0.22. Specify a solver to silence this warning.\n",
      "  FutureWarning)\n",
      "/Applications/anaconda3/lib/python3.7/site-packages/sklearn/linear_model/logistic.py:432: FutureWarning: Default solver will be changed to 'lbfgs' in 0.22. Specify a solver to silence this warning.\n",
      "  FutureWarning)\n",
      "/Applications/anaconda3/lib/python3.7/site-packages/sklearn/linear_model/logistic.py:432: FutureWarning: Default solver will be changed to 'lbfgs' in 0.22. Specify a solver to silence this warning.\n",
      "  FutureWarning)\n",
      "/Applications/anaconda3/lib/python3.7/site-packages/sklearn/linear_model/logistic.py:432: FutureWarning: Default solver will be changed to 'lbfgs' in 0.22. Specify a solver to silence this warning.\n",
      "  FutureWarning)\n",
      "/Applications/anaconda3/lib/python3.7/site-packages/sklearn/linear_model/logistic.py:432: FutureWarning: Default solver will be changed to 'lbfgs' in 0.22. Specify a solver to silence this warning.\n",
      "  FutureWarning)\n",
      "/Applications/anaconda3/lib/python3.7/site-packages/sklearn/linear_model/logistic.py:432: FutureWarning: Default solver will be changed to 'lbfgs' in 0.22. Specify a solver to silence this warning.\n",
      "  FutureWarning)\n",
      "/Applications/anaconda3/lib/python3.7/site-packages/sklearn/linear_model/logistic.py:432: FutureWarning: Default solver will be changed to 'lbfgs' in 0.22. Specify a solver to silence this warning.\n",
      "  FutureWarning)\n",
      "/Applications/anaconda3/lib/python3.7/site-packages/sklearn/linear_model/logistic.py:432: FutureWarning: Default solver will be changed to 'lbfgs' in 0.22. Specify a solver to silence this warning.\n",
      "  FutureWarning)\n",
      "/Applications/anaconda3/lib/python3.7/site-packages/sklearn/linear_model/logistic.py:432: FutureWarning: Default solver will be changed to 'lbfgs' in 0.22. Specify a solver to silence this warning.\n",
      "  FutureWarning)\n",
      "/Applications/anaconda3/lib/python3.7/site-packages/sklearn/linear_model/logistic.py:432: FutureWarning: Default solver will be changed to 'lbfgs' in 0.22. Specify a solver to silence this warning.\n",
      "  FutureWarning)\n",
      "/Applications/anaconda3/lib/python3.7/site-packages/sklearn/linear_model/logistic.py:432: FutureWarning: Default solver will be changed to 'lbfgs' in 0.22. Specify a solver to silence this warning.\n",
      "  FutureWarning)\n",
      "/Applications/anaconda3/lib/python3.7/site-packages/sklearn/linear_model/logistic.py:432: FutureWarning: Default solver will be changed to 'lbfgs' in 0.22. Specify a solver to silence this warning.\n",
      "  FutureWarning)\n",
      "/Applications/anaconda3/lib/python3.7/site-packages/sklearn/linear_model/logistic.py:432: FutureWarning: Default solver will be changed to 'lbfgs' in 0.22. Specify a solver to silence this warning.\n",
      "  FutureWarning)\n",
      "/Applications/anaconda3/lib/python3.7/site-packages/sklearn/linear_model/logistic.py:432: FutureWarning: Default solver will be changed to 'lbfgs' in 0.22. Specify a solver to silence this warning.\n",
      "  FutureWarning)\n",
      "/Applications/anaconda3/lib/python3.7/site-packages/sklearn/linear_model/logistic.py:432: FutureWarning: Default solver will be changed to 'lbfgs' in 0.22. Specify a solver to silence this warning.\n",
      "  FutureWarning)\n",
      "/Applications/anaconda3/lib/python3.7/site-packages/sklearn/linear_model/logistic.py:432: FutureWarning: Default solver will be changed to 'lbfgs' in 0.22. Specify a solver to silence this warning.\n",
      "  FutureWarning)\n",
      "/Applications/anaconda3/lib/python3.7/site-packages/sklearn/linear_model/logistic.py:432: FutureWarning: Default solver will be changed to 'lbfgs' in 0.22. Specify a solver to silence this warning.\n",
      "  FutureWarning)\n",
      "/Applications/anaconda3/lib/python3.7/site-packages/sklearn/linear_model/logistic.py:432: FutureWarning: Default solver will be changed to 'lbfgs' in 0.22. Specify a solver to silence this warning.\n",
      "  FutureWarning)\n"
     ]
    }
   ],
   "source": [
    "pipe6 = Pipeline([\n",
    "    ('tfidf', TfidfVectorizer()),\n",
    "    ('log', LogisticRegression())\n",
    "])\n",
    "\n",
    "gs = GridSearchCV(pipe6, tfidf_pipe_params, cv = 5)\n",
    "gs.fit(X_train, y_train);\n",
    "tfidf_log_model = gs.best_estimator_"
   ]
  },
  {
   "cell_type": "markdown",
   "metadata": {},
   "source": [
    "***Count Vectorizer and AdaBoost Classifier***"
   ]
  },
  {
   "cell_type": "code",
   "execution_count": 68,
   "metadata": {},
   "outputs": [],
   "source": [
    "pipe7 = Pipeline([\n",
    "    ('cvec', CountVectorizer()),\n",
    "    ('ada', AdaBoostClassifier())\n",
    "])\n",
    "\n",
    "gs = GridSearchCV(pipe7, cvec_pipe_params, cv = 5)\n",
    "gs.fit(X_train, y_train);\n",
    "cvec_ada_model = gs.best_estimator_"
   ]
  },
  {
   "cell_type": "markdown",
   "metadata": {},
   "source": [
    "***TFIDF Vectorizer and AdaBoost Classifier***"
   ]
  },
  {
   "cell_type": "code",
   "execution_count": 69,
   "metadata": {},
   "outputs": [],
   "source": [
    "pipe8 = Pipeline([\n",
    "    ('tfidf', TfidfVectorizer()),\n",
    "    ('ada', AdaBoostClassifier())\n",
    "])\n",
    "\n",
    "gs = GridSearchCV(pipe8, tfidf_pipe_params, cv = 5)\n",
    "gs.fit(X_train, y_train);\n",
    "tfidf_ada_model = gs.best_estimator_"
   ]
  },
  {
   "cell_type": "markdown",
   "metadata": {},
   "source": [
    "#### Comparing Model Scores\n",
    "\n",
    "Here we print out all the possible model scores that we have instantiated. "
   ]
  },
  {
   "cell_type": "markdown",
   "metadata": {},
   "source": [
    "***Bernoulli NB***"
   ]
  },
  {
   "cell_type": "code",
   "execution_count": 70,
   "metadata": {
    "scrolled": false
   },
   "outputs": [
    {
     "name": "stdout",
     "output_type": "stream",
     "text": [
      "Count Vectorizer Training Score: 0.970681100586378\n",
      "Count Vectorizer Testing Score: 0.9075091575091575\n",
      "\n",
      "TFIDF Vectorizer Training Score: 0.970681100586378\n",
      "TFIDF Vectorizer Testing Score: 0.9075091575091575\n"
     ]
    }
   ],
   "source": [
    "print(f'Count Vectorizer Training Score: {cvec_bnb_model.score(X_train, y_train)}')\n",
    "print(f'Count Vectorizer Testing Score: {cvec_bnb_model.score(X_test, y_test)}')\n",
    "print('')\n",
    "print(f'TFIDF Vectorizer Training Score: {tfidf_bnb_model.score(X_train, y_train)}')\n",
    "print(f'TFIDF Vectorizer Testing Score: {tfidf_bnb_model.score(X_test, y_test)}')"
   ]
  },
  {
   "cell_type": "markdown",
   "metadata": {},
   "source": [
    "**Notes:** We can see that the training and testing scores for both vectorizers are identical, which means that the type of vectorizer does not have an effect on the model. In addition, we can see that the training score entails that our model is 97.07% accurate, but the testing score is only 90.75%, which means our model is overfit. "
   ]
  },
  {
   "cell_type": "markdown",
   "metadata": {},
   "source": [
    "***Multinomial NB***"
   ]
  },
  {
   "cell_type": "code",
   "execution_count": 71,
   "metadata": {},
   "outputs": [
    {
     "name": "stdout",
     "output_type": "stream",
     "text": [
      "Count Vectorizer Training Score: 0.9634641407307172\n",
      "Count Vectorizer Testing Score: 0.8855311355311355\n",
      "\n",
      "TFIDF Vectorizer Training Score: 0.9621109607577808\n",
      "TFIDF Vectorizer Testing Score: 0.8672161172161172\n"
     ]
    }
   ],
   "source": [
    "print(f'Count Vectorizer Training Score: {cvec_mnb_model.score(X_train, y_train)}')\n",
    "print(f'Count Vectorizer Testing Score: {cvec_mnb_model.score(X_test, y_test)}')\n",
    "print('')\n",
    "print(f'TFIDF Vectorizer Training Score: {tfidf_mnb_model.score(X_train, y_train)}')\n",
    "print(f'TFIDF Vectorizer Testing Score: {tfidf_mnb_model.score(X_test, y_test)}')"
   ]
  },
  {
   "cell_type": "markdown",
   "metadata": {},
   "source": [
    "**Notes:** We can see that the training and testing scores for both vectorizers are different, which means that the type of vectorizer does have an effect on the model. For the Multinomial NB model, it does better with the Count Vectorizer. As seen, the training scores for both vectorizers are practically identical. However, the Count Vectorizer has a higher testing score of 88.55% versus 86.72%, which means the model is more accurate with classifying new posts into the correct subreddit. However, both models are still overfit. "
   ]
  },
  {
   "cell_type": "markdown",
   "metadata": {},
   "source": [
    "***Logistic Regression***"
   ]
  },
  {
   "cell_type": "code",
   "execution_count": 72,
   "metadata": {},
   "outputs": [
    {
     "name": "stdout",
     "output_type": "stream",
     "text": [
      "Count Vectorizer Training Score: 0.9697789806044204\n",
      "Count Vectorizer Testing Score: 0.9157509157509157\n",
      "\n",
      "TFIDF Vectorizer Training Score: 0.968425800631484\n",
      "TFIDF Vectorizer Testing Score: 0.9212454212454212\n"
     ]
    }
   ],
   "source": [
    "print(f'Count Vectorizer Training Score: {cvec_log_model.score(X_train, y_train)}')\n",
    "print(f'Count Vectorizer Testing Score: {cvec_log_model.score(X_test, y_test)}')\n",
    "print('')\n",
    "print(f'TFIDF Vectorizer Training Score: {tfidf_log_model.score(X_train, y_train)}')\n",
    "print(f'TFIDF Vectorizer Testing Score: {tfidf_log_model.score(X_test, y_test)}')"
   ]
  },
  {
   "cell_type": "markdown",
   "metadata": {},
   "source": [
    "**Notes:** We can see that the training and testing scores for both vectorizers are different, which means that the type of vectorizer does have an effect on the model. For the Logistic Regression model, it does better with the TFIDF Vectorizer. As seen, the training scores for both vectorizers are practically identical. However, the TFIDF Vectorizer has a higher testing score of 92.12% versus 91.58%, which means the model is more accurate with classifying new posts into the correct subreddit. However, both models are still slightly overfit, but does significantly better than the Naive Bayes models. "
   ]
  },
  {
   "cell_type": "markdown",
   "metadata": {},
   "source": [
    "***AdaBoost Classifier***"
   ]
  },
  {
   "cell_type": "code",
   "execution_count": 73,
   "metadata": {},
   "outputs": [
    {
     "name": "stdout",
     "output_type": "stream",
     "text": [
      "Count Vectorizer Training Score: 0.92106450157871\n",
      "Count Vectorizer Testing Score: 0.9038461538461539\n",
      "\n",
      "TFIDF Vectorizer Training Score: 0.9246729815065403\n",
      "TFIDF Vectorizer Testing Score: 0.9029304029304029\n"
     ]
    }
   ],
   "source": [
    "print(f'Count Vectorizer Training Score: {cvec_ada_model.score(X_train, y_train)}')\n",
    "print(f'Count Vectorizer Testing Score: {cvec_ada_model.score(X_test, y_test)}')\n",
    "print('')\n",
    "print(f'TFIDF Vectorizer Training Score: {tfidf_ada_model.score(X_train, y_train)}')\n",
    "print(f'TFIDF Vectorizer Testing Score: {tfidf_ada_model.score(X_test, y_test)}')"
   ]
  },
  {
   "cell_type": "markdown",
   "metadata": {},
   "source": [
    "**Notes:** We can see that the training and testing scores for both vectorizers are different, which means that the type of vectorizer does have an effect on the model. For the AdaBoost Classifier model, the training scores and testing scores for both vectorizers are practically identical. However, when comparing how close the training and testing scores are to each other when accounting for variance, the Count Vectorizer does slightly better. While the scores are not as high as the Logistic Regression model, the AdaBoost Classifier model, seems to be our best regarding the Bia-Variance Tradeoff. "
   ]
  },
  {
   "cell_type": "markdown",
   "metadata": {},
   "source": [
    "#### Comparing Model Confusion Matrices\n",
    "\n",
    "Here we utilize each of our tuned models to predict our `y` values based on our `X` values from our testing data set. Under each type of model, the first confusion matrix is with the Count Vectorizer and the second confusion matrix is with the TFIDF Vectorizer. We define a function in order to output a confusion matrix. "
   ]
  },
  {
   "cell_type": "code",
   "execution_count": 74,
   "metadata": {},
   "outputs": [],
   "source": [
    "def matrix(model):\n",
    "    # Predict y values from selected model\n",
    "    y_test_preds = model.predict(X_test)\n",
    "    \n",
    "    # Create confusion matrix array\n",
    "    cm = confusion_matrix(y_test, y_test_preds)\n",
    "    \n",
    "    # Convert array to pandas data frame\n",
    "    cm_df = pd.DataFrame(cm, \n",
    "                         columns = ['Predicted Mario Kart', 'Predicted Smash Bros Ultimate'], \n",
    "                         index = ['Actual Mario Kart', 'Actual Smash Bros Ultimate'])\n",
    "    return cm_df"
   ]
  },
  {
   "cell_type": "markdown",
   "metadata": {},
   "source": [
    "***Bernoulli NB***\n",
    "\n",
    "We can see that there's an equal about of Type I and Type II errors, so there may be some words that are highly common on both subreddits inducing these misclassifications such as \"online\" and \"play.\""
   ]
  },
  {
   "cell_type": "code",
   "execution_count": 75,
   "metadata": {},
   "outputs": [
    {
     "data": {
      "text/html": [
       "<div>\n",
       "<style scoped>\n",
       "    .dataframe tbody tr th:only-of-type {\n",
       "        vertical-align: middle;\n",
       "    }\n",
       "\n",
       "    .dataframe tbody tr th {\n",
       "        vertical-align: top;\n",
       "    }\n",
       "\n",
       "    .dataframe thead th {\n",
       "        text-align: right;\n",
       "    }\n",
       "</style>\n",
       "<table border=\"1\" class=\"dataframe\">\n",
       "  <thead>\n",
       "    <tr style=\"text-align: right;\">\n",
       "      <th></th>\n",
       "      <th>Predicted Mario Kart</th>\n",
       "      <th>Predicted Smash Bros Ultimate</th>\n",
       "    </tr>\n",
       "  </thead>\n",
       "  <tbody>\n",
       "    <tr>\n",
       "      <th>Actual Mario Kart</th>\n",
       "      <td>562</td>\n",
       "      <td>50</td>\n",
       "    </tr>\n",
       "    <tr>\n",
       "      <th>Actual Smash Bros Ultimate</th>\n",
       "      <td>51</td>\n",
       "      <td>429</td>\n",
       "    </tr>\n",
       "  </tbody>\n",
       "</table>\n",
       "</div>"
      ],
      "text/plain": [
       "                            Predicted Mario Kart  \\\n",
       "Actual Mario Kart                            562   \n",
       "Actual Smash Bros Ultimate                    51   \n",
       "\n",
       "                            Predicted Smash Bros Ultimate  \n",
       "Actual Mario Kart                                      50  \n",
       "Actual Smash Bros Ultimate                            429  "
      ]
     },
     "execution_count": 75,
     "metadata": {},
     "output_type": "execute_result"
    }
   ],
   "source": [
    "# Count Vectorizer\n",
    "matrix(cvec_bnb_model)"
   ]
  },
  {
   "cell_type": "code",
   "execution_count": 76,
   "metadata": {},
   "outputs": [
    {
     "data": {
      "text/html": [
       "<div>\n",
       "<style scoped>\n",
       "    .dataframe tbody tr th:only-of-type {\n",
       "        vertical-align: middle;\n",
       "    }\n",
       "\n",
       "    .dataframe tbody tr th {\n",
       "        vertical-align: top;\n",
       "    }\n",
       "\n",
       "    .dataframe thead th {\n",
       "        text-align: right;\n",
       "    }\n",
       "</style>\n",
       "<table border=\"1\" class=\"dataframe\">\n",
       "  <thead>\n",
       "    <tr style=\"text-align: right;\">\n",
       "      <th></th>\n",
       "      <th>Predicted Mario Kart</th>\n",
       "      <th>Predicted Smash Bros Ultimate</th>\n",
       "    </tr>\n",
       "  </thead>\n",
       "  <tbody>\n",
       "    <tr>\n",
       "      <th>Actual Mario Kart</th>\n",
       "      <td>562</td>\n",
       "      <td>50</td>\n",
       "    </tr>\n",
       "    <tr>\n",
       "      <th>Actual Smash Bros Ultimate</th>\n",
       "      <td>51</td>\n",
       "      <td>429</td>\n",
       "    </tr>\n",
       "  </tbody>\n",
       "</table>\n",
       "</div>"
      ],
      "text/plain": [
       "                            Predicted Mario Kart  \\\n",
       "Actual Mario Kart                            562   \n",
       "Actual Smash Bros Ultimate                    51   \n",
       "\n",
       "                            Predicted Smash Bros Ultimate  \n",
       "Actual Mario Kart                                      50  \n",
       "Actual Smash Bros Ultimate                            429  "
      ]
     },
     "execution_count": 76,
     "metadata": {},
     "output_type": "execute_result"
    }
   ],
   "source": [
    "# TFIDF Vectorizer \n",
    "matrix(tfidf_bnb_model)"
   ]
  },
  {
   "cell_type": "markdown",
   "metadata": {},
   "source": [
    "***Multinomial NB*** \n",
    "\n",
    "Unlike the Bernoulli NB model, we can see that the Multinomial NB model is misclassifying more Smash Bros Ultimate posts than vice versa. "
   ]
  },
  {
   "cell_type": "code",
   "execution_count": 77,
   "metadata": {},
   "outputs": [
    {
     "data": {
      "text/html": [
       "<div>\n",
       "<style scoped>\n",
       "    .dataframe tbody tr th:only-of-type {\n",
       "        vertical-align: middle;\n",
       "    }\n",
       "\n",
       "    .dataframe tbody tr th {\n",
       "        vertical-align: top;\n",
       "    }\n",
       "\n",
       "    .dataframe thead th {\n",
       "        text-align: right;\n",
       "    }\n",
       "</style>\n",
       "<table border=\"1\" class=\"dataframe\">\n",
       "  <thead>\n",
       "    <tr style=\"text-align: right;\">\n",
       "      <th></th>\n",
       "      <th>Predicted Mario Kart</th>\n",
       "      <th>Predicted Smash Bros Ultimate</th>\n",
       "    </tr>\n",
       "  </thead>\n",
       "  <tbody>\n",
       "    <tr>\n",
       "      <th>Actual Mario Kart</th>\n",
       "      <td>574</td>\n",
       "      <td>38</td>\n",
       "    </tr>\n",
       "    <tr>\n",
       "      <th>Actual Smash Bros Ultimate</th>\n",
       "      <td>87</td>\n",
       "      <td>393</td>\n",
       "    </tr>\n",
       "  </tbody>\n",
       "</table>\n",
       "</div>"
      ],
      "text/plain": [
       "                            Predicted Mario Kart  \\\n",
       "Actual Mario Kart                            574   \n",
       "Actual Smash Bros Ultimate                    87   \n",
       "\n",
       "                            Predicted Smash Bros Ultimate  \n",
       "Actual Mario Kart                                      38  \n",
       "Actual Smash Bros Ultimate                            393  "
      ]
     },
     "execution_count": 77,
     "metadata": {},
     "output_type": "execute_result"
    }
   ],
   "source": [
    "# Count Vectorizer\n",
    "matrix(cvec_mnb_model)"
   ]
  },
  {
   "cell_type": "code",
   "execution_count": 78,
   "metadata": {},
   "outputs": [
    {
     "data": {
      "text/html": [
       "<div>\n",
       "<style scoped>\n",
       "    .dataframe tbody tr th:only-of-type {\n",
       "        vertical-align: middle;\n",
       "    }\n",
       "\n",
       "    .dataframe tbody tr th {\n",
       "        vertical-align: top;\n",
       "    }\n",
       "\n",
       "    .dataframe thead th {\n",
       "        text-align: right;\n",
       "    }\n",
       "</style>\n",
       "<table border=\"1\" class=\"dataframe\">\n",
       "  <thead>\n",
       "    <tr style=\"text-align: right;\">\n",
       "      <th></th>\n",
       "      <th>Predicted Mario Kart</th>\n",
       "      <th>Predicted Smash Bros Ultimate</th>\n",
       "    </tr>\n",
       "  </thead>\n",
       "  <tbody>\n",
       "    <tr>\n",
       "      <th>Actual Mario Kart</th>\n",
       "      <td>587</td>\n",
       "      <td>25</td>\n",
       "    </tr>\n",
       "    <tr>\n",
       "      <th>Actual Smash Bros Ultimate</th>\n",
       "      <td>120</td>\n",
       "      <td>360</td>\n",
       "    </tr>\n",
       "  </tbody>\n",
       "</table>\n",
       "</div>"
      ],
      "text/plain": [
       "                            Predicted Mario Kart  \\\n",
       "Actual Mario Kart                            587   \n",
       "Actual Smash Bros Ultimate                   120   \n",
       "\n",
       "                            Predicted Smash Bros Ultimate  \n",
       "Actual Mario Kart                                      25  \n",
       "Actual Smash Bros Ultimate                            360  "
      ]
     },
     "execution_count": 78,
     "metadata": {},
     "output_type": "execute_result"
    }
   ],
   "source": [
    "# TFIDF Vectorizer \n",
    "matrix(tfidf_mnb_model)"
   ]
  },
  {
   "cell_type": "markdown",
   "metadata": {},
   "source": [
    "***Logistic Regression***\n",
    "\n",
    "Similarly to the Multinomial NB model, we can see that the Logistic Regression model does the opposite regarding Type I and Type II errors. This model is misclassifying more Mario Kart posts than vice versa. "
   ]
  },
  {
   "cell_type": "code",
   "execution_count": 79,
   "metadata": {},
   "outputs": [
    {
     "data": {
      "text/html": [
       "<div>\n",
       "<style scoped>\n",
       "    .dataframe tbody tr th:only-of-type {\n",
       "        vertical-align: middle;\n",
       "    }\n",
       "\n",
       "    .dataframe tbody tr th {\n",
       "        vertical-align: top;\n",
       "    }\n",
       "\n",
       "    .dataframe thead th {\n",
       "        text-align: right;\n",
       "    }\n",
       "</style>\n",
       "<table border=\"1\" class=\"dataframe\">\n",
       "  <thead>\n",
       "    <tr style=\"text-align: right;\">\n",
       "      <th></th>\n",
       "      <th>Predicted Mario Kart</th>\n",
       "      <th>Predicted Smash Bros Ultimate</th>\n",
       "    </tr>\n",
       "  </thead>\n",
       "  <tbody>\n",
       "    <tr>\n",
       "      <th>Actual Mario Kart</th>\n",
       "      <td>529</td>\n",
       "      <td>83</td>\n",
       "    </tr>\n",
       "    <tr>\n",
       "      <th>Actual Smash Bros Ultimate</th>\n",
       "      <td>9</td>\n",
       "      <td>471</td>\n",
       "    </tr>\n",
       "  </tbody>\n",
       "</table>\n",
       "</div>"
      ],
      "text/plain": [
       "                            Predicted Mario Kart  \\\n",
       "Actual Mario Kart                            529   \n",
       "Actual Smash Bros Ultimate                     9   \n",
       "\n",
       "                            Predicted Smash Bros Ultimate  \n",
       "Actual Mario Kart                                      83  \n",
       "Actual Smash Bros Ultimate                            471  "
      ]
     },
     "execution_count": 79,
     "metadata": {},
     "output_type": "execute_result"
    }
   ],
   "source": [
    "# Count Vectorizer\n",
    "matrix(cvec_log_model)"
   ]
  },
  {
   "cell_type": "code",
   "execution_count": 80,
   "metadata": {},
   "outputs": [
    {
     "data": {
      "text/html": [
       "<div>\n",
       "<style scoped>\n",
       "    .dataframe tbody tr th:only-of-type {\n",
       "        vertical-align: middle;\n",
       "    }\n",
       "\n",
       "    .dataframe tbody tr th {\n",
       "        vertical-align: top;\n",
       "    }\n",
       "\n",
       "    .dataframe thead th {\n",
       "        text-align: right;\n",
       "    }\n",
       "</style>\n",
       "<table border=\"1\" class=\"dataframe\">\n",
       "  <thead>\n",
       "    <tr style=\"text-align: right;\">\n",
       "      <th></th>\n",
       "      <th>Predicted Mario Kart</th>\n",
       "      <th>Predicted Smash Bros Ultimate</th>\n",
       "    </tr>\n",
       "  </thead>\n",
       "  <tbody>\n",
       "    <tr>\n",
       "      <th>Actual Mario Kart</th>\n",
       "      <td>538</td>\n",
       "      <td>74</td>\n",
       "    </tr>\n",
       "    <tr>\n",
       "      <th>Actual Smash Bros Ultimate</th>\n",
       "      <td>12</td>\n",
       "      <td>468</td>\n",
       "    </tr>\n",
       "  </tbody>\n",
       "</table>\n",
       "</div>"
      ],
      "text/plain": [
       "                            Predicted Mario Kart  \\\n",
       "Actual Mario Kart                            538   \n",
       "Actual Smash Bros Ultimate                    12   \n",
       "\n",
       "                            Predicted Smash Bros Ultimate  \n",
       "Actual Mario Kart                                      74  \n",
       "Actual Smash Bros Ultimate                            468  "
      ]
     },
     "execution_count": 80,
     "metadata": {},
     "output_type": "execute_result"
    }
   ],
   "source": [
    "# TFIDF Vectorizer \n",
    "matrix(tfidf_log_model)"
   ]
  },
  {
   "cell_type": "markdown",
   "metadata": {},
   "source": [
    "***AdaBoost Classifier***\n",
    "\n",
    "Similarly to the Logistic Regression model, we can see that the AdaBoost Classifier model is misclassifying more Mario Kart posts than vice versa. However, the misclassification numbers are nearly identical, which is where our Bias-Variance Tradeoff comes in. Our model performs almost as well with data it's been trained on versus data it has never seen. "
   ]
  },
  {
   "cell_type": "code",
   "execution_count": 81,
   "metadata": {},
   "outputs": [
    {
     "data": {
      "text/html": [
       "<div>\n",
       "<style scoped>\n",
       "    .dataframe tbody tr th:only-of-type {\n",
       "        vertical-align: middle;\n",
       "    }\n",
       "\n",
       "    .dataframe tbody tr th {\n",
       "        vertical-align: top;\n",
       "    }\n",
       "\n",
       "    .dataframe thead th {\n",
       "        text-align: right;\n",
       "    }\n",
       "</style>\n",
       "<table border=\"1\" class=\"dataframe\">\n",
       "  <thead>\n",
       "    <tr style=\"text-align: right;\">\n",
       "      <th></th>\n",
       "      <th>Predicted Mario Kart</th>\n",
       "      <th>Predicted Smash Bros Ultimate</th>\n",
       "    </tr>\n",
       "  </thead>\n",
       "  <tbody>\n",
       "    <tr>\n",
       "      <th>Actual Mario Kart</th>\n",
       "      <td>513</td>\n",
       "      <td>99</td>\n",
       "    </tr>\n",
       "    <tr>\n",
       "      <th>Actual Smash Bros Ultimate</th>\n",
       "      <td>6</td>\n",
       "      <td>474</td>\n",
       "    </tr>\n",
       "  </tbody>\n",
       "</table>\n",
       "</div>"
      ],
      "text/plain": [
       "                            Predicted Mario Kart  \\\n",
       "Actual Mario Kart                            513   \n",
       "Actual Smash Bros Ultimate                     6   \n",
       "\n",
       "                            Predicted Smash Bros Ultimate  \n",
       "Actual Mario Kart                                      99  \n",
       "Actual Smash Bros Ultimate                            474  "
      ]
     },
     "execution_count": 81,
     "metadata": {},
     "output_type": "execute_result"
    }
   ],
   "source": [
    "# Count Vectorizer\n",
    "matrix(cvec_ada_model)"
   ]
  },
  {
   "cell_type": "code",
   "execution_count": 82,
   "metadata": {},
   "outputs": [
    {
     "data": {
      "text/html": [
       "<div>\n",
       "<style scoped>\n",
       "    .dataframe tbody tr th:only-of-type {\n",
       "        vertical-align: middle;\n",
       "    }\n",
       "\n",
       "    .dataframe tbody tr th {\n",
       "        vertical-align: top;\n",
       "    }\n",
       "\n",
       "    .dataframe thead th {\n",
       "        text-align: right;\n",
       "    }\n",
       "</style>\n",
       "<table border=\"1\" class=\"dataframe\">\n",
       "  <thead>\n",
       "    <tr style=\"text-align: right;\">\n",
       "      <th></th>\n",
       "      <th>Predicted Mario Kart</th>\n",
       "      <th>Predicted Smash Bros Ultimate</th>\n",
       "    </tr>\n",
       "  </thead>\n",
       "  <tbody>\n",
       "    <tr>\n",
       "      <th>Actual Mario Kart</th>\n",
       "      <td>513</td>\n",
       "      <td>99</td>\n",
       "    </tr>\n",
       "    <tr>\n",
       "      <th>Actual Smash Bros Ultimate</th>\n",
       "      <td>7</td>\n",
       "      <td>473</td>\n",
       "    </tr>\n",
       "  </tbody>\n",
       "</table>\n",
       "</div>"
      ],
      "text/plain": [
       "                            Predicted Mario Kart  \\\n",
       "Actual Mario Kart                            513   \n",
       "Actual Smash Bros Ultimate                     7   \n",
       "\n",
       "                            Predicted Smash Bros Ultimate  \n",
       "Actual Mario Kart                                      99  \n",
       "Actual Smash Bros Ultimate                            473  "
      ]
     },
     "execution_count": 82,
     "metadata": {},
     "output_type": "execute_result"
    }
   ],
   "source": [
    "# TFIDF Vectorizer \n",
    "matrix(tfidf_ada_model)"
   ]
  },
  {
   "cell_type": "markdown",
   "metadata": {},
   "source": [
    "### Testing Potential Game Names Classification\n",
    "Through our analyzing all our different models, our best model is the Count Vectorizer and AdaBoost Classifier. With this model, our goal is to test the names the marketing team is arguing amongst to see if we can knock out any contenders. "
   ]
  },
  {
   "cell_type": "code",
   "execution_count": 83,
   "metadata": {},
   "outputs": [],
   "source": [
    "ideal_pipe = Pipeline([\n",
    "    ('cvec', CountVectorizer()),\n",
    "    ('ada', AdaBoostClassifier())\n",
    "])\n",
    "\n",
    "gs = GridSearchCV(ideal_pipe, cvec_pipe_params, cv = 5)\n",
    "gs.fit(X_train, y_train);\n",
    "best_model = gs.best_estimator_"
   ]
  },
  {
   "cell_type": "code",
   "execution_count": 86,
   "metadata": {},
   "outputs": [
    {
     "data": {
      "text/plain": [
       "array([0, 0, 0, 1, 1])"
      ]
     },
     "execution_count": 86,
     "metadata": {},
     "output_type": "execute_result"
    }
   ],
   "source": [
    "potential_names = [\n",
    "    {'title': 'mario kart world', 'subreddit': 0}, \n",
    "    {'title': 'mario kart 3000', 'subreddit': 0}, \n",
    "    {'title': 'luigi kart', 'subreddit': 0}, \n",
    "    {'title': 'mushroom race', 'subreddit': 0}, \n",
    "    {'title': 'luigi drive', 'subreddit': 0}          \n",
    "]\n",
    "\n",
    "potential_df = pd.DataFrame(potential_names)\n",
    "\n",
    "X = potential_df['title']\n",
    "y = potential_df['subreddit']\n",
    "predictions = best_model.predict(X)\n",
    "\n",
    "predictions"
   ]
  },
  {
   "cell_type": "markdown",
   "metadata": {},
   "source": [
    "**Notes:** From our model, we can immediately knock out \"Mushroom Race\" and \"Luigi Drive\" as contenders for the next Mario Kart iteration game name as it would be classified to the Smash Bros Ultimate subreddit instead of the Mario Kart subreddit. "
   ]
  },
  {
   "cell_type": "markdown",
   "metadata": {},
   "source": [
    "### Outside Research\n",
    "What is Reddit? Reddit is home to thousands of communities, endless conversation, an authentic human connection. Whether you're into breaking news, sports, TV fan theories, or a never-ending stream of the internet's cutest animals, there's a community on Reddit for you. \n",
    "\n",
    "How does Reddit Work? Every day, millions of people around the world post, vote, and comment in communities organized around their interests. \n",
    "- Post: The community can share content by posting stories, links, images, and videos.\n",
    "- Comment: The community comments on posts. Comments provide discussion and often humor. \n",
    "- Vote: Comments & posts can be upvoted or downvoted. The most interesting content rises to the top. \n",
    "\n",
    "**Mario Kart Subreddit**\n",
    "\n",
    "> About Community: \n",
    "- 63.7k racers\n",
    "- Created on January 12, 2011\n",
    "\n",
    "Subreddit Rules: \n",
    "1. No unsourced artwork\n",
    "2. No low-quality posts \n",
    "3. No unapproved self-advertisements\n",
    "4. No NSFW posts\n",
    "\n",
    "Filters: \n",
    "- Discussion\n",
    "- Meta\n",
    "- Humor \n",
    "- Replay/Clip\n",
    "- News/Article\n",
    "- Competitive\n",
    "- Fan Content\n",
    "- Achievement \n",
    "\n",
    "There are many rules for the Mario Kart subreddit where the general basis is to post PG quality related posts. As we can see, there are numerous filters so there isn't a very consistent discussion going on as it spreads across various topics. \n",
    "\n",
    "**Smash Bros Ultimate Subreddit**\n",
    "\n",
    "> About Community: \n",
    "- 292k returning veterans\n",
    "- Created on June 12, 2018\n",
    "\n",
    "Subreddit Rules: \n",
    "1. Be excellent to one another\n",
    "2. No low-effort/misleading posts\n",
    "3. No off topic posts\n",
    "4. Keep it clean\n",
    "5. No advertising or self-promotion\n",
    "6. Mark spoilers\n",
    "7. No reposts\n",
    "8. No stolen content\n",
    "\n",
    "Filters: \n",
    "- Meme/Funny\n",
    "- Image/Gif\n",
    "- Video\n",
    "- Fan Made\n",
    "- Speculation\n",
    "- Official News\n",
    "\n",
    "Unlike the Mario Kart subreddit, the Smash Bros Ultimate subreddit has many more rules to help steer discussions or posts in a specific direction. As a result, there are also fewer filters, especially considering the fact that there is over 3 times the number of Reddit users in the community. It shows that there is a high amount of consistency across posts. "
   ]
  },
  {
   "cell_type": "markdown",
   "metadata": {},
   "source": [
    "### Conclusion and Recommendations\n",
    "After exploring a few different models and tuning those models by playing with the hyperparameters, we discovered that our Count Vectorizer AdaBoost Classifier model is ideal in differentiating titles into the correct reddit as it is 92.11% accurate in classifying our training set and 90.38% accurate in classifying our testing set. As shown in the table below, we can see all the training and testing model accuracy scores. While our Count Vectorizer AdaBoost Classifier model doesn't necessarily have the highest scores, we care more about the two scores being as close together as possible because it shows that our model isn't overfit to our training data. For instance, if we look at the Multinomial NB model, the training score is quite high with a 95.49% accuracy, but the testing score is nearly 10 points lower at 84.54% accuracy, which means that this model is very overfit to the training data set and doesn't do well in classifying new titles into the correct subreddit. Overall, our Count Vectorizer AdaBoost Classifier model still does fairly well considering that it managed to predict about 90% of our titles to the correct subreddit out of a sample of over 3000 rows (which means that it was inaccurate on about 300 rows). \n",
    "\n",
    "|Model|Training Score|Testing Score|\n",
    "|---|---|---|\n",
    "|Bernoulli NB|0.9657|0.8828|\n",
    "|Bernoulli NB (CVEC)|0.9707|0.9075|\n",
    "|Bernoulli NB (TFIDF)|0.9707|0.9075|\n",
    "|Multinomial NB|0.9635|0.8800|\n",
    "|Multinomial NB (CVEC)|0.9635|0.8855|\n",
    "|Multinomial NB (TFIDF)|0.9621|0.8672|\n",
    "|Logistic Regression|0.9756|0.9057|\n",
    "|Logistic Regression (CVEC)|0.9698|0.9158|\n",
    "|Logistic Regression (TFIDF)|0.9684|0.9212|\n",
    "|AdaBoost Classifier|0.9197|0.8993|\n",
    "|AdaBoost Classifier (CVEC)|0.9211|0.9038|\n",
    "|AdaBoost Classifier (TFIDF)|0.9247|0.9029|\n",
    "\n",
    "However, we do need to consider that this is still a relatively \"surface level\" model so there are downfalls to this model. Primarily, our model is only catered to two specific subreddits: Mario Kart and Smash Bros Ultimate. Therefore, we can't apply this model to other subreddits such as Mario Party or Super Mario Bros unless we make some modifications. In addition, we could also tune our hyperparameters further as we are only exploring four hyperparameters out of a myriad of possible combinations that could increase our model's accuracy so it can learn more and be capable of thinking more like a human. Furthermore, this data is also time based as recommendations made today may not be the same a year from now as these subreddits are constantly growing and topics may change. \n",
    "\n",
    "Overall, we suggest that Nintendo market their new Mario Kart game as essentially the title. We were able to minimize the number of options being discussed to \"Mario Kart World,\" \"Mario Kart 3000,\" and 'Luigi Kart.\" We discovered in the Mario Kart subreddit, the word \"kart\" (when looking at a single word option) or \"mario kart\" (when looking at a consecutive two word option) were the most popular to maintaining that name consistency would be best as opposed to introducing \"Mushroom Race\" or \"Luigi Drive\". Building off of the consecutive two word option, the next couple most common word combinations are: \"kart tour\" and \"kart deluxe\" which refer to the latest, Mario Kart Tour, and Mario Kart Deluxe 8, respectively. Therefore, the marketing team may want to keep in mind about having an add-on so we wouldn't recommend \"Luigi Kart.\" Additionally, we recommend refraining from including numbers in the name based on the sole foundation of what we discovered from Mario Kart 8 Deluxe being referred to as \"mario kart deluxe\" instead of \"mario kart 8.\" As a result, \"Mario Kart World\" would probably be the best option. "
   ]
  }
 ],
 "metadata": {
  "kernelspec": {
   "display_name": "Python 3",
   "language": "python",
   "name": "python3"
  },
  "language_info": {
   "codemirror_mode": {
    "name": "ipython",
    "version": 3
   },
   "file_extension": ".py",
   "mimetype": "text/x-python",
   "name": "python",
   "nbconvert_exporter": "python",
   "pygments_lexer": "ipython3",
   "version": "3.7.4"
  }
 },
 "nbformat": 4,
 "nbformat_minor": 2
}
