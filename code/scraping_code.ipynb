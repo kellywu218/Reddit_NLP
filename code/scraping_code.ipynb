{
 "cells": [
  {
   "cell_type": "markdown",
   "metadata": {},
   "source": [
    "# Project 3: Web APIs and NLP\n",
    "_By: Kelly Wu (NYC - Tensors)_"
   ]
  },
  {
   "cell_type": "markdown",
   "metadata": {},
   "source": [
    "## Contents\n",
    "- [Imports](#Imports)\n",
    "- [Importing Our Subreddits](#Importing-Our-Subreddits)\n",
    "- [Cleaning Our Subreddit Dataframes](#Cleaning-Our-Subreddit-Dataframes)\n"
   ]
  },
  {
   "cell_type": "markdown",
   "metadata": {},
   "source": [
    "### Imports\n",
    "Here we import the libraries we need in order to webscrape from our selected two subreddits: tennis and tabletennis. "
   ]
  },
  {
   "cell_type": "code",
   "execution_count": 1,
   "metadata": {},
   "outputs": [],
   "source": [
    "import pandas as pd\n",
    "import datetime as dt\n",
    "import time\n",
    "import requests"
   ]
  },
  {
   "cell_type": "markdown",
   "metadata": {},
   "source": [
    "### Importing Our Subreddits \n",
    "After selecting our subreddits, we create a function that will automatically pull requests from the specified variable and repeat the process five times to give us our entire DataFrame that splits up each subreddit's subfields such as title and content. "
   ]
  },
  {
   "cell_type": "code",
   "execution_count": 2,
   "metadata": {},
   "outputs": [],
   "source": [
    "subreddit_1 = 'SmashBrosUltimate'\n",
    "subreddit_2 = 'mariokart'"
   ]
  },
  {
   "cell_type": "code",
   "execution_count": 3,
   "metadata": {},
   "outputs": [],
   "source": [
    "# Code from Tom\n",
    "def query_pushshift(subreddit, kind='submission', skip = 30, times = 10, \n",
    "                    subfield = ['title', 'selftext', 'subreddit', 'created_utc', \n",
    "                                'author', 'num_comments', 'score', 'is_self'],\n",
    "                    comfields = ['body', 'score', 'created_utc']):\n",
    "    stem = \"https://api.pushshift.io/reddit/search/{}/?subreddit={}&size=500\".format(kind, subreddit)\n",
    "    mylist = []\n",
    "    for x in range(1, times + 1):\n",
    "        URL = \"{}&after={}d\".format(stem, skip * x)\n",
    "        print(URL)\n",
    "        \n",
    "        response = requests.get(URL)\n",
    "        assert response.status_code == 200\n",
    "        mine = response.json()['data']\n",
    "        df = pd.DataFrame.from_dict(mine)\n",
    "        mylist.append(df)\n",
    "        \n",
    "        time.sleep(2)\n",
    "    \n",
    "    full = pd.concat(mylist, sort=False)\n",
    "    \n",
    "    if kind == \"submission\":\n",
    "        full = full[subfield]\n",
    "        full = full.drop_duplicates()\n",
    "        full = full.loc[full['is_self'] == True]\n",
    "    \n",
    "    def get_date(created):\n",
    "        return dt.date.fromtimestamp(created)\n",
    "    \n",
    "    _timestamp = full[\"created_utc\"].apply(get_date)\n",
    "    full['timestamp'] = _timestamp\n",
    "    \n",
    "    print(full.shape)\n",
    "    \n",
    "    return full "
   ]
  },
  {
   "cell_type": "code",
   "execution_count": 4,
   "metadata": {},
   "outputs": [
    {
     "name": "stdout",
     "output_type": "stream",
     "text": [
      "https://api.pushshift.io/reddit/search/submission/?subreddit=SmashBrosUltimate&size=500&after=30d\n",
      "https://api.pushshift.io/reddit/search/submission/?subreddit=SmashBrosUltimate&size=500&after=60d\n",
      "https://api.pushshift.io/reddit/search/submission/?subreddit=SmashBrosUltimate&size=500&after=90d\n",
      "https://api.pushshift.io/reddit/search/submission/?subreddit=SmashBrosUltimate&size=500&after=120d\n",
      "https://api.pushshift.io/reddit/search/submission/?subreddit=SmashBrosUltimate&size=500&after=150d\n",
      "https://api.pushshift.io/reddit/search/submission/?subreddit=SmashBrosUltimate&size=500&after=180d\n",
      "https://api.pushshift.io/reddit/search/submission/?subreddit=SmashBrosUltimate&size=500&after=210d\n",
      "https://api.pushshift.io/reddit/search/submission/?subreddit=SmashBrosUltimate&size=500&after=240d\n",
      "https://api.pushshift.io/reddit/search/submission/?subreddit=SmashBrosUltimate&size=500&after=270d\n",
      "https://api.pushshift.io/reddit/search/submission/?subreddit=SmashBrosUltimate&size=500&after=300d\n",
      "(1472, 9)\n"
     ]
    }
   ],
   "source": [
    "sub_1_query = query_pushshift(subreddit_1)"
   ]
  },
  {
   "cell_type": "code",
   "execution_count": 5,
   "metadata": {},
   "outputs": [
    {
     "name": "stdout",
     "output_type": "stream",
     "text": [
      "https://api.pushshift.io/reddit/search/submission/?subreddit=mariokart&size=500&after=30d\n",
      "https://api.pushshift.io/reddit/search/submission/?subreddit=mariokart&size=500&after=60d\n",
      "https://api.pushshift.io/reddit/search/submission/?subreddit=mariokart&size=500&after=90d\n",
      "https://api.pushshift.io/reddit/search/submission/?subreddit=mariokart&size=500&after=120d\n",
      "https://api.pushshift.io/reddit/search/submission/?subreddit=mariokart&size=500&after=150d\n",
      "https://api.pushshift.io/reddit/search/submission/?subreddit=mariokart&size=500&after=180d\n",
      "https://api.pushshift.io/reddit/search/submission/?subreddit=mariokart&size=500&after=210d\n",
      "https://api.pushshift.io/reddit/search/submission/?subreddit=mariokart&size=500&after=240d\n",
      "https://api.pushshift.io/reddit/search/submission/?subreddit=mariokart&size=500&after=270d\n",
      "https://api.pushshift.io/reddit/search/submission/?subreddit=mariokart&size=500&after=300d\n",
      "(1892, 9)\n"
     ]
    }
   ],
   "source": [
    "sub_2_query = query_pushshift(subreddit_2)"
   ]
  },
  {
   "cell_type": "markdown",
   "metadata": {},
   "source": [
    "### Cleaning Our Subreddit Dataframes\n",
    "Here we selected three features to focus on as opposed to looking at numerous features pulled from the function above when webscraping. We isolate the title, content, and the subreddit it is from. Then we do some mild cleaning of our newly created DataFrames by getting rid of any duplicates or null values."
   ]
  },
  {
   "cell_type": "code",
   "execution_count": 6,
   "metadata": {},
   "outputs": [],
   "source": [
    "features = ['title', 'selftext', 'subreddit']"
   ]
  },
  {
   "cell_type": "code",
   "execution_count": 7,
   "metadata": {},
   "outputs": [
    {
     "data": {
      "text/html": [
       "<div>\n",
       "<style scoped>\n",
       "    .dataframe tbody tr th:only-of-type {\n",
       "        vertical-align: middle;\n",
       "    }\n",
       "\n",
       "    .dataframe tbody tr th {\n",
       "        vertical-align: top;\n",
       "    }\n",
       "\n",
       "    .dataframe thead th {\n",
       "        text-align: right;\n",
       "    }\n",
       "</style>\n",
       "<table border=\"1\" class=\"dataframe\">\n",
       "  <thead>\n",
       "    <tr style=\"text-align: right;\">\n",
       "      <th></th>\n",
       "      <th>title</th>\n",
       "      <th>selftext</th>\n",
       "      <th>subreddit</th>\n",
       "    </tr>\n",
       "  </thead>\n",
       "  <tbody>\n",
       "    <tr>\n",
       "      <th>0</th>\n",
       "      <td>Who's your main?</td>\n",
       "      <td>Mine:\\nKing k. Roll\\nDonkey Kong\\nNess\\nLucas\\...</td>\n",
       "      <td>SmashBrosUltimate</td>\n",
       "    </tr>\n",
       "    <tr>\n",
       "      <th>1</th>\n",
       "      <td>What character to main?</td>\n",
       "      <td>I really like Fox and spent 20 hours trying to...</td>\n",
       "      <td>SmashBrosUltimate</td>\n",
       "    </tr>\n",
       "    <tr>\n",
       "      <th>13</th>\n",
       "      <td>Challenge</td>\n",
       "      <td>Type the reveal tagline of a character you wan...</td>\n",
       "      <td>SmashBrosUltimate</td>\n",
       "    </tr>\n",
       "    <tr>\n",
       "      <th>17</th>\n",
       "      <td>New Smash character prediction</td>\n",
       "      <td>So my theory is that when they announce the se...</td>\n",
       "      <td>SmashBrosUltimate</td>\n",
       "    </tr>\n",
       "    <tr>\n",
       "      <th>18</th>\n",
       "      <td>Mewtwo kinda thicc</td>\n",
       "      <td>Lowkey bruh he got some thicc ass thighs what ...</td>\n",
       "      <td>SmashBrosUltimate</td>\n",
       "    </tr>\n",
       "  </tbody>\n",
       "</table>\n",
       "</div>"
      ],
      "text/plain": [
       "                             title  \\\n",
       "0                 Who's your main?   \n",
       "1          What character to main?   \n",
       "13                       Challenge   \n",
       "17  New Smash character prediction   \n",
       "18              Mewtwo kinda thicc   \n",
       "\n",
       "                                             selftext          subreddit  \n",
       "0   Mine:\\nKing k. Roll\\nDonkey Kong\\nNess\\nLucas\\...  SmashBrosUltimate  \n",
       "1   I really like Fox and spent 20 hours trying to...  SmashBrosUltimate  \n",
       "13  Type the reveal tagline of a character you wan...  SmashBrosUltimate  \n",
       "17  So my theory is that when they announce the se...  SmashBrosUltimate  \n",
       "18  Lowkey bruh he got some thicc ass thighs what ...  SmashBrosUltimate  "
      ]
     },
     "execution_count": 7,
     "metadata": {},
     "output_type": "execute_result"
    }
   ],
   "source": [
    "smash = sub_1_query[features]\n",
    "smash.head()"
   ]
  },
  {
   "cell_type": "code",
   "execution_count": 8,
   "metadata": {},
   "outputs": [
    {
     "data": {
      "text/html": [
       "<div>\n",
       "<style scoped>\n",
       "    .dataframe tbody tr th:only-of-type {\n",
       "        vertical-align: middle;\n",
       "    }\n",
       "\n",
       "    .dataframe tbody tr th {\n",
       "        vertical-align: top;\n",
       "    }\n",
       "\n",
       "    .dataframe thead th {\n",
       "        text-align: right;\n",
       "    }\n",
       "</style>\n",
       "<table border=\"1\" class=\"dataframe\">\n",
       "  <thead>\n",
       "    <tr style=\"text-align: right;\">\n",
       "      <th></th>\n",
       "      <th>title</th>\n",
       "      <th>selftext</th>\n",
       "      <th>subreddit</th>\n",
       "    </tr>\n",
       "  </thead>\n",
       "  <tbody>\n",
       "    <tr>\n",
       "      <th>0</th>\n",
       "      <td>Time Trial issues</td>\n",
       "      <td>[removed]</td>\n",
       "      <td>mariokart</td>\n",
       "    </tr>\n",
       "    <tr>\n",
       "      <th>1</th>\n",
       "      <td>Time Trial [MK8DX]</td>\n",
       "      <td>So I have always considered myself very good ...</td>\n",
       "      <td>mariokart</td>\n",
       "    </tr>\n",
       "    <tr>\n",
       "      <th>11</th>\n",
       "      <td>Is my build awful? (MK8DX)</td>\n",
       "      <td>[removed]</td>\n",
       "      <td>mariokart</td>\n",
       "    </tr>\n",
       "    <tr>\n",
       "      <th>12</th>\n",
       "      <td>mario kart maker</td>\n",
       "      <td>[removed]</td>\n",
       "      <td>mariokart</td>\n",
       "    </tr>\n",
       "    <tr>\n",
       "      <th>15</th>\n",
       "      <td>Research for a YouTube video I’m working on.</td>\n",
       "      <td>[removed]</td>\n",
       "      <td>mariokart</td>\n",
       "    </tr>\n",
       "  </tbody>\n",
       "</table>\n",
       "</div>"
      ],
      "text/plain": [
       "                                           title  \\\n",
       "0                              Time Trial issues   \n",
       "1                             Time Trial [MK8DX]   \n",
       "11                    Is my build awful? (MK8DX)   \n",
       "12                              mario kart maker   \n",
       "15  Research for a YouTube video I’m working on.   \n",
       "\n",
       "                                             selftext  subreddit  \n",
       "0                                           [removed]  mariokart  \n",
       "1    So I have always considered myself very good ...  mariokart  \n",
       "11                                          [removed]  mariokart  \n",
       "12                                          [removed]  mariokart  \n",
       "15                                          [removed]  mariokart  "
      ]
     },
     "execution_count": 8,
     "metadata": {},
     "output_type": "execute_result"
    }
   ],
   "source": [
    "kart = sub_2_query[features]\n",
    "kart.head()"
   ]
  },
  {
   "cell_type": "code",
   "execution_count": 9,
   "metadata": {},
   "outputs": [
    {
     "name": "stdout",
     "output_type": "stream",
     "text": [
      "(1472, 3)\n",
      "(1892, 3)\n"
     ]
    }
   ],
   "source": [
    "print(smash.shape)\n",
    "print(kart.shape)"
   ]
  },
  {
   "cell_type": "code",
   "execution_count": 10,
   "metadata": {},
   "outputs": [],
   "source": [
    "# Drop any duplicated rows\n",
    "smash = smash.drop_duplicates(subset = 'title')\n",
    "kart = kart.drop_duplicates(subset = 'title')"
   ]
  },
  {
   "cell_type": "code",
   "execution_count": 11,
   "metadata": {},
   "outputs": [
    {
     "data": {
      "text/plain": [
       "title        0\n",
       "selftext     3\n",
       "subreddit    0\n",
       "dtype: int64"
      ]
     },
     "execution_count": 11,
     "metadata": {},
     "output_type": "execute_result"
    }
   ],
   "source": [
    "smash.isna().sum()"
   ]
  },
  {
   "cell_type": "code",
   "execution_count": 12,
   "metadata": {},
   "outputs": [
    {
     "data": {
      "text/plain": [
       "title         0\n",
       "selftext     12\n",
       "subreddit     0\n",
       "dtype: int64"
      ]
     },
     "execution_count": 12,
     "metadata": {},
     "output_type": "execute_result"
    }
   ],
   "source": [
    "kart.isna().sum()"
   ]
  },
  {
   "cell_type": "code",
   "execution_count": 13,
   "metadata": {},
   "outputs": [],
   "source": [
    "# Drop rows with any null values\n",
    "smash = smash.dropna()\n",
    "kart = kart.dropna()"
   ]
  },
  {
   "cell_type": "code",
   "execution_count": 14,
   "metadata": {},
   "outputs": [
    {
     "name": "stdout",
     "output_type": "stream",
     "text": [
      "(1453, 3)\n",
      "(1857, 3)\n"
     ]
    }
   ],
   "source": [
    "# Checking the number of rows after dropping duplicates and nulls\n",
    "print(smash.shape)\n",
    "print(kart.shape)"
   ]
  },
  {
   "cell_type": "code",
   "execution_count": 15,
   "metadata": {},
   "outputs": [],
   "source": [
    "# Exporting our scraped subreddit dataframes \n",
    "smash.to_csv('./smashultimate.csv', index = False)\n",
    "kart.to_csv('./mariokart.csv', index = False)"
   ]
  }
 ],
 "metadata": {
  "kernelspec": {
   "display_name": "Python 3",
   "language": "python",
   "name": "python3"
  },
  "language_info": {
   "codemirror_mode": {
    "name": "ipython",
    "version": 3
   },
   "file_extension": ".py",
   "mimetype": "text/x-python",
   "name": "python",
   "nbconvert_exporter": "python",
   "pygments_lexer": "ipython3",
   "version": "3.7.4"
  }
 },
 "nbformat": 4,
 "nbformat_minor": 2
}
